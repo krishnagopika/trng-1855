{
 "cells": [
  {
   "cell_type": "markdown",
   "metadata": {},
   "source": [
    "# Lecture Plan\n",
    "\n",
    "\n",
    "1. Vector DB Orientation\n",
    "2. ChromaDB\n",
    "\n",
    "---"
   ]
  },
  {
   "cell_type": "markdown",
   "metadata": {},
   "source": [
    "# VectorDB Introduction\n",
    "\n",
    "Vector database is a type of database that indexes, stores and manipulates the high dimensional vector data. \n",
    "\n",
    "- 80% of the data out there is unstructured and cannot fit into a RD. \n",
    "\n",
    "It provides:\n",
    "- fast retreival and similarity search\n",
    "- CRUD operations\n",
    "- metadata filtering\n",
    "- horizantal scaling\n",
    "\n",
    "![Vector DB](./images/VectorDB-Representation.png)\n",
    "\n",
    "**Vector Embedding:** The process of conversion of data (audio, visual representations and documents) into numerical values called vectors. Vectors have both magnitude and dimension and that makes it easy for sematic searching.\n",
    "\n",
    "## Embedding Model\n",
    "\n",
    "The embedding model in VectorDB is the core component, which converts textual data into numerical vectors for efficient storage and querying.\n",
    "\n",
    "## Vector Index\n",
    "\n",
    "Vector index is a datastructure that converts and retreives the vector data.\n",
    "\n",
    "## Vector Indexing\n",
    "\n",
    "Conversion of unstructered data into vectors using embeding model and similar vectors are organised together using indexing. This results in swift querying.\n",
    "\n",
    "## Vector Index vs Vector Database\n",
    "\n",
    "- Data Management: \n",
    "   - Performace and fault tolerance: sharding and replication \n",
    "   - Monitoring: Resourse usage, query performance and system health.\n",
    "- Metadata storage and filtering\n",
    "- Scalability\n",
    "- Real time updates\n",
    "- Backups and collections\n",
    "- Ecosystem integration\n",
    "- Data Security and access control\n",
    "\n",
    "## Vector Database usecases\n",
    "\n",
    "1. Long term memory for LLM (RAG)\n",
    "2. Semantic search & similarity search\n",
    "3. Recomendation systems\n",
    "4. Machine learning: Clustering and Classification\n",
    "5. Anamoly detection (Rare events, IT Threats and Financial Fraud)\n",
    "\n",
    "\n",
    "## Why Vector Databases?\n",
    "\n",
    "Unstructured data is if various forms and all of these are stored using different approaches like key-pairs, documents, graphs. Vector data would solve this problem because all forms of data can be converted to vector data.\n",
    "\n",
    "## Vector Databse\n",
    "\n",
    "Vector Database operates on vectors. In vector databses, a similarity metric is applied to find a vector that is most similar to the query. Vector DB uses alogarithims for Aprroximate Nearest Neighbour (ANN) search. The algorithms optmize the search through hashing, quantization and graph-based search. These algorithms are assembled into a pipeline. The results are approximate. Accuracy of result is inversely proportional to the speed of the retreival.\n",
    "\n",
    "1. Indexing: The Vector db indexes vectors using algorithms. This maps the vectors to a data structure that will enable faster retreiving.\n",
    "2. Querying: The vector db compares the indexed query vector to the existing indexed vectors to find the nearest neighbours.\n",
    "3. Post processing: In some cases, the data retreived is post processsed. post processing can include re-ranking the the results using a difeerent similarity measure.\n",
    "\n",
    "![Vector DB](./images/VectorDB-pipeline.png)\n"
   ]
  },
  {
   "cell_type": "markdown",
   "metadata": {},
   "source": [
    "## Algorithms\n",
    "\n",
    "The algorithms are used to enable the swift querying of vectors by creating a data structure that can be traversed quickly. Commonly, the original vectors is compressed to optimise the quey process.\n",
    "\n",
    "### Random Projection\n",
    "\n",
    "A dot product of high-dimensional vector matrix and  low-dimensional random projection matrix results in low-dimensional projected matrix. The similarity is preserved but the dimensions are reduced. When we query, the same random projection matrix is used project the query vector onto a lower-dimensional space. The projected query vectors are compared with the projected vectors to find the nearest neighbours. Random projection matric is an approximate method and th projection quality depends on the properties of projection matrix. The more random the projection matrix is the better the quiality of the projection. Random projection matric can be computationally expensive for large datasets.\n",
    "\n",
    "![RP](./images/random-projection.png)\n",
    "\n",
    "### Product Quantization\n",
    "\n",
    "Lossy compression technique (The data is nit restored to its original form after compression). The compression process involves:\n",
    "\n",
    "1. splitting: The vectors are broken into segments.\n",
    "2. Training: building a code book for each segment. Codebook is made up od the center points of culsters created by the k-means clustering performed on each vector's segments.\n",
    "3. Encoding: The algorithm assigns a specific code to each segment.\n",
    "4. Querying: The algorithm breacks down the vectors into sub-vectors and quantizes them using the same cookbook. Then, it uses the Indexed codes to find the nearest vector to the query vector.\n",
    "\n",
    "The accuracy depends on the indexing values in cookbook( the K value in K means, higher the K, higher the no of segements, higher the codes)\n",
    "\n",
    "![RQ](./images/product-quantization.png)\n",
    "\n",
    "### Locality-sensitive hashing\n",
    "\n",
    "LSH is a techinique for indexing in the context of an approximate nearest-neighbour search. The vectors are hashed used hashing functions and categorised into tables in buckets. The same hashing function is used to hash the query. The hashed query is placed to the table with similar vectors and the search is simple because the similarity search is performed for the values in a table not the bulk values. The accuracy depends on the properties of the hash functions. The number of hash functions is directly proportional to the accuracy. The large number of hash functions is computationally expensive.\n",
    "\n",
    "![LSH](./images/locally-sensitive-hashing.png)\n",
    "\n",
    "### Hierarchical Navigable Small World (HNSW)\n",
    "\n",
    "\n",
    "HNSW creates a heirarchical, tree like structures where each node represents a set of vectors and the edges are used to connect the nodes that are similar. When a similarity search is applied, it uses this graph to navigate throgh the structure and retreives the vectors that comtain the closest vectors.\n",
    "\n",
    "\n",
    "![HNSW](./images/hierachical-navigable-small-worlds.png)\n",
    "\n",
    "\n",
    "HNSW = Hierarchical (Layers) + NSW (Greedy routing)\n",
    "\n",
    "NSW: local minima is achieved when there no vertices closer to traget vertices. \n",
    "\n",
    "High Degree V : multiple connections\n",
    "Low Degree V : low connections\n",
    "\n",
    "to avoid local minima higher degree vertices are used. \n",
    "\n",
    "In HNSW the HDV's are spread across the multiple layers. When local minima is reached till n-1 we move to the next layer. once the local minima for layer n is reached its considered as stopping condition.\n",
    "\n",
    "\n",
    "### Similarity measures\n",
    "\n",
    "Similarity measures are used to compare the query vectors with the indexed vectors.\n",
    "\n",
    "1. **Cosine similarity:** cosine of the angle between two vectors belongs to [-1,1]. 0 represents orthoginal vectors, 1-identical, -1-diametrically opposed (opposite), 0-orthoginal (non similar).\n",
    "\n",
    "ex: semantic search, document classification, recomendation system based on past behavior.\n",
    "\n",
    "2. **Euclidean distance:** measures the straight line distance between two vectors ranging between [0,infinity]\n",
    "\n",
    "ex: locally sensitive hashing\n",
    "\n",
    "3. **Dot Product or Inner Product:** product of magnitudes of two vectors and the cosine of angle between then. ranges between [-infinity,infinity]. positive-similar, 0- orthogonal and negative-opposite vectors.\n",
    "\n",
    "ex: LLM training\n",
    "\n",
    "<i><b>note:</b></i> In chroma db the l2 (squared euclidian) distance, cosine and inner product(dot product) are used as distance metrics. In Pinecone eucliden distance, cosine and dot product(inner product) are used as distance metrics.\n",
    "\n",
    "## Filtering\n",
    "\n",
    "Every vector store contains two indexes: a vector index and metadata index. While quering for similar vectors the metadata filtering is done. The filtering process can be:\n",
    "\n",
    "1. Pre-filtering: during pre-filtering the metadata is filtered and search is performed. This process can lead to overlooking necessary data based on meta data filtering. It can reduce the search space but extensive metadata filtering can lead to computational overhead. It can lead to brute-force search which increases the time complexity\n",
    "2. Post-filtering: In this approach, the metadata filtering is done after the vector search. This ensures that the relevent information is considered but it can be an added computational overhead because the search space in same and the metadata filtering is an additional process. It can lead to few or no results.\n",
    "\n",
    "*Note*: Pinecone uses Single-Stage Filtering. It combines both the vector indexes and metadata indexes.\n",
    "\n",
    "\n",
    "\n"
   ]
  },
  {
   "cell_type": "code",
   "execution_count": null,
   "metadata": {},
   "outputs": [],
   "source": [
    "! pip install faiss-cpu sentence-transformers"
   ]
  },
  {
   "cell_type": "markdown",
   "metadata": {},
   "source": []
  },
  {
   "cell_type": "code",
   "execution_count": 83,
   "metadata": {},
   "outputs": [],
   "source": [
    "from sentence_transformers import SentenceTransformer\n",
    "\n",
    "emb_model = SentenceTransformer('thenlper/gte-large')"
   ]
  },
  {
   "cell_type": "code",
   "execution_count": null,
   "metadata": {},
   "outputs": [],
   "source": [
    "! pip install PyPDF2"
   ]
  },
  {
   "cell_type": "code",
   "execution_count": 12,
   "metadata": {},
   "outputs": [
    {
     "data": {
      "text/plain": [
       "['The Velveteen RabbitByMargery Williams\\n\\n\\n',\n",
       " \"There was once a velveteen rabbit, and in the beginning he was really splendid. He was fat and bunchy, as a rabbit should be; his coat was spotted brown and white, he had real thread whiskers, and his ears were lined with pink sateen. On Christmas morning, when he sat wedged in the top of the Boy's stocking, with a sprig of holly between his paws, the effect was charming.There were other things in the stocking, nuts and oranges and a toy engine, and chocolate almonds and a clockwork mouse, but the Rabbit was quite the best of all. For at least two hours the Boy loved him, and then Aunts and Uncles came to dinner, and there was a great rustling of tissue paper and unwrapping of parcels, and in the excitement of looking at all the new presents the Velveteen Rabbit was forgotten.For a long time he lived in the toy cupboard or on the nursery ﬂoor, and no one thought very much about him. He was naturally shy, and being only made of velveteen, some of the more expensive toys quite snubbed him. The mechanical toys were very superior, and looked down upon every one else; they were full of modern ideas, and pretended they were real. The model boat, who had lived through two seasons and lost most of his paint, caught the tone from them and never missed an opportunity of referring to his rigging in technical terms. The Rabbit could not claim to be a model of anything, for he didn't know that real rabbits existed; he thought they were all stuffed with sawdust like himself, and he understood that sawdust was quite out-of-date and should never be mentioned in modern circles. Even Timothy, the jointed wooden lion, who was made by the disabled soldiers, and should have had broader views, put on airs and pretended he was connected with Government. Between them all the poor little Rabbit was made to feel himself very insigniﬁcant and commonplace, and the only person who was kind to him at all was the Skin Horse.The Skin Horse had lived longer in the nursery than any of the others. He was so old that his brown coat was bald in patches and showed the The Velveteen Rabbit by Margery Williams\\n2Created for Lit2Go on the web at etc.usf.edu\\n\\n\",\n",
       " 'seams underneath, and most of the hairs in his tail had been pulled out to string bead necklaces. He was wise, for he had seen a long succession of mechanical toys arrive to boast and swagger, and by-and-by break their mainsprings and pass away, and he knew that they were only toys, and would never turn into anything else. For nursery magic is very strange and wonderful, and only those playthings that are old and wise and experienced like the Skin Horse understand all about it.\"What is REAL?\" asked the Rabbit one day, when they were lying side by side near the nursery fender, before Nana came to tidy the room. \"Does it mean having things that buzz inside you and a stick-out handle?\"\"Real isn\\'t how you are made,\" said the Skin Horse. \"It\\'s a thing that happens to you. When a child loves you for a long, long time, not just to play with, but REALLY loves you, then you become Real.\"\"Does it hurt?\" asked the Rabbit.\"Sometimes,\" said the Skin Horse, for he was always truthful. \"When you are Real you don\\'t mind being hurt.\"\"Does it happen all at once, like being wound up,\" he asked, \"or bit by bit?\"\"It doesn\\'t happen all at once,\" said the Skin Horse. \"You become. It takes a long time. That\\'s why it doesn\\'t happen often to people who break easily, or have sharp edges, or who have to be carefully kept. Generally, by the time you are Real, most of your hair has been loved off, and your eyes drop out and you get loose in the joints and very shabby. But these things don\\'t matter at all, because once you are Real you can\\'t be ugly, except to people who don\\'t understand.\"The Velveteen Rabbit by Margery Williams\\n3Created for Lit2Go on the web at etc.usf.edu\\n\\n',\n",
       " '\"I suppose you are real?\" said the Rabbit. And then he wished he had not said it, for he thought the Skin Horse might be sensitive. But the Skin Horse only smiled.\"The Boy\\'s Uncle made me Real,\" he said. \"That was a great many years ago; but once you are Real you can\\'t become unreal again. It lasts for always.\"The Rabbit sighed. He thought it would be a long time before this magic called Real happened to him. He longed to become Real, to know what it felt like; and yet the idea of growing shabby and losing his eyes and whiskers was rather sad. He wished that he could become it without these uncomfortable things happening to him.There was a person called Nana who ruled the nursery. Sometimes she took no notice of the playthings lying about, and sometimes, for no reason whatever, she went swooping about like a great wind and hustled them away in cupboards. She called this \"tidying up,\" and the playthings all hated it, especially the tin ones. The Rabbit didn\\'t mind it so much, for wherever he was thrown he came down soft.One evening, when the Boy was going to bed, he couldn\\'t ﬁnd the china dog that always slept with him. Nana was in a hurry, and it was too much trouble to hunt for china dogs at bedtime, so she simply looked about her, and seeing that the toy cupboard door stood open, she made a swoop.\"Here,\" she said, \"take your old Bunny! He\\'ll do to sleep with you!\" And she dragged the Rabbit out by one ear, and put him into the Boy\\'s arms.That night, and for many nights after, the Velveteen Rabbit slept in the Boy\\'s bed. At ﬁrst he found it rather uncomfortable, for the Boy hugged him very tight, and sometimes he rolled over on him, and sometimes he pushed him so far under the pillow that the Rabbit could scarcely breathe. And he missed, too, those long moonlight hours in the nursery, The Velveteen Rabbit by Margery Williams\\n4Created for Lit2Go on the web at etc.usf.edu\\n\\n',\n",
       " 'when all the house was silent, and his talks with the Skin Horse. But very soon he grew to like it, for the Boy used to talk to him, and made nice tunnels for him under the bedclothes that he said were like the burrows the real rabbits lived in. And they had splendid games together, in whispers, when Nana had gone away to her supper and left the night-light burning on the mantelpiece. And when the Boy dropped off to sleep, the Rabbit would snuggle down close under his little warm chin and dream, with the Boy\\'s hands clasped close round him all night long.And so time went on, and the little Rabbit was very happy–so happy that he never noticed how his beautiful velveteen fur was getting shabbier and shabbier, and his tail becoming unsewn, and all the pink rubbed off his nose where the Boy had kissed him.Spring came, and they had long days in the garden, for wherever the Boy went the Rabbit went too. He had rides in the wheelbarrow, and picnics on the grass, and lovely fairy huts built for him under the raspberry canes behind the ﬂower border. And once, when the Boy was called away suddenly to go out to tea, the Rabbit was left out on the lawn until long after dusk, and Nana had to come and look for him with the candle because the Boy couldn\\'t go to sleep unless he was there. He was wet through with the dew and quite earthy from diving into the burrows the Boy had made for him in the ﬂower bed, and Nana grumbled as she rubbed him off with a corner of her apron.\"You must have your old Bunny!\" she said. \"Fancy all that fuss for a toy!\"The Boy sat up in bed and stretched out his hands.\"Give me my Bunny!\" he said. \"You mustn\\'t say that. He isn\\'t a toy. He\\'s REAL!\"When the little Rabbit heard that he was happy, for he knew that what the Skin Horse had said was true at last. The nursery magic had The Velveteen Rabbit by Margery Williams\\n5Created for Lit2Go on the web at etc.usf.edu\\n\\n',\n",
       " 'happened to him, and he was a toy no longer. He was Real. The Boy himself had said it.That night he was almost too happy to sleep, and so much love stirred in his little sawdust heart that it almost burst. And into his boot-button eyes, that had long ago lost their polish, there came a look of wisdom and beauty, so that even Nana noticed it next morning when she picked him up, and said, \"I declare if that old Bunny hasn\\'t got quite a knowing expression!\"\\xa0That was a wonderful Summer!Near the house where they lived there was a wood, and in the long June evenings the Boy liked to go there after tea to play. He took the Velveteen Rabbit with him, and before he wandered off to pick ﬂowers, or play at brigands among the trees, he always made the Rabbit a little nest somewhere among the bracken, where he would be quite cosy, for he was a kind-hearted little boy and he liked Bunny to be comfortable. One evening, while the Rabbit was lying there alone, watching the ants that ran to and fro between his velvet paws in the grass, he saw two strange beings creep out of the tall bracken near him.They were rabbits like himself, but quite furry and brand-new. They must have been very well made, for their seams didn\\'t show at all, and they changed shape in a queer way when they moved; one minute they were long and thin and the next minute fat and bunchy, instead of always staying the same like he did. Their feet padded softly on the ground, and they crept quite close to him, twitching their noses, while the Rabbit stared hard to see which side the clockwork stuck out, for he knew that people who jump generally have something to wind them up. But he couldn\\'t see it. They were evidently a new kind of rabbit altogether.They stared at him, and the little Rabbit stared back. And all the time their noses twitched.The Velveteen Rabbit by Margery Williams\\n6Created for Lit2Go on the web at etc.usf.edu\\n\\n',\n",
       " '\"Why don\\'t you get up and play with us?\" one of them asked.\"I don\\'t feel like it,\" said the Rabbit, for he didn\\'t want to explain that he had no clockwork.\"Ho!\" said the furry rabbit. \"It\\'s as easy as anything,\" And he gave a big hop sideways and stood on his hind legs.\"I don\\'t believe you can!\" he said.\"I can!\" said the little Rabbit. \"I can jump higher than anything!\" He meant when the Boy threw him, but of course he didn\\'t want to say so.\"Can you hop on your hind legs?\" asked the furry rabbit.That was a dreadful question, for the Velveteen Rabbit had no hind legs at all! The back of him was made all in one piece, like a pincushion. He sat still in the bracken, and hoped that the other rabbits wouldn\\'t notice.\"I don\\'t want to!\" he said again.But the wild rabbits have very sharp eyes. And this one stretched out his neck and looked.\"He hasn\\'t got any hind legs!\" he called out. \"Fancy a rabbit without any hind legs!\" And he began to laugh.\"I have!\" cried the little Rabbit. \"I have got hind legs! I am sitting on them!\"\"Then stretch them out and show me, like this!\" said the wild rabbit. And he began to whirl round and dance, till the little Rabbit got quite dizzy.\"I don\\'t like dancing,\" he said. \"I\\'d rather sit still!\"The Velveteen Rabbit by Margery Williams\\n7Created for Lit2Go on the web at etc.usf.edu\\n\\n',\n",
       " 'But all the while he was longing to dance, for a funny new tickly feeling ran through him, and he felt he would give anything in the world to be able to jump about like these rabbits did.The strange rabbit stopped dancing, and came quite close. He came so close this time that his long whiskers brushed the Velveteen Rabbit\\'s ear, and then he wrinkled his nose suddenly and ﬂattened his ears and jumped backwards.\"He doesn\\'t smell right!\" he exclaimed. \"He isn\\'t a rabbit at all! He isn\\'t real!\"\"I am Real!\" said the little Rabbit. \"I am Real! The Boy said so!\" And he nearly began to cry.Just then there was a sound of footsteps, and the Boy ran past near them, and with a stamp of feet and a ﬂash of white tails the two strange rabbits disappeared.\"Come back and play with me!\" called the little Rabbit. \"Oh, do come back! I know I am Real!\"But there was no answer, only the little ants ran to and fro, and the bracken swayed gently where the two strangers had passed. The Velveteen Rabbit was all alone.\"Oh, dear!\" he thought. \"Why did they run away like that? Why couldn\\'t they stop and talk to me?\"For a long time he lay very still, watching the bracken, and hoping that they would come back. But they never returned, and presently the sun sank lower and the little white moths ﬂuttered out, and the Boy came and carried him home.\\xa0The Velveteen Rabbit by Margery Williams\\n8Created for Lit2Go on the web at etc.usf.edu\\n\\n',\n",
       " \"Weeks passed, and the little Rabbit grew very old and shabby, but the Boy loved him just as much. He loved him so hard that he loved all his whiskers off, and the pink lining to his ears turned grey, and his brown spots faded. He even began to lose his shape, and he scarcely looked like a rabbit any more, except to the Boy. To him he was always beautiful, and that was all that the little Rabbit cared about. He didn't mind how he looked to other people, because the nursery magic had made him Real, and when you are Real shabbiness doesn't matter.And then, one day, the Boy was ill.His face grew very ﬂushed, and he talked in his sleep, and his little body was so hot that it burned the Rabbit when he held him close. Strange people came and went in the nursery, and a light burned all night and through it all the little Velveteen Rabbit lay there, hidden from sight under the bedclothes, and he never stirred, for he was afraid that if they found him some one might take him away, and he knew that the Boy needed him.It was a long weary time, for the Boy was too ill to play, and the little Rabbit found it rather dull with nothing to do all day long. But he snuggled down patiently, and looked forward to the time when the Boy should be well again, and they would go out in the garden amongst the ﬂowers and the butterﬂies and play splendid games in the raspberry thicket like they used to. All sorts of delightful things he planned, and while the Boy lay half asleep he crept up close to the pillow and whispered them in his ear. And presently the fever turned, and the Boy got better. He was able to sit up in bed and look at picture-books, while the little Rabbit cuddled close at his side. And one day, they let him get up and dress.It was a bright, sunny morning, and the windows stood wide open. They had carried the Boy out on to the balcony, wrapped in a shawl, and the little Rabbit lay tangled up among the bedclothes, thinking.The Velveteen Rabbit by Margery Williams\\n9Created for Lit2Go on the web at etc.usf.edu\\n\\n\",\n",
       " 'The Boy was going to the seaside to-morrow. Everything was arranged, and now it only remained to carry out the doctor\\'s orders. They talked about it all, while the little Rabbit lay under the bedclothes, with just his head peeping out, and listened. The room was to be disinfected, and all the books and toys that the Boy had played with in bed must be burnt.\"Hurrah!\" thought the little Rabbit. \"To-morrow we shall go to the seaside!\" For the boy had often talked of the seaside, and he wanted very much to see the big waves coming in, and the tiny crabs, and the sand castles.Just then Nana caught sight of him.\"How about his old Bunny?\" she asked.\"That?\" said the doctor. \"Why, it\\'s a mass of scarlet fever germs!–Burn it at once. What? Nonsense! Get him a new one. He mustn\\'t have that any more!\"And so the little Rabbit was put into a sack with the old picture-books and a lot of rubbish, and carried out to the end of the garden behind the fowl-house. That was a ﬁne place to make a bonﬁre, only the gardener was too busy just then to attend to it. He had the potatoes to dig and the green peas to gather, but next morning he promised to come quite early and burn the whole lot.That night the Boy slept in a different bedroom, and he had a new bunny to sleep with him. It was a splendid bunny, all white plush with real glass eyes, but the Boy was too excited to care very much about it. For to-morrow he was going to the seaside, and that in itself was such a wonderful thing that he could think of nothing else.And while the Boy was asleep, dreaming of the seaside, the little Rabbit lay among the old picture-books in the corner behind the fowl-house, and he felt very lonely. The sack had been left untied, and so by The Velveteen Rabbit by Margery Williams\\n10Created for Lit2Go on the web at etc.usf.edu\\n\\n',\n",
       " 'wriggling a bit he was able to get his head through the opening and look out. He was shivering a little, for he had always been used to sleeping in a proper bed, and by this time his coat had worn so thin and threadbare from hugging that it was no longer any protection to him. Near by he could see the thicket of raspberry canes, growing tall and close like a tropical jungle, in whose shadow he had played with the Boy on bygone mornings. He thought of those long sunlit hours in the garden–how happy they were–and a great sadness came over him. He seemed to see them all pass before him, each more beautiful than the other, the fairy huts in the ﬂower-bed, the quiet evenings in the wood when he lay in the bracken and the little ants ran over his paws; the wonderful day when he ﬁrst knew that he was Real. He thought of the Skin Horse, so wise and gentle, and all that he had told him. Of what use was it to be loved and lose one\\'s beauty and become Real if it all ended like this? And a tear, a real tear, trickled down his little shabby velvet nose and fell to the ground.And then a strange thing happened. For where the tear had fallen a ﬂower grew out of the ground, a mysterious ﬂower, not at all like any that grew in the garden. It had slender green leaves the colour of emeralds, and in the centre of the leaves a blossom like a golden cup. It was so beautiful that the little Rabbit forgot to cry, and just lay there watching it. And presently the blossom opened, and out of it there stepped a fairy.She was quite the loveliest fairy in the whole world. Her dress was of pearl and dew-drops, and there were ﬂowers round her neck and in her hair, and her face was like the most perfect ﬂower of all. And she came close to the little Rabbit and gathered him up in her arms and kissed him on his velveteen nose that was all damp from crying.\"Little Rabbit,\" she said, \"don\\'t you know who I am?\"The Velveteen Rabbit by Margery Williams\\n11Created for Lit2Go on the web at etc.usf.edu\\n\\n',\n",
       " 'The Rabbit looked up at her, and it seemed to him that he had seen her face before, but he couldn\\'t think where.\"I am the nursery magic Fairy,\" she said. \"I take care of all the playthings that the children have loved. When they are old and worn out and the children don\\'t need them any more, then I come and take them away with me and turn them into Real.\"\"Wasn\\'t I Real before?\" asked the little Rabbit.\"You were Real to the Boy,\" the Fairy said, \"because he loved you. Now you shall be Real to every one.\"And she held the little Rabbit close in her arms and ﬂew with him into the wood.It was light now, for the moon had risen. All the forest was beautiful, and the fronds of the bracken shone like frosted silver. In the open glade between the tree-trunks the wild rabbits danced with their shadows on the velvet grass, but when they saw the Fairy they all stopped dancing and stood round in a ring to stare at her.\"I\\'ve brought you a new playfellow,\" the Fairy said. \"You must be very kind to him and teach him all he needs to know in Rabbit-land, for he is going to live with you for ever and ever!\"And she kissed the little Rabbit again and put him down on the grass.\"Run and play, little Rabbit!\" she said.But the little Rabbit sat quite still for a moment and never moved. For when he saw all the wild rabbits dancing around him he suddenly remembered about his hind legs, and he didn\\'t want them to see that he was made all in one piece. He did not know that when the Fairy kissed him that last time she had changed him altogether. And he might have The Velveteen Rabbit by Margery Williams\\n12Created for Lit2Go on the web at etc.usf.edu\\n\\n',\n",
       " 'sat there a long time, too shy to move, if just then something hadn\\'t tickled his nose, and before he thought what he was doing he lifted his hind toe to scratch it.And he found that he actually had hind legs! Instead of dingy velveteen he had brown fur, soft and shiny, his ears twitched by themselves, and his whiskers were so long that they brushed the grass. He gave one leap and the joy of using those hind legs was so great that he went springing about the turf on them, jumping sideways and whirling round as the others did, and he grew so excited that when at last he did stop to look for the Fairy she had gone.He was a Real Rabbit at last, at home with the other rabbits.\\xa0Autumn passed and Winter, and in the Spring, when the days grew warm and sunny, the Boy went out to play in the wood behind the house. And while he was playing, two rabbits crept out from the bracken and peeped at him. One of them was brown all over, but the other had strange markings under his fur, as though long ago he had been spotted, and the spots still showed through. And about his little soft nose and his round black eyes there was something familiar, so that the Boy thought to himself:\"Why, he looks just like my old Bunny that was lost when I had scarlet fever!\"But he never knew that it really was his own Bunny, come back to look at the child who had ﬁrst helped him to be Real.THE ENDThe Velveteen Rabbit by Margery Williams\\n13Created for Lit2Go on the web at etc.usf.edu\\n\\n']"
      ]
     },
     "execution_count": 12,
     "metadata": {},
     "output_type": "execute_result"
    }
   ],
   "source": [
    "from PyPDF2 import PdfReader\n",
    "\n",
    "reader = PdfReader('./assets/the-velveteen-rabbit.pdf')\n",
    "\n",
    "no_of_pages = len(reader.pages)\n",
    "\n",
    "text = [ reader.pages[page].extract_text() + '\\n\\n' for page in range(no_of_pages)]\n",
    "\n",
    "text"
   ]
  },
  {
   "cell_type": "code",
   "execution_count": 13,
   "metadata": {},
   "outputs": [
    {
     "data": {
      "text/plain": [
       "['the velveteen rabbitbymargery williams\\n\\n\\n',\n",
       " \"there was once a velveteen rabbit, and in the beginning he was really splendid. he was fat and bunchy, as a rabbit should be; his coat was spotted brown and white, he had real thread whiskers, and his ears were lined with pink sateen. on christmas morning, when he sat wedged in the top of the boy's stocking, with a sprig of holly between his paws, the effect was charming.there were other things in the stocking, nuts and oranges and a toy engine, and chocolate almonds and a clockwork mouse, but the rabbit was quite the best of all. for at least two hours the boy loved him, and then aunts and uncles came to dinner, and there was a great rustling of tissue paper and unwrapping of parcels, and in the excitement of looking at all the new presents the velveteen rabbit was forgotten.for a long time he lived in the toy cupboard or on the nursery ﬂoor, and no one thought very much about him. he was naturally shy, and being only made of velveteen, some of the more expensive toys quite snubbed him. the mechanical toys were very superior, and looked down upon every one else; they were full of modern ideas, and pretended they were real. the model boat, who had lived through two seasons and lost most of his paint, caught the tone from them and never missed an opportunity of referring to his rigging in technical terms. the rabbit could not claim to be a model of anything, for he didn't know that real rabbits existed; he thought they were all stuffed with sawdust like himself, and he understood that sawdust was quite out-of-date and should never be mentioned in modern circles. even timothy, the jointed wooden lion, who was made by the disabled soldiers, and should have had broader views, put on airs and pretended he was connected with government. between them all the poor little rabbit was made to feel himself very insigniﬁcant and commonplace, and the only person who was kind to him at all was the skin horse.the skin horse had lived longer in the nursery than any of the others. he was so old that his brown coat was bald in patches and showed the the velveteen rabbit by margery williams\\n2created for lit2go on the web at etc.usf.edu\\n\\n\",\n",
       " 'seams underneath, and most of the hairs in his tail had been pulled out to string bead necklaces. he was wise, for he had seen a long succession of mechanical toys arrive to boast and swagger, and by-and-by break their mainsprings and pass away, and he knew that they were only toys, and would never turn into anything else. for nursery magic is very strange and wonderful, and only those playthings that are old and wise and experienced like the skin horse understand all about it.\"what is real?\" asked the rabbit one day, when they were lying side by side near the nursery fender, before nana came to tidy the room. \"does it mean having things that buzz inside you and a stick-out handle?\"\"real isn\\'t how you are made,\" said the skin horse. \"it\\'s a thing that happens to you. when a child loves you for a long, long time, not just to play with, but really loves you, then you become real.\"\"does it hurt?\" asked the rabbit.\"sometimes,\" said the skin horse, for he was always truthful. \"when you are real you don\\'t mind being hurt.\"\"does it happen all at once, like being wound up,\" he asked, \"or bit by bit?\"\"it doesn\\'t happen all at once,\" said the skin horse. \"you become. it takes a long time. that\\'s why it doesn\\'t happen often to people who break easily, or have sharp edges, or who have to be carefully kept. generally, by the time you are real, most of your hair has been loved off, and your eyes drop out and you get loose in the joints and very shabby. but these things don\\'t matter at all, because once you are real you can\\'t be ugly, except to people who don\\'t understand.\"the velveteen rabbit by margery williams\\n3created for lit2go on the web at etc.usf.edu\\n\\n',\n",
       " '\"i suppose you are real?\" said the rabbit. and then he wished he had not said it, for he thought the skin horse might be sensitive. but the skin horse only smiled.\"the boy\\'s uncle made me real,\" he said. \"that was a great many years ago; but once you are real you can\\'t become unreal again. it lasts for always.\"the rabbit sighed. he thought it would be a long time before this magic called real happened to him. he longed to become real, to know what it felt like; and yet the idea of growing shabby and losing his eyes and whiskers was rather sad. he wished that he could become it without these uncomfortable things happening to him.there was a person called nana who ruled the nursery. sometimes she took no notice of the playthings lying about, and sometimes, for no reason whatever, she went swooping about like a great wind and hustled them away in cupboards. she called this \"tidying up,\" and the playthings all hated it, especially the tin ones. the rabbit didn\\'t mind it so much, for wherever he was thrown he came down soft.one evening, when the boy was going to bed, he couldn\\'t ﬁnd the china dog that always slept with him. nana was in a hurry, and it was too much trouble to hunt for china dogs at bedtime, so she simply looked about her, and seeing that the toy cupboard door stood open, she made a swoop.\"here,\" she said, \"take your old bunny! he\\'ll do to sleep with you!\" and she dragged the rabbit out by one ear, and put him into the boy\\'s arms.that night, and for many nights after, the velveteen rabbit slept in the boy\\'s bed. at ﬁrst he found it rather uncomfortable, for the boy hugged him very tight, and sometimes he rolled over on him, and sometimes he pushed him so far under the pillow that the rabbit could scarcely breathe. and he missed, too, those long moonlight hours in the nursery, the velveteen rabbit by margery williams\\n4created for lit2go on the web at etc.usf.edu\\n\\n',\n",
       " 'when all the house was silent, and his talks with the skin horse. but very soon he grew to like it, for the boy used to talk to him, and made nice tunnels for him under the bedclothes that he said were like the burrows the real rabbits lived in. and they had splendid games together, in whispers, when nana had gone away to her supper and left the night-light burning on the mantelpiece. and when the boy dropped off to sleep, the rabbit would snuggle down close under his little warm chin and dream, with the boy\\'s hands clasped close round him all night long.and so time went on, and the little rabbit was very happy–so happy that he never noticed how his beautiful velveteen fur was getting shabbier and shabbier, and his tail becoming unsewn, and all the pink rubbed off his nose where the boy had kissed him.spring came, and they had long days in the garden, for wherever the boy went the rabbit went too. he had rides in the wheelbarrow, and picnics on the grass, and lovely fairy huts built for him under the raspberry canes behind the ﬂower border. and once, when the boy was called away suddenly to go out to tea, the rabbit was left out on the lawn until long after dusk, and nana had to come and look for him with the candle because the boy couldn\\'t go to sleep unless he was there. he was wet through with the dew and quite earthy from diving into the burrows the boy had made for him in the ﬂower bed, and nana grumbled as she rubbed him off with a corner of her apron.\"you must have your old bunny!\" she said. \"fancy all that fuss for a toy!\"the boy sat up in bed and stretched out his hands.\"give me my bunny!\" he said. \"you mustn\\'t say that. he isn\\'t a toy. he\\'s real!\"when the little rabbit heard that he was happy, for he knew that what the skin horse had said was true at last. the nursery magic had the velveteen rabbit by margery williams\\n5created for lit2go on the web at etc.usf.edu\\n\\n',\n",
       " 'happened to him, and he was a toy no longer. he was real. the boy himself had said it.that night he was almost too happy to sleep, and so much love stirred in his little sawdust heart that it almost burst. and into his boot-button eyes, that had long ago lost their polish, there came a look of wisdom and beauty, so that even nana noticed it next morning when she picked him up, and said, \"i declare if that old bunny hasn\\'t got quite a knowing expression!\"\\xa0that was a wonderful summer!near the house where they lived there was a wood, and in the long june evenings the boy liked to go there after tea to play. he took the velveteen rabbit with him, and before he wandered off to pick ﬂowers, or play at brigands among the trees, he always made the rabbit a little nest somewhere among the bracken, where he would be quite cosy, for he was a kind-hearted little boy and he liked bunny to be comfortable. one evening, while the rabbit was lying there alone, watching the ants that ran to and fro between his velvet paws in the grass, he saw two strange beings creep out of the tall bracken near him.they were rabbits like himself, but quite furry and brand-new. they must have been very well made, for their seams didn\\'t show at all, and they changed shape in a queer way when they moved; one minute they were long and thin and the next minute fat and bunchy, instead of always staying the same like he did. their feet padded softly on the ground, and they crept quite close to him, twitching their noses, while the rabbit stared hard to see which side the clockwork stuck out, for he knew that people who jump generally have something to wind them up. but he couldn\\'t see it. they were evidently a new kind of rabbit altogether.they stared at him, and the little rabbit stared back. and all the time their noses twitched.the velveteen rabbit by margery williams\\n6created for lit2go on the web at etc.usf.edu\\n\\n',\n",
       " '\"why don\\'t you get up and play with us?\" one of them asked.\"i don\\'t feel like it,\" said the rabbit, for he didn\\'t want to explain that he had no clockwork.\"ho!\" said the furry rabbit. \"it\\'s as easy as anything,\" and he gave a big hop sideways and stood on his hind legs.\"i don\\'t believe you can!\" he said.\"i can!\" said the little rabbit. \"i can jump higher than anything!\" he meant when the boy threw him, but of course he didn\\'t want to say so.\"can you hop on your hind legs?\" asked the furry rabbit.that was a dreadful question, for the velveteen rabbit had no hind legs at all! the back of him was made all in one piece, like a pincushion. he sat still in the bracken, and hoped that the other rabbits wouldn\\'t notice.\"i don\\'t want to!\" he said again.but the wild rabbits have very sharp eyes. and this one stretched out his neck and looked.\"he hasn\\'t got any hind legs!\" he called out. \"fancy a rabbit without any hind legs!\" and he began to laugh.\"i have!\" cried the little rabbit. \"i have got hind legs! i am sitting on them!\"\"then stretch them out and show me, like this!\" said the wild rabbit. and he began to whirl round and dance, till the little rabbit got quite dizzy.\"i don\\'t like dancing,\" he said. \"i\\'d rather sit still!\"the velveteen rabbit by margery williams\\n7created for lit2go on the web at etc.usf.edu\\n\\n',\n",
       " 'but all the while he was longing to dance, for a funny new tickly feeling ran through him, and he felt he would give anything in the world to be able to jump about like these rabbits did.the strange rabbit stopped dancing, and came quite close. he came so close this time that his long whiskers brushed the velveteen rabbit\\'s ear, and then he wrinkled his nose suddenly and ﬂattened his ears and jumped backwards.\"he doesn\\'t smell right!\" he exclaimed. \"he isn\\'t a rabbit at all! he isn\\'t real!\"\"i am real!\" said the little rabbit. \"i am real! the boy said so!\" and he nearly began to cry.just then there was a sound of footsteps, and the boy ran past near them, and with a stamp of feet and a ﬂash of white tails the two strange rabbits disappeared.\"come back and play with me!\" called the little rabbit. \"oh, do come back! i know i am real!\"but there was no answer, only the little ants ran to and fro, and the bracken swayed gently where the two strangers had passed. the velveteen rabbit was all alone.\"oh, dear!\" he thought. \"why did they run away like that? why couldn\\'t they stop and talk to me?\"for a long time he lay very still, watching the bracken, and hoping that they would come back. but they never returned, and presently the sun sank lower and the little white moths ﬂuttered out, and the boy came and carried him home.\\xa0the velveteen rabbit by margery williams\\n8created for lit2go on the web at etc.usf.edu\\n\\n',\n",
       " \"weeks passed, and the little rabbit grew very old and shabby, but the boy loved him just as much. he loved him so hard that he loved all his whiskers off, and the pink lining to his ears turned grey, and his brown spots faded. he even began to lose his shape, and he scarcely looked like a rabbit any more, except to the boy. to him he was always beautiful, and that was all that the little rabbit cared about. he didn't mind how he looked to other people, because the nursery magic had made him real, and when you are real shabbiness doesn't matter.and then, one day, the boy was ill.his face grew very ﬂushed, and he talked in his sleep, and his little body was so hot that it burned the rabbit when he held him close. strange people came and went in the nursery, and a light burned all night and through it all the little velveteen rabbit lay there, hidden from sight under the bedclothes, and he never stirred, for he was afraid that if they found him some one might take him away, and he knew that the boy needed him.it was a long weary time, for the boy was too ill to play, and the little rabbit found it rather dull with nothing to do all day long. but he snuggled down patiently, and looked forward to the time when the boy should be well again, and they would go out in the garden amongst the ﬂowers and the butterﬂies and play splendid games in the raspberry thicket like they used to. all sorts of delightful things he planned, and while the boy lay half asleep he crept up close to the pillow and whispered them in his ear. and presently the fever turned, and the boy got better. he was able to sit up in bed and look at picture-books, while the little rabbit cuddled close at his side. and one day, they let him get up and dress.it was a bright, sunny morning, and the windows stood wide open. they had carried the boy out on to the balcony, wrapped in a shawl, and the little rabbit lay tangled up among the bedclothes, thinking.the velveteen rabbit by margery williams\\n9created for lit2go on the web at etc.usf.edu\\n\\n\",\n",
       " 'the boy was going to the seaside to-morrow. everything was arranged, and now it only remained to carry out the doctor\\'s orders. they talked about it all, while the little rabbit lay under the bedclothes, with just his head peeping out, and listened. the room was to be disinfected, and all the books and toys that the boy had played with in bed must be burnt.\"hurrah!\" thought the little rabbit. \"to-morrow we shall go to the seaside!\" for the boy had often talked of the seaside, and he wanted very much to see the big waves coming in, and the tiny crabs, and the sand castles.just then nana caught sight of him.\"how about his old bunny?\" she asked.\"that?\" said the doctor. \"why, it\\'s a mass of scarlet fever germs!–burn it at once. what? nonsense! get him a new one. he mustn\\'t have that any more!\"and so the little rabbit was put into a sack with the old picture-books and a lot of rubbish, and carried out to the end of the garden behind the fowl-house. that was a ﬁne place to make a bonﬁre, only the gardener was too busy just then to attend to it. he had the potatoes to dig and the green peas to gather, but next morning he promised to come quite early and burn the whole lot.that night the boy slept in a different bedroom, and he had a new bunny to sleep with him. it was a splendid bunny, all white plush with real glass eyes, but the boy was too excited to care very much about it. for to-morrow he was going to the seaside, and that in itself was such a wonderful thing that he could think of nothing else.and while the boy was asleep, dreaming of the seaside, the little rabbit lay among the old picture-books in the corner behind the fowl-house, and he felt very lonely. the sack had been left untied, and so by the velveteen rabbit by margery williams\\n10created for lit2go on the web at etc.usf.edu\\n\\n',\n",
       " 'wriggling a bit he was able to get his head through the opening and look out. he was shivering a little, for he had always been used to sleeping in a proper bed, and by this time his coat had worn so thin and threadbare from hugging that it was no longer any protection to him. near by he could see the thicket of raspberry canes, growing tall and close like a tropical jungle, in whose shadow he had played with the boy on bygone mornings. he thought of those long sunlit hours in the garden–how happy they were–and a great sadness came over him. he seemed to see them all pass before him, each more beautiful than the other, the fairy huts in the ﬂower-bed, the quiet evenings in the wood when he lay in the bracken and the little ants ran over his paws; the wonderful day when he ﬁrst knew that he was real. he thought of the skin horse, so wise and gentle, and all that he had told him. of what use was it to be loved and lose one\\'s beauty and become real if it all ended like this? and a tear, a real tear, trickled down his little shabby velvet nose and fell to the ground.and then a strange thing happened. for where the tear had fallen a ﬂower grew out of the ground, a mysterious ﬂower, not at all like any that grew in the garden. it had slender green leaves the colour of emeralds, and in the centre of the leaves a blossom like a golden cup. it was so beautiful that the little rabbit forgot to cry, and just lay there watching it. and presently the blossom opened, and out of it there stepped a fairy.she was quite the loveliest fairy in the whole world. her dress was of pearl and dew-drops, and there were ﬂowers round her neck and in her hair, and her face was like the most perfect ﬂower of all. and she came close to the little rabbit and gathered him up in her arms and kissed him on his velveteen nose that was all damp from crying.\"little rabbit,\" she said, \"don\\'t you know who i am?\"the velveteen rabbit by margery williams\\n11created for lit2go on the web at etc.usf.edu\\n\\n',\n",
       " 'the rabbit looked up at her, and it seemed to him that he had seen her face before, but he couldn\\'t think where.\"i am the nursery magic fairy,\" she said. \"i take care of all the playthings that the children have loved. when they are old and worn out and the children don\\'t need them any more, then i come and take them away with me and turn them into real.\"\"wasn\\'t i real before?\" asked the little rabbit.\"you were real to the boy,\" the fairy said, \"because he loved you. now you shall be real to every one.\"and she held the little rabbit close in her arms and ﬂew with him into the wood.it was light now, for the moon had risen. all the forest was beautiful, and the fronds of the bracken shone like frosted silver. in the open glade between the tree-trunks the wild rabbits danced with their shadows on the velvet grass, but when they saw the fairy they all stopped dancing and stood round in a ring to stare at her.\"i\\'ve brought you a new playfellow,\" the fairy said. \"you must be very kind to him and teach him all he needs to know in rabbit-land, for he is going to live with you for ever and ever!\"and she kissed the little rabbit again and put him down on the grass.\"run and play, little rabbit!\" she said.but the little rabbit sat quite still for a moment and never moved. for when he saw all the wild rabbits dancing around him he suddenly remembered about his hind legs, and he didn\\'t want them to see that he was made all in one piece. he did not know that when the fairy kissed him that last time she had changed him altogether. and he might have the velveteen rabbit by margery williams\\n12created for lit2go on the web at etc.usf.edu\\n\\n',\n",
       " 'sat there a long time, too shy to move, if just then something hadn\\'t tickled his nose, and before he thought what he was doing he lifted his hind toe to scratch it.and he found that he actually had hind legs! instead of dingy velveteen he had brown fur, soft and shiny, his ears twitched by themselves, and his whiskers were so long that they brushed the grass. he gave one leap and the joy of using those hind legs was so great that he went springing about the turf on them, jumping sideways and whirling round as the others did, and he grew so excited that when at last he did stop to look for the fairy she had gone.he was a real rabbit at last, at home with the other rabbits.\\xa0autumn passed and winter, and in the spring, when the days grew warm and sunny, the boy went out to play in the wood behind the house. and while he was playing, two rabbits crept out from the bracken and peeped at him. one of them was brown all over, but the other had strange markings under his fur, as though long ago he had been spotted, and the spots still showed through. and about his little soft nose and his round black eyes there was something familiar, so that the boy thought to himself:\"why, he looks just like my old bunny that was lost when i had scarlet fever!\"but he never knew that it really was his own bunny, come back to look at the child who had ﬁrst helped him to be real.the endthe velveteen rabbit by margery williams\\n13created for lit2go on the web at etc.usf.edu\\n\\n']"
      ]
     },
     "execution_count": 13,
     "metadata": {},
     "output_type": "execute_result"
    }
   ],
   "source": [
    "text = [t.lower() for t in text]\n",
    "\n",
    "text"
   ]
  },
  {
   "cell_type": "code",
   "execution_count": 15,
   "metadata": {},
   "outputs": [
    {
     "data": {
      "text/plain": [
       "['the velveteen rabbitbymargery williams',\n",
       " \"there was once a velveteen rabbit, and in the beginning he was really splendid. he was fat and bunchy, as a rabbit should be; his coat was spotted brown and white, he had real thread whiskers, and his ears were lined with pink sateen. on christmas morning, when he sat wedged in the top of the boy's stocking, with a sprig of holly between his paws, the effect was charming.there were other things in the stocking, nuts and oranges and a toy engine, and chocolate almonds and a clockwork mouse, but the rabbit was quite the best of all. for at least two hours the boy loved him, and then aunts and uncles came to dinner, and there was a great rustling of tissue paper and unwrapping of parcels, and in the excitement of looking at all the new presents the velveteen rabbit was forgotten.for a long time he lived in the toy cupboard or on the nursery ﬂoor, and no one thought very much about him. he was naturally shy, and being only made of velveteen, some of the more expensive toys quite snubbed him. the mechanical toys were very superior, and looked down upon every one else; they were full of modern ideas, and pretended they were real. the model boat, who had lived through two seasons and lost most of his paint, caught the tone from them and never missed an opportunity of referring to his rigging in technical terms. the rabbit could not claim to be a model of anything, for he didn't know that real rabbits existed; he thought they were all stuffed with sawdust like himself, and he understood that sawdust was quite out-of-date and should never be mentioned in modern circles. even timothy, the jointed wooden lion, who was made by the disabled soldiers, and should have had broader views, put on airs and pretended he was connected with government. between them all the poor little rabbit was made to feel himself very insigniﬁcant and commonplace, and the only person who was kind to him at all was the skin horse.the skin horse had lived longer in the nursery than any of the others. he was so old that his brown coat was bald in patches and showed the the velveteen rabbit by margery williams 2created for lit2go on the web at etc.usf.edu\",\n",
       " 'seams underneath, and most of the hairs in his tail had been pulled out to string bead necklaces. he was wise, for he had seen a long succession of mechanical toys arrive to boast and swagger, and by-and-by break their mainsprings and pass away, and he knew that they were only toys, and would never turn into anything else. for nursery magic is very strange and wonderful, and only those playthings that are old and wise and experienced like the skin horse understand all about it.\"what is real?\" asked the rabbit one day, when they were lying side by side near the nursery fender, before nana came to tidy the room. \"does it mean having things that buzz inside you and a stick-out handle?\"\"real isn\\'t how you are made,\" said the skin horse. \"it\\'s a thing that happens to you. when a child loves you for a long, long time, not just to play with, but really loves you, then you become real.\"\"does it hurt?\" asked the rabbit.\"sometimes,\" said the skin horse, for he was always truthful. \"when you are real you don\\'t mind being hurt.\"\"does it happen all at once, like being wound up,\" he asked, \"or bit by bit?\"\"it doesn\\'t happen all at once,\" said the skin horse. \"you become. it takes a long time. that\\'s why it doesn\\'t happen often to people who break easily, or have sharp edges, or who have to be carefully kept. generally, by the time you are real, most of your hair has been loved off, and your eyes drop out and you get loose in the joints and very shabby. but these things don\\'t matter at all, because once you are real you can\\'t be ugly, except to people who don\\'t understand.\"the velveteen rabbit by margery williams 3created for lit2go on the web at etc.usf.edu',\n",
       " '\"i suppose you are real?\" said the rabbit. and then he wished he had not said it, for he thought the skin horse might be sensitive. but the skin horse only smiled.\"the boy\\'s uncle made me real,\" he said. \"that was a great many years ago; but once you are real you can\\'t become unreal again. it lasts for always.\"the rabbit sighed. he thought it would be a long time before this magic called real happened to him. he longed to become real, to know what it felt like; and yet the idea of growing shabby and losing his eyes and whiskers was rather sad. he wished that he could become it without these uncomfortable things happening to him.there was a person called nana who ruled the nursery. sometimes she took no notice of the playthings lying about, and sometimes, for no reason whatever, she went swooping about like a great wind and hustled them away in cupboards. she called this \"tidying up,\" and the playthings all hated it, especially the tin ones. the rabbit didn\\'t mind it so much, for wherever he was thrown he came down soft.one evening, when the boy was going to bed, he couldn\\'t ﬁnd the china dog that always slept with him. nana was in a hurry, and it was too much trouble to hunt for china dogs at bedtime, so she simply looked about her, and seeing that the toy cupboard door stood open, she made a swoop.\"here,\" she said, \"take your old bunny! he\\'ll do to sleep with you!\" and she dragged the rabbit out by one ear, and put him into the boy\\'s arms.that night, and for many nights after, the velveteen rabbit slept in the boy\\'s bed. at ﬁrst he found it rather uncomfortable, for the boy hugged him very tight, and sometimes he rolled over on him, and sometimes he pushed him so far under the pillow that the rabbit could scarcely breathe. and he missed, too, those long moonlight hours in the nursery, the velveteen rabbit by margery williams 4created for lit2go on the web at etc.usf.edu',\n",
       " 'when all the house was silent, and his talks with the skin horse. but very soon he grew to like it, for the boy used to talk to him, and made nice tunnels for him under the bedclothes that he said were like the burrows the real rabbits lived in. and they had splendid games together, in whispers, when nana had gone away to her supper and left the night-light burning on the mantelpiece. and when the boy dropped off to sleep, the rabbit would snuggle down close under his little warm chin and dream, with the boy\\'s hands clasped close round him all night long.and so time went on, and the little rabbit was very happy–so happy that he never noticed how his beautiful velveteen fur was getting shabbier and shabbier, and his tail becoming unsewn, and all the pink rubbed off his nose where the boy had kissed him.spring came, and they had long days in the garden, for wherever the boy went the rabbit went too. he had rides in the wheelbarrow, and picnics on the grass, and lovely fairy huts built for him under the raspberry canes behind the ﬂower border. and once, when the boy was called away suddenly to go out to tea, the rabbit was left out on the lawn until long after dusk, and nana had to come and look for him with the candle because the boy couldn\\'t go to sleep unless he was there. he was wet through with the dew and quite earthy from diving into the burrows the boy had made for him in the ﬂower bed, and nana grumbled as she rubbed him off with a corner of her apron.\"you must have your old bunny!\" she said. \"fancy all that fuss for a toy!\"the boy sat up in bed and stretched out his hands.\"give me my bunny!\" he said. \"you mustn\\'t say that. he isn\\'t a toy. he\\'s real!\"when the little rabbit heard that he was happy, for he knew that what the skin horse had said was true at last. the nursery magic had the velveteen rabbit by margery williams 5created for lit2go on the web at etc.usf.edu',\n",
       " 'happened to him, and he was a toy no longer. he was real. the boy himself had said it.that night he was almost too happy to sleep, and so much love stirred in his little sawdust heart that it almost burst. and into his boot-button eyes, that had long ago lost their polish, there came a look of wisdom and beauty, so that even nana noticed it next morning when she picked him up, and said, \"i declare if that old bunny hasn\\'t got quite a knowing expression!\" that was a wonderful summer!near the house where they lived there was a wood, and in the long june evenings the boy liked to go there after tea to play. he took the velveteen rabbit with him, and before he wandered off to pick ﬂowers, or play at brigands among the trees, he always made the rabbit a little nest somewhere among the bracken, where he would be quite cosy, for he was a kind-hearted little boy and he liked bunny to be comfortable. one evening, while the rabbit was lying there alone, watching the ants that ran to and fro between his velvet paws in the grass, he saw two strange beings creep out of the tall bracken near him.they were rabbits like himself, but quite furry and brand-new. they must have been very well made, for their seams didn\\'t show at all, and they changed shape in a queer way when they moved; one minute they were long and thin and the next minute fat and bunchy, instead of always staying the same like he did. their feet padded softly on the ground, and they crept quite close to him, twitching their noses, while the rabbit stared hard to see which side the clockwork stuck out, for he knew that people who jump generally have something to wind them up. but he couldn\\'t see it. they were evidently a new kind of rabbit altogether.they stared at him, and the little rabbit stared back. and all the time their noses twitched.the velveteen rabbit by margery williams 6created for lit2go on the web at etc.usf.edu',\n",
       " '\"why don\\'t you get up and play with us?\" one of them asked.\"i don\\'t feel like it,\" said the rabbit, for he didn\\'t want to explain that he had no clockwork.\"ho!\" said the furry rabbit. \"it\\'s as easy as anything,\" and he gave a big hop sideways and stood on his hind legs.\"i don\\'t believe you can!\" he said.\"i can!\" said the little rabbit. \"i can jump higher than anything!\" he meant when the boy threw him, but of course he didn\\'t want to say so.\"can you hop on your hind legs?\" asked the furry rabbit.that was a dreadful question, for the velveteen rabbit had no hind legs at all! the back of him was made all in one piece, like a pincushion. he sat still in the bracken, and hoped that the other rabbits wouldn\\'t notice.\"i don\\'t want to!\" he said again.but the wild rabbits have very sharp eyes. and this one stretched out his neck and looked.\"he hasn\\'t got any hind legs!\" he called out. \"fancy a rabbit without any hind legs!\" and he began to laugh.\"i have!\" cried the little rabbit. \"i have got hind legs! i am sitting on them!\"\"then stretch them out and show me, like this!\" said the wild rabbit. and he began to whirl round and dance, till the little rabbit got quite dizzy.\"i don\\'t like dancing,\" he said. \"i\\'d rather sit still!\"the velveteen rabbit by margery williams 7created for lit2go on the web at etc.usf.edu',\n",
       " 'but all the while he was longing to dance, for a funny new tickly feeling ran through him, and he felt he would give anything in the world to be able to jump about like these rabbits did.the strange rabbit stopped dancing, and came quite close. he came so close this time that his long whiskers brushed the velveteen rabbit\\'s ear, and then he wrinkled his nose suddenly and ﬂattened his ears and jumped backwards.\"he doesn\\'t smell right!\" he exclaimed. \"he isn\\'t a rabbit at all! he isn\\'t real!\"\"i am real!\" said the little rabbit. \"i am real! the boy said so!\" and he nearly began to cry.just then there was a sound of footsteps, and the boy ran past near them, and with a stamp of feet and a ﬂash of white tails the two strange rabbits disappeared.\"come back and play with me!\" called the little rabbit. \"oh, do come back! i know i am real!\"but there was no answer, only the little ants ran to and fro, and the bracken swayed gently where the two strangers had passed. the velveteen rabbit was all alone.\"oh, dear!\" he thought. \"why did they run away like that? why couldn\\'t they stop and talk to me?\"for a long time he lay very still, watching the bracken, and hoping that they would come back. but they never returned, and presently the sun sank lower and the little white moths ﬂuttered out, and the boy came and carried him home. the velveteen rabbit by margery williams 8created for lit2go on the web at etc.usf.edu',\n",
       " \"weeks passed, and the little rabbit grew very old and shabby, but the boy loved him just as much. he loved him so hard that he loved all his whiskers off, and the pink lining to his ears turned grey, and his brown spots faded. he even began to lose his shape, and he scarcely looked like a rabbit any more, except to the boy. to him he was always beautiful, and that was all that the little rabbit cared about. he didn't mind how he looked to other people, because the nursery magic had made him real, and when you are real shabbiness doesn't matter.and then, one day, the boy was ill.his face grew very ﬂushed, and he talked in his sleep, and his little body was so hot that it burned the rabbit when he held him close. strange people came and went in the nursery, and a light burned all night and through it all the little velveteen rabbit lay there, hidden from sight under the bedclothes, and he never stirred, for he was afraid that if they found him some one might take him away, and he knew that the boy needed him.it was a long weary time, for the boy was too ill to play, and the little rabbit found it rather dull with nothing to do all day long. but he snuggled down patiently, and looked forward to the time when the boy should be well again, and they would go out in the garden amongst the ﬂowers and the butterﬂies and play splendid games in the raspberry thicket like they used to. all sorts of delightful things he planned, and while the boy lay half asleep he crept up close to the pillow and whispered them in his ear. and presently the fever turned, and the boy got better. he was able to sit up in bed and look at picture-books, while the little rabbit cuddled close at his side. and one day, they let him get up and dress.it was a bright, sunny morning, and the windows stood wide open. they had carried the boy out on to the balcony, wrapped in a shawl, and the little rabbit lay tangled up among the bedclothes, thinking.the velveteen rabbit by margery williams 9created for lit2go on the web at etc.usf.edu\",\n",
       " 'the boy was going to the seaside to-morrow. everything was arranged, and now it only remained to carry out the doctor\\'s orders. they talked about it all, while the little rabbit lay under the bedclothes, with just his head peeping out, and listened. the room was to be disinfected, and all the books and toys that the boy had played with in bed must be burnt.\"hurrah!\" thought the little rabbit. \"to-morrow we shall go to the seaside!\" for the boy had often talked of the seaside, and he wanted very much to see the big waves coming in, and the tiny crabs, and the sand castles.just then nana caught sight of him.\"how about his old bunny?\" she asked.\"that?\" said the doctor. \"why, it\\'s a mass of scarlet fever germs!–burn it at once. what? nonsense! get him a new one. he mustn\\'t have that any more!\"and so the little rabbit was put into a sack with the old picture-books and a lot of rubbish, and carried out to the end of the garden behind the fowl-house. that was a ﬁne place to make a bonﬁre, only the gardener was too busy just then to attend to it. he had the potatoes to dig and the green peas to gather, but next morning he promised to come quite early and burn the whole lot.that night the boy slept in a different bedroom, and he had a new bunny to sleep with him. it was a splendid bunny, all white plush with real glass eyes, but the boy was too excited to care very much about it. for to-morrow he was going to the seaside, and that in itself was such a wonderful thing that he could think of nothing else.and while the boy was asleep, dreaming of the seaside, the little rabbit lay among the old picture-books in the corner behind the fowl-house, and he felt very lonely. the sack had been left untied, and so by the velveteen rabbit by margery williams 10created for lit2go on the web at etc.usf.edu',\n",
       " 'wriggling a bit he was able to get his head through the opening and look out. he was shivering a little, for he had always been used to sleeping in a proper bed, and by this time his coat had worn so thin and threadbare from hugging that it was no longer any protection to him. near by he could see the thicket of raspberry canes, growing tall and close like a tropical jungle, in whose shadow he had played with the boy on bygone mornings. he thought of those long sunlit hours in the garden–how happy they were–and a great sadness came over him. he seemed to see them all pass before him, each more beautiful than the other, the fairy huts in the ﬂower-bed, the quiet evenings in the wood when he lay in the bracken and the little ants ran over his paws; the wonderful day when he ﬁrst knew that he was real. he thought of the skin horse, so wise and gentle, and all that he had told him. of what use was it to be loved and lose one\\'s beauty and become real if it all ended like this? and a tear, a real tear, trickled down his little shabby velvet nose and fell to the ground.and then a strange thing happened. for where the tear had fallen a ﬂower grew out of the ground, a mysterious ﬂower, not at all like any that grew in the garden. it had slender green leaves the colour of emeralds, and in the centre of the leaves a blossom like a golden cup. it was so beautiful that the little rabbit forgot to cry, and just lay there watching it. and presently the blossom opened, and out of it there stepped a fairy.she was quite the loveliest fairy in the whole world. her dress was of pearl and dew-drops, and there were ﬂowers round her neck and in her hair, and her face was like the most perfect ﬂower of all. and she came close to the little rabbit and gathered him up in her arms and kissed him on his velveteen nose that was all damp from crying.\"little rabbit,\" she said, \"don\\'t you know who i am?\"the velveteen rabbit by margery williams 11created for lit2go on the web at etc.usf.edu',\n",
       " 'the rabbit looked up at her, and it seemed to him that he had seen her face before, but he couldn\\'t think where.\"i am the nursery magic fairy,\" she said. \"i take care of all the playthings that the children have loved. when they are old and worn out and the children don\\'t need them any more, then i come and take them away with me and turn them into real.\"\"wasn\\'t i real before?\" asked the little rabbit.\"you were real to the boy,\" the fairy said, \"because he loved you. now you shall be real to every one.\"and she held the little rabbit close in her arms and ﬂew with him into the wood.it was light now, for the moon had risen. all the forest was beautiful, and the fronds of the bracken shone like frosted silver. in the open glade between the tree-trunks the wild rabbits danced with their shadows on the velvet grass, but when they saw the fairy they all stopped dancing and stood round in a ring to stare at her.\"i\\'ve brought you a new playfellow,\" the fairy said. \"you must be very kind to him and teach him all he needs to know in rabbit-land, for he is going to live with you for ever and ever!\"and she kissed the little rabbit again and put him down on the grass.\"run and play, little rabbit!\" she said.but the little rabbit sat quite still for a moment and never moved. for when he saw all the wild rabbits dancing around him he suddenly remembered about his hind legs, and he didn\\'t want them to see that he was made all in one piece. he did not know that when the fairy kissed him that last time she had changed him altogether. and he might have the velveteen rabbit by margery williams 12created for lit2go on the web at etc.usf.edu',\n",
       " 'sat there a long time, too shy to move, if just then something hadn\\'t tickled his nose, and before he thought what he was doing he lifted his hind toe to scratch it.and he found that he actually had hind legs! instead of dingy velveteen he had brown fur, soft and shiny, his ears twitched by themselves, and his whiskers were so long that they brushed the grass. he gave one leap and the joy of using those hind legs was so great that he went springing about the turf on them, jumping sideways and whirling round as the others did, and he grew so excited that when at last he did stop to look for the fairy she had gone.he was a real rabbit at last, at home with the other rabbits. autumn passed and winter, and in the spring, when the days grew warm and sunny, the boy went out to play in the wood behind the house. and while he was playing, two rabbits crept out from the bracken and peeped at him. one of them was brown all over, but the other had strange markings under his fur, as though long ago he had been spotted, and the spots still showed through. and about his little soft nose and his round black eyes there was something familiar, so that the boy thought to himself:\"why, he looks just like my old bunny that was lost when i had scarlet fever!\"but he never knew that it really was his own bunny, come back to look at the child who had ﬁrst helped him to be real.the endthe velveteen rabbit by margery williams 13created for lit2go on the web at etc.usf.edu']"
      ]
     },
     "execution_count": 15,
     "metadata": {},
     "output_type": "execute_result"
    }
   ],
   "source": [
    "def remove_whitespaces(data):\n",
    "    return ' '.join(data.split())\n",
    "\n",
    "text = [remove_whitespaces(t) for t in text]\n",
    "\n",
    "text"
   ]
  },
  {
   "cell_type": "code",
   "execution_count": 16,
   "metadata": {},
   "outputs": [
    {
     "data": {
      "text/plain": [
       "array([[-0.00542053,  0.01178248, -0.01159403, ..., -0.00787763,\n",
       "         0.03500003, -0.0146179 ],\n",
       "       [ 0.01780942, -0.0003453 ,  0.00296924, ...,  0.00231113,\n",
       "         0.02984123, -0.01850623],\n",
       "       [ 0.01851149,  0.00119871,  0.0113421 , ..., -0.00488156,\n",
       "         0.02337555, -0.00648827],\n",
       "       ...,\n",
       "       [-0.0040862 , -0.00536956, -0.00121139, ...,  0.00213058,\n",
       "         0.023294  ,  0.00290206],\n",
       "       [-0.00071771, -0.00575505, -0.00685973, ..., -0.00628214,\n",
       "         0.03008566, -0.00579042],\n",
       "       [ 0.00343544, -0.00024041, -0.00607884, ..., -0.00102497,\n",
       "         0.02526371, -0.01058268]], dtype=float32)"
      ]
     },
     "execution_count": 16,
     "metadata": {},
     "output_type": "execute_result"
    }
   ],
   "source": [
    "text_embeddings = emb_model.encode(text)\n",
    "\n",
    "text_embeddings"
   ]
  },
  {
   "cell_type": "code",
   "execution_count": 17,
   "metadata": {},
   "outputs": [
    {
     "data": {
      "text/plain": [
       "(13, 1024)"
      ]
     },
     "execution_count": 17,
     "metadata": {},
     "output_type": "execute_result"
    }
   ],
   "source": [
    "text_embeddings.shape"
   ]
  },
  {
   "cell_type": "code",
   "execution_count": 37,
   "metadata": {},
   "outputs": [],
   "source": [
    "import faiss\n",
    "\n",
    "index = faiss.IndexFlatL2(text_embeddings.shape[1])"
   ]
  },
  {
   "cell_type": "code",
   "execution_count": 38,
   "metadata": {},
   "outputs": [],
   "source": [
    "index.add(text_embeddings)"
   ]
  },
  {
   "cell_type": "code",
   "execution_count": 39,
   "metadata": {},
   "outputs": [],
   "source": [
    "query = ['What is real?']\n",
    "\n",
    "query_embedding = emb_model.encode(query)"
   ]
  },
  {
   "cell_type": "code",
   "execution_count": 40,
   "metadata": {},
   "outputs": [
    {
     "name": "stdout",
     "output_type": "stream",
     "text": [
      "CPU times: total: 0 ns\n",
      "Wall time: 2 ms\n"
     ]
    },
    {
     "data": {
      "text/plain": [
       "['seams underneath, and most of the hairs in his tail had been pulled out to string bead necklaces. he was wise, for he had seen a long succession of mechanical toys arrive to boast and swagger, and by-and-by break their mainsprings and pass away, and he knew that they were only toys, and would never turn into anything else. for nursery magic is very strange and wonderful, and only those playthings that are old and wise and experienced like the skin horse understand all about it.\"what is real?\" asked the rabbit one day, when they were lying side by side near the nursery fender, before nana came to tidy the room. \"does it mean having things that buzz inside you and a stick-out handle?\"\"real isn\\'t how you are made,\" said the skin horse. \"it\\'s a thing that happens to you. when a child loves you for a long, long time, not just to play with, but really loves you, then you become real.\"\"does it hurt?\" asked the rabbit.\"sometimes,\" said the skin horse, for he was always truthful. \"when you are real you don\\'t mind being hurt.\"\"does it happen all at once, like being wound up,\" he asked, \"or bit by bit?\"\"it doesn\\'t happen all at once,\" said the skin horse. \"you become. it takes a long time. that\\'s why it doesn\\'t happen often to people who break easily, or have sharp edges, or who have to be carefully kept. generally, by the time you are real, most of your hair has been loved off, and your eyes drop out and you get loose in the joints and very shabby. but these things don\\'t matter at all, because once you are real you can\\'t be ugly, except to people who don\\'t understand.\"the velveteen rabbit by margery williams 3created for lit2go on the web at etc.usf.edu',\n",
       " '\"i suppose you are real?\" said the rabbit. and then he wished he had not said it, for he thought the skin horse might be sensitive. but the skin horse only smiled.\"the boy\\'s uncle made me real,\" he said. \"that was a great many years ago; but once you are real you can\\'t become unreal again. it lasts for always.\"the rabbit sighed. he thought it would be a long time before this magic called real happened to him. he longed to become real, to know what it felt like; and yet the idea of growing shabby and losing his eyes and whiskers was rather sad. he wished that he could become it without these uncomfortable things happening to him.there was a person called nana who ruled the nursery. sometimes she took no notice of the playthings lying about, and sometimes, for no reason whatever, she went swooping about like a great wind and hustled them away in cupboards. she called this \"tidying up,\" and the playthings all hated it, especially the tin ones. the rabbit didn\\'t mind it so much, for wherever he was thrown he came down soft.one evening, when the boy was going to bed, he couldn\\'t ﬁnd the china dog that always slept with him. nana was in a hurry, and it was too much trouble to hunt for china dogs at bedtime, so she simply looked about her, and seeing that the toy cupboard door stood open, she made a swoop.\"here,\" she said, \"take your old bunny! he\\'ll do to sleep with you!\" and she dragged the rabbit out by one ear, and put him into the boy\\'s arms.that night, and for many nights after, the velveteen rabbit slept in the boy\\'s bed. at ﬁrst he found it rather uncomfortable, for the boy hugged him very tight, and sometimes he rolled over on him, and sometimes he pushed him so far under the pillow that the rabbit could scarcely breathe. and he missed, too, those long moonlight hours in the nursery, the velveteen rabbit by margery williams 4created for lit2go on the web at etc.usf.edu']"
      ]
     },
     "execution_count": 40,
     "metadata": {},
     "output_type": "execute_result"
    }
   ],
   "source": [
    "%%time\n",
    "n = 2\n",
    "D, I = index.search(query_embedding, n)\n",
    "\n",
    "I\n",
    "\n",
    "result = [text[i] for i in I[0]]\n",
    "\n",
    "result\n",
    "\n"
   ]
  },
  {
   "cell_type": "code",
   "execution_count": 42,
   "metadata": {},
   "outputs": [
    {
     "data": {
      "text/plain": [
       "13"
      ]
     },
     "execution_count": 42,
     "metadata": {},
     "output_type": "execute_result"
    }
   ],
   "source": [
    "index.ntotal"
   ]
  },
  {
   "cell_type": "markdown",
   "metadata": {},
   "source": [
    "# Chroma DB\n",
    "\n",
    "Chroma is an in-memory vector database.\n",
    "\n",
    "Chroma can be configured to save and load documents from local machine. Data will be persisted in the specified path. Chroma will load the data from the path on start of the program."
   ]
  },
  {
   "cell_type": "code",
   "execution_count": null,
   "metadata": {},
   "outputs": [],
   "source": [
    "! pip install chromadb"
   ]
  },
  {
   "cell_type": "code",
   "execution_count": 51,
   "metadata": {},
   "outputs": [],
   "source": [
    "import chromadb\n",
    "\n",
    "client = chromadb.PersistentClient('./chromadb_books')\n",
    "\n",
    "# client = chromadb.HttpClient(host='localhost', port='8000')"
   ]
  },
  {
   "cell_type": "code",
   "execution_count": 63,
   "metadata": {},
   "outputs": [
    {
     "data": {
      "text/plain": [
       "1706729324479062600"
      ]
     },
     "execution_count": 63,
     "metadata": {},
     "output_type": "execute_result"
    }
   ],
   "source": [
    "client.heartbeat()"
   ]
  },
  {
   "cell_type": "markdown",
   "metadata": {},
   "source": [
    "## Collections\n",
    "\n",
    "The collection id embeddings can be managed using collection primitive. \n",
    "\n",
    "Collection naming rules:\n",
    "\n",
    "1. The length of the name must be between 3 and 63 characters.\n",
    "2. The name must start and end with a lowercase letter or a digit, and it can contain dots, dashes, and underscores in between.\n",
    "3. The name must not contain two consecutive dots.\n",
    "4. The name must not be a valid IP address.\n",
    "\n",
    "Chroma collection is created using name and embedding function. The embedding function should be passed everytime you get the collection."
   ]
  },
  {
   "cell_type": "code",
   "execution_count": null,
   "metadata": {},
   "outputs": [],
   "source": [
    "collection = client.create_collection(name='harrypotter', metadata={'hnsw:space': 'cosine'})\n",
    "\n"
   ]
  },
  {
   "cell_type": "code",
   "execution_count": 90,
   "metadata": {},
   "outputs": [
    {
     "name": "stderr",
     "output_type": "stream",
     "text": [
      "modules.json: 100%|██████████| 229/229 [00:00<00:00, 237kB/s]\n",
      "c:\\TrainingMaterial\\generative-ai\\genai-material\\.venv\\Lib\\site-packages\\huggingface_hub\\file_download.py:149: UserWarning: `huggingface_hub` cache-system uses symlinks by default to efficiently store duplicated files but your machine does not support them in C:\\Users\\KrishnaGopikaUrlagan\\.cache\\huggingface\\hub\\models--sentence-transformers--paraphrase-albert-small-v2. Caching files will still work but in a degraded version that might require more space on your disk. This warning can be disabled by setting the `HF_HUB_DISABLE_SYMLINKS_WARNING` environment variable. For more details, see https://huggingface.co/docs/huggingface_hub/how-to-cache#limitations.\n",
      "To support symlinks on Windows, you either need to activate Developer Mode or to run Python as an administrator. In order to see activate developer mode, see this article: https://docs.microsoft.com/en-us/windows/apps/get-started/enable-your-device-for-development\n",
      "  warnings.warn(message)\n",
      "config_sentence_transformers.json: 100%|██████████| 122/122 [00:00<00:00, 245kB/s]\n",
      "README.md: 100%|██████████| 4.03k/4.03k [00:00<?, ?B/s]\n",
      "sentence_bert_config.json: 100%|██████████| 53.0/53.0 [00:00<00:00, 64.4kB/s]\n",
      "config.json: 100%|██████████| 827/827 [00:00<00:00, 555kB/s]\n",
      "pytorch_model.bin: 100%|██████████| 46.7M/46.7M [00:02<00:00, 18.0MB/s]\n",
      "tokenizer_config.json: 100%|██████████| 465/465 [00:00<00:00, 230kB/s]\n",
      "spiece.model: 100%|██████████| 760k/760k [00:00<00:00, 10.4MB/s]\n",
      "tokenizer.json: 100%|██████████| 1.31M/1.31M [00:00<00:00, 1.36MB/s]\n",
      "special_tokens_map.json: 100%|██████████| 245/245 [00:00<00:00, 387kB/s]\n",
      "1_Pooling/config.json: 100%|██████████| 190/190 [00:00<00:00, 375kB/s]\n"
     ]
    }
   ],
   "source": [
    "from chromadb.utils import embedding_functions\n",
    "\n",
    "sentence_transformer_ef = embedding_functions.SentenceTransformerEmbeddingFunction(model_name=\"paraphrase-albert-small-v2\")\n"
   ]
  },
  {
   "cell_type": "code",
   "execution_count": 89,
   "metadata": {},
   "outputs": [],
   "source": [
    "collection = client.create_collection(name='sample-books', metadata={'hnsw:space': 'cosine'}, embedding_function=sentence_transformer_ef)\n",
    "\n"
   ]
  },
  {
   "cell_type": "code",
   "execution_count": 68,
   "metadata": {},
   "outputs": [],
   "source": [
    "collection = client.get_collection(name='harrypotter')\n"
   ]
  },
  {
   "cell_type": "code",
   "execution_count": null,
   "metadata": {},
   "outputs": [],
   "source": [
    "client.delete_collection(name='')"
   ]
  },
  {
   "cell_type": "code",
   "execution_count": 69,
   "metadata": {},
   "outputs": [],
   "source": [
    "defence_against_dark_arts = '''\\\n",
    "The Dark Arts: The Three Spell Categories\n",
    "The jinx is the first and lowest level of Dark spell. Jinxes usually will not cause much harm and are considered to be more of a minor irritation than a serious problem. Some common examples of jinxes are the Tripping Jinx, the Stinging Jinx, and the Knockback Jinx. All of these spells, and any spell that falls under the classification of jinx, will be irritating and can be used as a distraction, but will not cause any lasting damage. Some people will even frequently use jinxes to assist with practical jokes, a habit I suggest none of you participate in.\n",
    "The hex is the second classification of Dark spell. These spells are a bit darker than the jinx and will often do more lasting damage. There are not as many examples of hexes, but some popular ones include the Bat-Bogey Hex, the Hurling Hex, and Densaugeo. All of these hexes have effects that cause more damage to the target and are viewed as major inconveniences that cause a moderate amount of suffering. These spells can be reversed through the use of a Hex Breaker.\n",
    "Finally, we move to the third and final classification of the Dark Arts. The curse is the darkest and most dangerous classification of the Dark Arts. These spells are usually cast with the intent to severely harm or potentially even kill the target. Some of the more well-known curses are the Reductor Curse, the Full Body-Bind Curse, and the Conjunctivitis Curse. The use of these spells is often discouraged unless absolutely necessary. As First Years, I would not expect you to be able to cast any of the curses I have mentioned, but I may provide a lesser curse in a lesson to give you an example.\n",
    "Before we get to that, I have one final topic to discuss with you - a category of curses that fall within a category of curses (if that confused you, this will be explained further in Year Two, when you start learning more about curses). This subcategory is a group of curses known as the Unforgivable Curses. These curses will not be seriously discussed here - these are the darkest spells known to wizarding kind and will not be covered in-depth until a much later year. That being said, I believe it is important that you should be aware of this category of curses. The use of any single one of these three curses will earn you a lifetime stay in Azkaban.\n",
    "'''\n",
    "\n",
    "charms = '''\\\n",
    "The Wand-Lighting and Wand-Extinguishing Charms\n",
    "We will end today with a small talk about a simple but very useful charm: the Wand-Lighting Charm. As the name implies, this simple spell will allow you to illuminate the tip of your wand. It is one of the easiest spells to master, useful whenever you need light, and makes for some good spellcasting practice.\n",
    "Now, the first known use of the Wand-Lighting Charm was in the 18th century, despite how easy it is to use. Magical historians credit Levina Monkstanley, a Ministry of Magic employee, for its invention. It was first demonstrated in 1772 when Ms. Monkstanley had dropped her quill on the ground and used the spell to find it.\n",
    "Its uses far exceed simply lighting the tip of your wand. It can provide an easy and endless source of amusement for young witches and wizards who usually enjoy watching the color change. In the Ministry of Magic,  it makes for a safe and easy method for casting a vote. It can even be used to repel incorporeal threats such as the Gytrash (a vicious spectral hound) and other malevolent spirits.\n",
    "Now! Onto the casting!\n",
    "The Wand-Lighting Charm\n",
    "Incantation: Lumos (pronounced 'LOO-mos')\n",
    "Wand Movement: Single counter-clockwise loop\n",
    "Willpower: Low; determines the color of the light\n",
    "Concentration: Low; lighting up the top of your wand\n",
    "You should keep the wand movement in mind and don't put too much willpower, or mental push, into the spell or the tip of your wand will turn scarlet. Too little and it will be a pearly white. You should aim for a nice light yellow, which indicates sufficient effort. Of course, circumstances may call for a weaker or stronger light.\n",
    "Since the magic for the Wand-Lighting Charm never leaves the tip of your wand, the flow of magical energy does not need to be consciously maintained. However, please keep in mind that if you let go of your wand while this charm is in effect, the light will go out. Very advanced magical practitioners may still be able to see their wand, but this is not an easy task.\n",
    "No text describing the Wand-Lighting Charm would be complete without its equally-simple counter, the Wand-Extinguishing Charm. This spell has a singular purpose, and that is to counter the Wand-Lighting Charm. It is a personal charm, which means it will only work for your own wand, or the wand you happen to be holding should it be lit.\n",
    "The Wand-Extinguishing Charm\n",
    "Incantation: Nox (pronounced 'NOCK-ss')\n",
    "Wand Movement: Flick of the wand\n",
    "Willpower: None\n",
    "Concentration: None\n",
    "The Wand-Extinguishing Charm can be quickly cast and its effect is immediate. There is no harm of backlash, making it as safe as the charm it counters.\n",
    "'''\n",
    "\n",
    "transfiguration = '''\\s\n",
    "Transformation itself is further broken down into three sub-branches: trans-species transformation, switching, and human transfiguration. These three sub-branches do not include general transformation, which some transfigurists (such as myself) believe should be added. For those who consider general transformation a sub-branch of transformation, this breaks down further into four general categories that are inanimate to inanimate, inanimate to animate, animate to inanimate, and animate to animate transformation. Some of these sub-branches do have fuzzy distinguishing lines, particularly when it comes to animate to animate transformation, trans-species transformation, cross-species switching, and human transfiguration.  We will be discussing the differences between these types of magic throughout your time in this class, but for now, let me talk a little more about the three main sub-branches.\n",
    "Switching spells are spells that either change one essential detail of an object or swap the physical location of two items. This will be discussed in detail in Year Four. A trans-species transformation is a transformation that to some degree changes the species of the target. Human transfiguration is exactly what it sounds like: the act of transforming the human body. This is an extremely complex form of transformation, and thus will not be discussed until your Seventh Year if you chose to take N.E.W.T. level Transfiguration. There are several different types of human transfiguration, such as cross-species switches directed at human targets. An example of this is the spell that was used by a contestant in a past Triwizard Tournament that allowed Viktor Krum to transfigure his head into that of a shark so he could breathe underwater. There are more specific types of human transfiguration as well, such as the animagus, metamorphmagus, and werewolf transformations.\n",
    "Animagi are wizards with the capability of fully turning themselves into an animal at will while keeping their human sentience. This is a completely voluntary and learned skill, one that is extremely difficult to master. We will not be teaching this skill in this class and it is highly encouraged that you do not try to learn this on your own during your time here at Hogwarts.  It is extremely difficult and time intensive to learn, which is why many choose not to. Part of this process requires that a witch or wizard keep the leaf of a mandrake plant under their tongue for a full month, which many people find extremely inconvenient. Each person is only able to turn into one form of animal, and this animal will bear some identifying mark related to their human features.  For instance, someone who wears glasses may have a darker outline of fur around their eyes. Any intense, permanent body altering will also be noted in the animagus form. For instance, let us remember the case of Peter Pettigrew, whose missing finger was there in both human and animagus form. It is important to note that Animagi are required to register with the Ministry of Magic.\n",
    "Metamorphmagi are people with the ability to change parts of their appearance at will. While considered a part of human transfiguration, this is not a skill that can be learned. Rather, it is a trait that Tonks with pink hair and a pig nose.certain witches and wizards are born with that is believed to be genetic. One example of a metamorphmagus is member of the Order of the Phoenix Nymphadora Tonks, who frequently altered her facial features for the purposes of disguise and amusement, among others. Metamorphmagi can change almost anything in their appearance, from sex and age to something as simple as hair or eye color. They do not require a wand or potion to do so.\n",
    "Werewolves are different from the above two forms of human transfiguration as they do not have a choice in their transformations. They are forced into the body of a wolf at every full moon. Normally when this happens, the person does not keep their human mind. Due to this, werewolves are incredibly dangerous and will attack any human on sight. That being said, there is a potion that allows someone to keep their human mind during the full moon, though the transformation will still take place. This is called the Wolfsbane Potion, which was created by Damocles. You will learn more about this potion in your Sixth Year with Professor Draekon. I won’t go into detail about how one becomes a werewolf, as this will be covered in your Care of Magical Creatures and Defense Against the Dark Arts classes.\n",
    "Vanishment\n",
    "Vanishment is a branch of transfiguration encompassing magic that causes an object to disappear from the world. There are many theories on what actually happens to items that have vanished. Some believe that they disappear all together and can never be returned. The most popular opinion is that the objects are disassembled and the particles scattered throughout the world. They are broken down into such small pieces that they appear to “no longer exist.” However, they cannot truly cease to exist due to the law which states that matter can neither be created nor destroyed. The more complex the object, the harder it is to vanish. This is a rather difficult category of spells that will not be discussed in detail until your Fifth Year. There is technically only one spell required to make something vanish, but there is much to discuss relating to the topic.\n",
    "Conjuration\n",
    "Conjuration spells are significantly more complicated than their vanishment counterparts. Conjured items are formed by pulling together the particles around us to create the object we desire, essentially opposite to the way in which items are vanished.  Accomplishing this requires the transfigurist to take into account all of the details of the object they are trying to conjure, a difficult task, which is why this is something that you will not learn unless you choose to continue on with Transfiguration into your N.E.W.T.s. There are also extensive laws restricting what can and cannot be conjured and things that are conjured also will not last forever.  We will go over some of these restrictions in the next lesson, but as a general rule, whatever you wish to conjure must first exist in the world.\n",
    "Untransfiguration\n",
    "Untransfiguration is precisely what it sounds like. It is a series of spells that allow you to undo previous transfigurations. However, this is mostly for transformations, as vanishment cannot be undone, and things that are conjured disappear naturally after a matter of time. This will be the topic of your Seventh Year, along with human transfiguration and some other advanced transfigurative topics.\n",
    "'''\n",
    "\n",
    "potions = '''\\\n",
    "The most iconic tool used by the potioneer is the cauldron. Potioneers often have strong emotional ties to the cauldrons they use most frequently, and you will even occasionally see them mumbling to their cauldron during the brewing process, urging the instrument along. Now, before you mock this, imagine you are studying advanced potions techniques following your graduation from Hogwarts. You’ve been awake going on fifty hours straight confirming the alignment of the planets and other celestial bodies, gathering ingredients at precisely the correct moment, crushing or chopping the necessary ingredients, and then brewing an incredibly intricate potion of some sort with several phases and long wait periods in-between. You are alone in your lab standing over your cauldron, this one vessel that holds the potential success of such a long and hard effort. If finished correctly and if you took sufficient notes, this could mean your first published scholarly article or even a potential first patent. The potion in that pot simmers merrily, letting off gentle steam and occasionally emitting sparks. This vessel, the cauldron, is gently cradling and preparing the key to your potential success. Finally, you reach the end of that long road. Your potion is done and ready to be bottled. It is successful - you are successful. And you only have that gently hissing cauldron with which to share that quiet victory.\n",
    "Cauldrons are made of various materials and come in many sizes. In different parts of the world, different materials are favored, typically in affiliation with whatever materials are most prevalent in that country. However, that is now being somewhat standardized through better trade agreements and open commerce between magical communities. In terms of size, some cauldrons can be small enough to fit in the palm of your hand and brew only the smallest servings of potions, while there are others that would easily contain a rather large human. These large cauldrons are typically used for commercial brewing, and are rarely seen in personal households. Although most European and American countries use standardized numbering systems for conveying cauldron size, there is some variation internationally. As such, make sure you research local sizing systems should you find yourself shopping in a remote location.\n",
    "There are three common materials used for cauldrons in Great Britain:\n",
    "Pewter is the best for beginning potions work, as it is the slowest and least expensive standard cauldron, so most young witches and wizards are able to obtain their own. It gives a little bit of leeway owing to its slow brewing time, but students should still be careful to be as precise as possible in their measurements and timing, even with this extra wiggle room available. Pewter is a metal alloy (a material composed of at least two metals) that is traditionally at least 85% tin with copper, bismuth, antimony, and occasionally lead making up the rest of its composition. The earliest piece of pewter found dates back to 1450 BCE in an ancient Egyptian tomb. All Hogwarts students should have a Size Two Pewter cauldron for their Potions class.\n",
    "Brass brews potions at a medium level speed, and is slightly more expensive than pewter. This is a good cauldron for intermediate witches and wizards who have a decent grasp of brewing times and methodology. Although this is not always exactly the case, potions brewed with brass tend to complete their brewing processes in approximately 10% less time than those brewed with pewter. Brass is also a metal alloy composed mostly of the metals zinc and copper. The levels of each of these metals can vary to create different effects in the metal. Alloys of copper and zinc have been found in the western portions of Asia and the East Mediterranean dating as far back as the third millennium before the Common Era. Similar alloys were used throughout ancient times, gradually making its way west to the Roman Empire and other parts of Europe.\n",
    "Copper is the fastest brewing cauldron material, and as a rule of thumb, tends to brew potions in approximately 10% less time than brass cauldrons. Only a skilled witch or wizard should use a copper cauldron, as they can be a bit tricky owing to the much more rapid brew time. The faster brew time also makes it more likely to make a mistake or ruin the potion: a shorter brew time also yields less “wiggle room” for differences in timing. It is also unwise to use these cauldrons for potions with the longest brew times, as quite often a good deal of the strength of these slow-brewing potions is gained by a longer period of the ingredients sitting and brewing with one another. Copper is not an alloy, but rather a pure chemical element containing atoms of only one type. We will cover more of that in Year Two, so don’t worry if you don’t understand that now! There is evidence that copper was used as far back as nine to ten thousand years ago, and the Chalcolithic Period, commonly known as the Copper Age, marks a period of time when this metal was in popular use before the discovery of the alloy bronze, which is a harder metal.\n",
    "On occasion, other materials are used for cauldrons in Great Britain, but these materials tend to be a bit rarer and a good deal more expensive. Gold and silver cauldrons are two such examples of this. Silver cauldrons are actually among the best to use, with the least likelihood of brewing failure as well as a smooth, easy brew time. The effects of potions brewed in silver, particularly in conjunction with certain phases of the Moon, tend to be heightened, and they quite often have a longer shelf life. If you ever decide to be a fully-fledged potioneer, a silver cauldron is definitely worth the investment. Finally, the fire crab also makes a wonderful cauldron, but owing to their frequent poaching for their shells as well as the gems found on their shells, international wizarding laws have created sanctions protecting colonies in the Fiji Islands. However, they are still traded with some frequency on the black market. Being caught with a fire crab shell sold on the black market has hefty fines, however, and carries with it possible time in Azkaban prison.\n",
    "As mentioned in the safety procedures, you must always bring your dragon-hide gloves to class in order to protect you when handling dangerous ingredients, goggles to protect your eyes from splashes and sprays, and your wand. Remember, some ingredients are not only caustic, they may also try to bite: keep alert at all times, and never grow lackadaisical when brewing or preparing ingredients.\n",
    "Other important implements you will find at your brewing station at the lab next week include a set of scales to measure your ingredients as well as measuring cups for liquids and a ruler for solids that must be added by measuring length. You will also want a sharp knife to ensure you are cutting ingredients cleanly and a cutting board. Many prefer a silver knife for this, as it tends to cut magical ingredients the most cleanly, but it’s up to you. Some ingredients must be crushed to a fine and even dust or ground into a smooth paste with a mortar and pestle. Stirring during the brewing process should actually be done with your wand (never stick your wand into the potion, though!) but you may have a wooden stirring utensil of some sort as well. This wooden spoon or other implement is often used to stir the potion after the brew time is finished to ensure an even consistency or to add Flobberworm mucus for texture.\n",
    "'''"
   ]
  },
  {
   "cell_type": "code",
   "execution_count": 70,
   "metadata": {},
   "outputs": [],
   "source": [
    "collection.add(\n",
    "    documents= [defence_against_dark_arts,charms,transfiguration,potions],\n",
    "    metadatas=[{'name' : 'defence_against_dark_arts'}, {'name' : 'charms'}, {'name' : 'transfiguration'}, {'name' : 'potions'}],\n",
    "    ids = [str(i) for i in range(4)]\n",
    ")"
   ]
  },
  {
   "cell_type": "code",
   "execution_count": 82,
   "metadata": {},
   "outputs": [
    {
     "data": {
      "text/plain": [
       "{'ids': [['3']],\n",
       " 'distances': [[1.0265965078476185]],\n",
       " 'metadatas': [[{'name': 'potions'}]],\n",
       " 'embeddings': None,\n",
       " 'documents': [['The most iconic tool used by the potioneer is the cauldron. Potioneers often have strong emotional ties to the cauldrons they use most frequently, and you will even occasionally see them mumbling to their cauldron during the brewing process, urging the instrument along. Now, before you mock this, imagine you are studying advanced potions techniques following your graduation from Hogwarts. You’ve been awake going on fifty hours straight confirming the alignment of the planets and other celestial bodies, gathering ingredients at precisely the correct moment, crushing or chopping the necessary ingredients, and then brewing an incredibly intricate potion of some sort with several phases and long wait periods in-between. You are alone in your lab standing over your cauldron, this one vessel that holds the potential success of such a long and hard effort. If finished correctly and if you took sufficient notes, this could mean your first published scholarly article or even a potential first patent. The potion in that pot simmers merrily, letting off gentle steam and occasionally emitting sparks. This vessel, the cauldron, is gently cradling and preparing the key to your potential success. Finally, you reach the end of that long road. Your potion is done and ready to be bottled. It is successful - you are successful. And you only have that gently hissing cauldron with which to share that quiet victory.\\nCauldrons are made of various materials and come in many sizes. In different parts of the world, different materials are favored, typically in affiliation with whatever materials are most prevalent in that country. However, that is now being somewhat standardized through better trade agreements and open commerce between magical communities. In terms of size, some cauldrons can be small enough to fit in the palm of your hand and brew only the smallest servings of potions, while there are others that would easily contain a rather large human. These large cauldrons are typically used for commercial brewing, and are rarely seen in personal households. Although most European and American countries use standardized numbering systems for conveying cauldron size, there is some variation internationally. As such, make sure you research local sizing systems should you find yourself shopping in a remote location.\\nThere are three common materials used for cauldrons in Great Britain:\\nPewter is the best for beginning potions work, as it is the slowest and least expensive standard cauldron, so most young witches and wizards are able to obtain their own. It gives a little bit of leeway owing to its slow brewing time, but students should still be careful to be as precise as possible in their measurements and timing, even with this extra wiggle room available. Pewter is a metal alloy (a material composed of at least two metals) that is traditionally at least 85% tin with copper, bismuth, antimony, and occasionally lead making up the rest of its composition. The earliest piece of pewter found dates back to 1450 BCE in an ancient Egyptian tomb. All Hogwarts students should have a Size Two Pewter cauldron for their Potions class.\\nBrass brews potions at a medium level speed, and is slightly more expensive than pewter. This is a good cauldron for intermediate witches and wizards who have a decent grasp of brewing times and methodology. Although this is not always exactly the case, potions brewed with brass tend to complete their brewing processes in approximately 10% less time than those brewed with pewter. Brass is also a metal alloy composed mostly of the metals zinc and copper. The levels of each of these metals can vary to create different effects in the metal. Alloys of copper and zinc have been found in the western portions of Asia and the East Mediterranean dating as far back as the third millennium before the Common Era. Similar alloys were used throughout ancient times, gradually making its way west to the Roman Empire and other parts of Europe.\\nCopper is the fastest brewing cauldron material, and as a rule of thumb, tends to brew potions in approximately 10% less time than brass cauldrons. Only a skilled witch or wizard should use a copper cauldron, as they can be a bit tricky owing to the much more rapid brew time. The faster brew time also makes it more likely to make a mistake or ruin the potion: a shorter brew time also yields less “wiggle room” for differences in timing. It is also unwise to use these cauldrons for potions with the longest brew times, as quite often a good deal of the strength of these slow-brewing potions is gained by a longer period of the ingredients sitting and brewing with one another. Copper is not an alloy, but rather a pure chemical element containing atoms of only one type. We will cover more of that in Year Two, so don’t worry if you don’t understand that now! There is evidence that copper was used as far back as nine to ten thousand years ago, and the Chalcolithic Period, commonly known as the Copper Age, marks a period of time when this metal was in popular use before the discovery of the alloy bronze, which is a harder metal.\\nOn occasion, other materials are used for cauldrons in Great Britain, but these materials tend to be a bit rarer and a good deal more expensive. Gold and silver cauldrons are two such examples of this. Silver cauldrons are actually among the best to use, with the least likelihood of brewing failure as well as a smooth, easy brew time. The effects of potions brewed in silver, particularly in conjunction with certain phases of the Moon, tend to be heightened, and they quite often have a longer shelf life. If you ever decide to be a fully-fledged potioneer, a silver cauldron is definitely worth the investment. Finally, the fire crab also makes a wonderful cauldron, but owing to their frequent poaching for their shells as well as the gems found on their shells, international wizarding laws have created sanctions protecting colonies in the Fiji Islands. However, they are still traded with some frequency on the black market. Being caught with a fire crab shell sold on the black market has hefty fines, however, and carries with it possible time in Azkaban prison.\\nAs mentioned in the safety procedures, you must always bring your dragon-hide gloves to class in order to protect you when handling dangerous ingredients, goggles to protect your eyes from splashes and sprays, and your wand. Remember, some ingredients are not only caustic, they may also try to bite: keep alert at all times, and never grow lackadaisical when brewing or preparing ingredients.\\nOther important implements you will find at your brewing station at the lab next week include a set of scales to measure your ingredients as well as measuring cups for liquids and a ruler for solids that must be added by measuring length. You will also want a sharp knife to ensure you are cutting ingredients cleanly and a cutting board. Many prefer a silver knife for this, as it tends to cut magical ingredients the most cleanly, but it’s up to you. Some ingredients must be crushed to a fine and even dust or ground into a smooth paste with a mortar and pestle. Stirring during the brewing process should actually be done with your wand (never stick your wand into the potion, though!) but you may have a wooden stirring utensil of some sort as well. This wooden spoon or other implement is often used to stir the potion after the brew time is finished to ensure an even consistency or to add Flobberworm mucus for texture.\\n']],\n",
       " 'uris': None,\n",
       " 'data': None}"
      ]
     },
     "execution_count": 82,
     "metadata": {},
     "output_type": "execute_result"
    }
   ],
   "source": [
    "collection.query(\n",
    "    query_texts=['nox'],\n",
    "    n_results=3,\n",
    "    where = {'name': 'potions'},\n",
    "    where_document= {'$contains': 'cauldrons'}\n",
    ")"
   ]
  },
  {
   "cell_type": "code",
   "execution_count": 1,
   "metadata": {},
   "outputs": [
    {
     "name": "stderr",
     "output_type": "stream",
     "text": [
      "c:\\TrainingMaterial\\generative-ai\\genai-material\\.venv\\Lib\\site-packages\\tqdm\\auto.py:21: TqdmWarning: IProgress not found. Please update jupyter and ipywidgets. See https://ipywidgets.readthedocs.io/en/stable/user_install.html\n",
      "  from .autonotebook import tqdm as notebook_tqdm\n",
      "c:\\TrainingMaterial\\generative-ai\\genai-material\\.venv\\Lib\\site-packages\\torch\\_utils.py:831: UserWarning: TypedStorage is deprecated. It will be removed in the future and UntypedStorage will be the only storage class. This should only matter to you if you are using storages directly.  To access UntypedStorage directly, use tensor.untyped_storage() instead of tensor.storage()\n",
      "  return self.fget.__get__(instance, owner)()\n"
     ]
    }
   ],
   "source": []
  },
  {
   "cell_type": "markdown",
   "metadata": {},
   "source": []
  },
  {
   "cell_type": "code",
   "execution_count": null,
   "metadata": {},
   "outputs": [],
   "source": [
    "sentence_transformer_ef = embedding_functions.DefaultEmbeddingFunction()"
   ]
  },
  {
   "cell_type": "code",
   "execution_count": 2,
   "metadata": {},
   "outputs": [],
   "source": [
    "import chromadb\n",
    "\n",
    "client = chromadb.PersistentClient('./chromadb_books')"
   ]
  },
  {
   "cell_type": "code",
   "execution_count": 3,
   "metadata": {},
   "outputs": [],
   "source": [
    "collection = client.create_collection(name='random_sentences', embedding_function=sentence_transformer_ef)"
   ]
  },
  {
   "cell_type": "code",
   "execution_count": 4,
   "metadata": {},
   "outputs": [],
   "source": [
    "collection = client.get_collection(name='random_sentences', embedding_function=sentence_transformer_ef)"
   ]
  },
  {
   "cell_type": "code",
   "execution_count": null,
   "metadata": {},
   "outputs": [],
   "source": [
    "collection = client.get_or_create_collection(name='random_sentences', embedding_function=sentence_transformer_ef)"
   ]
  },
  {
   "cell_type": "markdown",
   "metadata": {},
   "source": []
  },
  {
   "cell_type": "markdown",
   "metadata": {},
   "source": []
  }
 ],
 "metadata": {
  "kernelspec": {
   "display_name": ".venv",
   "language": "python",
   "name": "python3"
  },
  "language_info": {
   "codemirror_mode": {
    "name": "ipython",
    "version": 3
   },
   "file_extension": ".py",
   "mimetype": "text/x-python",
   "name": "python",
   "nbconvert_exporter": "python",
   "pygments_lexer": "ipython3",
   "version": "3.11.0"
  }
 },
 "nbformat": 4,
 "nbformat_minor": 2
}
