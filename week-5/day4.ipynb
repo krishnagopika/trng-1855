{
 "cells": [
  {
   "cell_type": "markdown",
   "metadata": {},
   "source": [
    "# Lecture Plan\n",
    "\n",
    "\n",
    "\n",
    "1. ChromaDB : CRUD with data\n",
    "\n",
    "---"
   ]
  },
  {
   "cell_type": "code",
   "execution_count": 25,
   "metadata": {},
   "outputs": [],
   "source": [
    "random_sentences = [\n",
    "    \"The sunsets over the horizon, painting the sky in vibrant hues of orange and pink.\",\n",
    "    \"Coffee beans release a rich aroma as they grind, signaling the start of a new day.\",\n",
    "    \"In the forest, the leaves rustle gently in the breeze, creating a soothing melody.\",\n",
    "    \"Technology continues to evolve, shaping the way we communicate and interact with the world !\",\n",
    "    \"Lost in a good book, the reader becomes immersed in a world of imagination and adventure.\",\n",
    "    \"Laughter echoed through the air as friends gathered around the bonfire on a chilly evening.\",\n",
    "    \"The old lighthouse stood tall, its beacon guiding ships safely through the dark night.\",\n",
    "    \"Raindrops danced on the window pane, creating a rhythmic melody on a gloomy afternoon.\",\n",
    "    \"As the first snowflake fell, the town transformed into a winter wonderland.\",\n",
    "    \"A distant train whistle evoked a sense of nostalgia, echoing through the quiet countryside.\",\n",
    "    \"Gazing at the stars, one can't help but marvel at the vastness of the universe.\",\n",
    "    \"The aroma of freshly baked bread wafted through the bakery, enticing passersby.\",\n",
    "    \"Children's laughter filled the playground as they played games and shared stories.\",\n",
    "    \"A solitary figure walked along the beach, lost in thought, as waves gently lapped the shore.\",\n",
    "    \"The puzzle pieces clicked together, revealing a completed picture and a sense of accomplishment.\",\n",
    "]"
   ]
  },
  {
   "cell_type": "markdown",
   "metadata": {},
   "source": []
  },
  {
   "cell_type": "code",
   "execution_count": 6,
   "metadata": {},
   "outputs": [],
   "source": [
    "collection.add(\n",
    "    documents= random_sentences,\n",
    "    ids=[str(i) for i in range(len(random_sentences))]\n",
    ")"
   ]
  },
  {
   "cell_type": "code",
   "execution_count": 8,
   "metadata": {},
   "outputs": [
    {
     "data": {
      "text/plain": [
       "{'ids': [['10']],\n",
       " 'distances': [[257.2118003237333]],\n",
       " 'metadatas': [[None]],\n",
       " 'embeddings': None,\n",
       " 'documents': [[\"Gazing at the stars, one can't help but marvel at the vastness of the universe.\"]],\n",
       " 'uris': None,\n",
       " 'data': None}"
      ]
     },
     "execution_count": 8,
     "metadata": {},
     "output_type": "execute_result"
    }
   ],
   "source": [
    "collection.query(\n",
    "    query_texts=['stars'],\n",
    "    n_results=1\n",
    ")"
   ]
  },
  {
   "cell_type": "code",
   "execution_count": 11,
   "metadata": {},
   "outputs": [
    {
     "data": {
      "text/plain": [
       "{'ids': ['2'],\n",
       " 'embeddings': None,\n",
       " 'metadatas': [None],\n",
       " 'documents': ['In the quiet forest, the leaves rustle gently in the breeze, creating a soothing melody.'],\n",
       " 'uris': None,\n",
       " 'data': None}"
      ]
     },
     "execution_count": 11,
     "metadata": {},
     "output_type": "execute_result"
    }
   ],
   "source": [
    "collection.get(\n",
    "    ids=['2','3','4'],\n",
    "    where_document= {'$contains': 'quiet'}\n",
    ")"
   ]
  },
  {
   "cell_type": "code",
   "execution_count": 15,
   "metadata": {},
   "outputs": [],
   "source": [
    "collection.delete(\n",
    "    ids= ['3'],\n",
    "    where_document= {'$contains': 'quiet'} and {'$contains': 'breeze'}\n",
    ")"
   ]
  },
  {
   "cell_type": "code",
   "execution_count": null,
   "metadata": {},
   "outputs": [],
   "source": [
    "collection.peek()"
   ]
  },
  {
   "cell_type": "code",
   "execution_count": 23,
   "metadata": {},
   "outputs": [],
   "source": [
    "collection.upsert(\n",
    "    documents= random_sentences[2],\n",
    "    ids= ['2']\n",
    ")"
   ]
  },
  {
   "cell_type": "code",
   "execution_count": 24,
   "metadata": {},
   "outputs": [
    {
     "data": {
      "text/plain": [
       "{'ids': ['3'],\n",
       " 'embeddings': None,\n",
       " 'metadatas': [None],\n",
       " 'documents': ['In the forest, the leaves rustle gently in the breeze, creating a soothing melody.'],\n",
       " 'uris': None,\n",
       " 'data': None}"
      ]
     },
     "execution_count": 24,
     "metadata": {},
     "output_type": "execute_result"
    }
   ],
   "source": [
    "collection.get(\n",
    "    ids=['3']\n",
    ")"
   ]
  },
  {
   "cell_type": "code",
   "execution_count": 26,
   "metadata": {},
   "outputs": [],
   "source": [
    "collection.update(\n",
    "    ids=['3'],\n",
    "    documents=random_sentences[3]\n",
    "    \n",
    ")"
   ]
  },
  {
   "cell_type": "code",
   "execution_count": 27,
   "metadata": {},
   "outputs": [
    {
     "data": {
      "text/plain": [
       "{'ids': ['3'],\n",
       " 'embeddings': None,\n",
       " 'metadatas': [None],\n",
       " 'documents': ['Technology continues to evolve, shaping the way we communicate and interact with the world !'],\n",
       " 'uris': None,\n",
       " 'data': None}"
      ]
     },
     "execution_count": 27,
     "metadata": {},
     "output_type": "execute_result"
    }
   ],
   "source": [
    "collection.get(\n",
    "    ids=['3']\n",
    ")"
   ]
  },
  {
   "cell_type": "markdown",
   "metadata": {},
   "source": [
    "### Storing and retreiving data using sqlite3"
   ]
  },
  {
   "cell_type": "code",
   "execution_count": null,
   "metadata": {},
   "outputs": [],
   "source": [
    "\n"
   ]
  }
 ],
 "metadata": {
  "kernelspec": {
   "display_name": ".venv",
   "language": "python",
   "name": "python3"
  },
  "language_info": {
   "codemirror_mode": {
    "name": "ipython",
    "version": 3
   },
   "file_extension": ".py",
   "mimetype": "text/x-python",
   "name": "python",
   "nbconvert_exporter": "python",
   "pygments_lexer": "ipython3",
   "version": "3.11.0rc2"
  }
 },
 "nbformat": 4,
 "nbformat_minor": 2
}
