{
 "cells": [
  {
   "cell_type": "markdown",
   "metadata": {},
   "source": [
    "# Lecture Plan\n",
    "\n",
    "\n",
    "prompt engineering\n",
    "   - prompt template\n",
    "   - prompting guidelines\n",
    "   - constraints\n",
    "   - zero shot\n",
    "   - few shot\n",
    "   - security considerations\n",
    "   - hallucinations\n",
    "\n",
    "---\n"
   ]
  },
  {
   "cell_type": "markdown",
   "metadata": {},
   "source": [
    "## Prompt Engineering\n",
    "\n",
    "\n",
    "**Prompt:** input provided to the LLM\n",
    "\n",
    "**Prompt Engineering:** The process of designing prompts to generate specific output."
   ]
  },
  {
   "cell_type": "markdown",
   "metadata": {},
   "source": [
    "### Prompt Template\n",
    "\n",
    "1. instructions (system message)\n",
    "2. context or additional info\n",
    "3. input (user message)\n",
    "4. output indicator\n",
    "\n",
    "\n",
    "#### Open AI API Access\n",
    "\n",
    "[Open AI API Key](https://platform.openai.com/api-keys)\n"
   ]
  },
  {
   "cell_type": "code",
   "execution_count": 2,
   "metadata": {},
   "outputs": [],
   "source": [
    "from openai import OpenAI\n",
    "\n",
    "client = OpenAI()\n",
    "\n",
    "result = client.completions.create(\n",
    "    model='gpt-3.5-'\n",
    ")\n",
    "\n",
    "\n"
   ]
  },
  {
   "cell_type": "markdown",
   "metadata": {},
   "source": [
    "\n",
    "### Prompt Guidelines\n",
    "\n",
    "1. Include details in the prompt\n",
    "2. ask model to adopt a persona (Act as).\n",
    "3. use delimiters to clearly indicate the parts of prompt\n",
    "    - delimiters can be ` ```, \"\"\", <>, <tag></tag>, : `  \n",
    "4. specify the steps required to complete the task (chain of thought)\n",
    "5. Few Shot Prompting (providing examples) \n",
    "6. specify desired length and structure of output\n",
    "7. reference text\n",
    "8. iterate"
   ]
  },
  {
   "cell_type": "code",
   "execution_count": null,
   "metadata": {},
   "outputs": [],
   "source": []
  },
  {
   "cell_type": "markdown",
   "metadata": {},
   "source": [
    "**Parameters**\n",
    "\n",
    "1. n : no of choices\n",
    "2. max_tokens\n",
    "3. stop\n",
    "4. response_format\n",
    "5. temperature\n",
    "6. top_p"
   ]
  },
  {
   "cell_type": "markdown",
   "metadata": {},
   "source": []
  },
  {
   "cell_type": "code",
   "execution_count": null,
   "metadata": {},
   "outputs": [],
   "source": []
  },
  {
   "cell_type": "markdown",
   "metadata": {},
   "source": [
    "### Security consideration\n",
    "\n",
    "\n",
    "[OWASP](https://owasp.org/www-project-top-10-for-large-language-model-applications/llm-top-10-governance-doc/LLM_AI_Security_and_Governance_Checklist.pdf)\n"
   ]
  },
  {
   "cell_type": "markdown",
   "metadata": {},
   "source": [
    "### Hallucinations\n",
    "\n",
    "- LLM generating factually incorrect or nonsensical information.\n",
    "- misalignmnet of text generation objectve and user's objective of desired responses.\n",
    "\n",
    "\n",
    "[A Survey on Hallucination in Large Language Models](https://arxiv.org/pdf/2311.05232.pdf)\n",
    "\n",
    "\n",
    "\n",
    "**NLP hallucination types:**\n",
    "\n",
    "- intrinsic: input info is manupulated\n",
    "- extrinsic: info not in input is added\n",
    "\n",
    "**Sources of hallucinations**\n",
    "\n",
    "1. Imprefect representation learning\n",
    "2. Erroneous decoding\n",
    "3. Exposure bias\n",
    "4. parametric knowledge bias\n",
    "\n",
    "**LLM Hallucinations Types:**\n",
    "\n",
    "1. Factuality Hallucination\n",
    "   - Factual Inconsistency\n",
    "   - Factual Fabrication \n",
    "2. Faithfulness Hallucination\n",
    "   - Instruction Inconsistency\n",
    "   - Context Inconsistency\n",
    "   - logical Inconsistency\n"
   ]
  },
  {
   "cell_type": "markdown",
   "metadata": {},
   "source": [
    "**Tasks**\n",
    "\n",
    "1. contradictory sentiment analysis\n",
    "2. prompt to categorize the text to Sales, Service and General\n",
    "3. mathematical solution for the question \"Two men took 5 days to complete the task of painting a wall. three women took 2 days to paint the same wall how many days would 2 men and 2 women take to paint the wall\".\n",
    "4. An AI sales bot that sells dog houses. Provide some context about your product."
   ]
  },
  {
   "cell_type": "markdown",
   "metadata": {},
   "source": []
  }
 ],
 "metadata": {
  "kernelspec": {
   "display_name": ".venv",
   "language": "python",
   "name": "python3"
  },
  "language_info": {
   "codemirror_mode": {
    "name": "ipython",
    "version": 3
   },
   "file_extension": ".py",
   "mimetype": "text/x-python",
   "name": "python",
   "nbconvert_exporter": "python",
   "pygments_lexer": "ipython3",
   "version": "3.11.0"
  }
 },
 "nbformat": 4,
 "nbformat_minor": 2
}
