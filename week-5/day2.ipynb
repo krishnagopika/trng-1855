{
 "cells": [
  {
   "cell_type": "markdown",
   "metadata": {},
   "source": [
    "# Lecture Plan\n",
    "\n",
    "\n",
    "prompt engineering\n",
    "   - prompt template\n",
    "   - prompting guidelines\n",
    "   - constraints\n",
    "   - zero shot\n",
    "   - few shot\n",
    "   - security considerations\n",
    "   - hallucinations\n",
    "\n",
    "---\n"
   ]
  },
  {
   "cell_type": "markdown",
   "metadata": {},
   "source": [
    "## Prompt Engineering\n",
    "\n",
    "\n",
    "**Prompt:** input provided to the LLM\n",
    "\n",
    "**Prompt Engineering:** The process of designing prompts to generate specific output."
   ]
  },
  {
   "cell_type": "markdown",
   "metadata": {},
   "source": [
    "### Prompt Template\n",
    "\n",
    "1. instructions (system message)\n",
    "2. context or additional info\n",
    "3. input (user message)\n",
    "4. output indicator\n",
    "\n",
    "\n",
    "#### Open AI API Access\n",
    "\n",
    "[Open AI API Key](https://platform.openai.com/api-keys)\n"
   ]
  },
  {
   "cell_type": "code",
   "execution_count": 2,
   "metadata": {},
   "outputs": [],
   "source": [
    "prompt = \"\"\"<system>Answer the question based the on the context below. If you don't know the answer, just say that you don't know.</system>\n",
    "\n",
    "###\n",
    "\n",
    "Context: \n",
    "Meet Alexander \"Lex\" Quincy, the corporate wordsmith with a suit sharper than his quips. Lex turns mundane meetings into linguistic symphonies, effortlessly blending humor into discussions. Behind the wit is a problem-solving wizard, waltzing through challenges with charm. Email signatures are a work of art, subject lines a masterpiece. Lex, where professionalism meets playful brilliance\n",
    "\n",
    "###\n",
    "\n",
    "<user> Describe lex </user>\n",
    "\n",
    "###\n",
    "\n",
    "{Answer in Json}\n",
    "\n",
    "\"\"\""
   ]
  },
  {
   "cell_type": "code",
   "execution_count": null,
   "metadata": {},
   "outputs": [],
   "source": [
    "! pip install python-dotenv openai"
   ]
  },
  {
   "cell_type": "code",
   "execution_count": 3,
   "metadata": {},
   "outputs": [
    {
     "data": {
      "text/plain": [
       "True"
      ]
     },
     "execution_count": 3,
     "metadata": {},
     "output_type": "execute_result"
    }
   ],
   "source": [
    "from dotenv import load_dotenv\n",
    "\n",
    "import os\n",
    "\n",
    "load_dotenv()\n",
    "\n"
   ]
  },
  {
   "cell_type": "code",
   "execution_count": 4,
   "metadata": {},
   "outputs": [],
   "source": [
    "from openai import OpenAI\n",
    "\n",
    "key = 'OPENAI_API_KEY'\n",
    "client = OpenAI(api_key=os.getenv(key))"
   ]
  },
  {
   "cell_type": "code",
   "execution_count": 5,
   "metadata": {},
   "outputs": [
    {
     "data": {
      "text/plain": [
       "'{\\n    \"Name\": \"Alexander Quincy\",\\n    \"Nickname\": \"Lex\",\\n    \"Occupation\": \"Corporate Wordsmith\",\\n    \"Appearance\": \"Sharp suit\",\\n    \"Personality\": \"Witty, charming, problem-solver\",\\n    \"Skills\": \"Linguistic, humorous, problem-solving\",\\n    \"Email Signature\": \"Work of art\",\\n    \"Subject Line\": \"Masterpiece\",\\n    \"Meeting Style\": \"Effortlessly blends humor into discussions\",\\n    \"Professionalism\": \"Meets playful brilliance\"\\n}'"
      ]
     },
     "execution_count": 5,
     "metadata": {},
     "output_type": "execute_result"
    }
   ],
   "source": [
    "result = client.completions.create(\n",
    "    model=\"gpt-3.5-turbo-instruct\",\n",
    "    prompt=prompt,\n",
    "    max_tokens=1000,\n",
    "    top_p=1,\n",
    "    temperature=0.0 \n",
    "\n",
    ")\n",
    "\n",
    "\n",
    "\n",
    "result.choices[0].text\n"
   ]
  },
  {
   "cell_type": "code",
   "execution_count": 84,
   "metadata": {},
   "outputs": [],
   "source": [
    "messages = [\n",
    "    {'role':'system', 'content':'You are a helpful assistant.'},\n",
    "    {'role':'user', 'content':'List of my questions that I asked'},\n",
    "\n",
    "\n",
    "]"
   ]
  },
  {
   "cell_type": "code",
   "execution_count": 85,
   "metadata": {},
   "outputs": [
    {
     "data": {
      "text/plain": [
       "\"I'm sorry, but as a text-based AI, I don't have the capability to keep track of previous questions or conversations. However, if you can provide me with your questions again, I will be happy to assist you.\""
      ]
     },
     "execution_count": 85,
     "metadata": {},
     "output_type": "execute_result"
    }
   ],
   "source": [
    "result = client.chat.completions.create(\n",
    "    model=\"gpt-3.5-turbo\",\n",
    "    messages=messages\n",
    ")\n",
    "\n",
    "result.choices[0].message.content\n",
    "\n",
    "\n",
    "\n"
   ]
  },
  {
   "cell_type": "code",
   "execution_count": 53,
   "metadata": {},
   "outputs": [],
   "source": [
    "prompt = \"\"\"\n",
    "\n",
    "summerize the below text into two paragarphs with 20 words each in json\n",
    "```String theory is a theoretical framework that aims to provide a unified description of the fundamental forces and particles in the universe. It suggests that the building blocks of matter are not point-like particles, but rather tiny, vibrating strings. These strings are believed to be the fundamental units of energy and interact with each other to form the particles we observe in the universe.\\n\\nOne of the key concepts of string theory is extra dimensions. While we experience three dimensions of space and one dimension of time in our everyday lives, string theory proposes that there may be additional dimensions that we cannot perceive. These extra dimensions are thought to be curled up or compactified to an incredibly small size, making them impossible to detect with our current technology.\\n\\nAnother important aspect of string theory is the idea of supersymmetry, which suggests that every known particle has a partner particle with a different spin. Supersymmetry could help explain the large discrepancy between the strength of gravity and the other fundamental forces.\\n\\nOne of the major challenges of string theory is that it is currently a mathematically complex and untested theory. Scientists have yet to find a way to experimentally prove or disprove its validity. However, string theory has led to significant advancements in other areas of physics, such as cosmology, black hole physics, and quantum gravity.\\n\\nMoreover, string theory has also sparked numerous debates and disagreements among physicists, with some questioning its validity as a fundamental theory of the universe. Despite these challenges, string theory continues to be a promising area of research and has the potential to revolutionize our understanding of the universe.```\n",
    "\"\"\""
   ]
  },
  {
   "cell_type": "markdown",
   "metadata": {},
   "source": [
    "### Prompt Guidelines\n",
    "\n",
    "1. Include details in the prompt\n",
    "2. ask model to adopt a persona (Act as).\n",
    "3. use delimiters to clearly indicate the parts of prompt\n",
    "    - delimiters can be ` ```, \"\"\", <>, <tag></tag>, : `  \n",
    "4. specify the steps required to complete the task (chain of thought)\n",
    "5. Few Shot Prompting (providing examples) \n",
    "6. specify desired length and structure of output\n",
    "7. reference text\n",
    "8. iterate"
   ]
  },
  {
   "cell_type": "markdown",
   "metadata": {},
   "source": [
    "**Parameters**\n",
    "\n",
    "1. n : no of choices\n",
    "2. max_tokens\n",
    "3. stop\n",
    "4. response_format\n",
    "5. temperature\n",
    "6. top_p"
   ]
  },
  {
   "cell_type": "markdown",
   "metadata": {},
   "source": []
  },
  {
   "cell_type": "code",
   "execution_count": null,
   "metadata": {},
   "outputs": [],
   "source": []
  },
  {
   "cell_type": "markdown",
   "metadata": {},
   "source": [
    "### Security consideration\n",
    "\n",
    "\n",
    "[OWASP](https://owasp.org/www-project-top-10-for-large-language-model-applications/llm-top-10-governance-doc/LLM_AI_Security_and_Governance_Checklist.pdf)\n"
   ]
  },
  {
   "cell_type": "markdown",
   "metadata": {},
   "source": [
    "### Hallucinations\n",
    "\n",
    "- LLM generating factually incorrect or nonsensical information.\n",
    "- misalignmnet of text generation objectve and user's objective of desired responses.\n",
    "\n",
    "\n",
    "[A Survey on Hallucination in Large Language Models](https://arxiv.org/pdf/2311.05232.pdf)\n",
    "\n",
    "\n",
    "\n",
    "**NLP hallucination types:**\n",
    "\n",
    "- intrinsic: input info is manupulated\n",
    "- extrinsic: info not in input is added\n",
    "\n",
    "**Sources of hallucinations**\n",
    "\n",
    "1. Imprefect representation learning\n",
    "2. Erroneous decoding\n",
    "3. Exposure bias\n",
    "4. parametric knowledge bias\n",
    "\n",
    "**LLM Hallucinations Types:**\n",
    "\n",
    "1. Factuality Hallucination\n",
    "   - Factual Inconsistency\n",
    "   - Factual Fabrication \n",
    "2. Faithfulness Hallucination\n",
    "   - Instruction Inconsistency\n",
    "   - Context Inconsistency\n",
    "   - logical Inconsistency\n"
   ]
  },
  {
   "cell_type": "markdown",
   "metadata": {},
   "source": [
    "**Tasks**\n",
    "\n",
    "1. contradictory sentiment analysis\n",
    "2. prompt to categorize the text to Sales, Service and General\n",
    "3. mathematical solution for the question \"Two men took 5 days to complete the task of painting a wall. three women took 2 days to paint the same wall how many days would 2 men and 2 women take to paint the wall\".\n",
    "4. An AI sales bot that sells dog houses. Provide some context about your product."
   ]
  },
  {
   "cell_type": "markdown",
   "metadata": {},
   "source": []
  }
 ],
 "metadata": {
  "kernelspec": {
   "display_name": ".venv",
   "language": "python",
   "name": "python3"
  },
  "language_info": {
   "codemirror_mode": {
    "name": "ipython",
    "version": 3
   },
   "file_extension": ".py",
   "mimetype": "text/x-python",
   "name": "python",
   "nbconvert_exporter": "python",
   "pygments_lexer": "ipython3",
   "version": "3.11.0rc2"
  }
 },
 "nbformat": 4,
 "nbformat_minor": 2
}
