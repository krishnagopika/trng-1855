{
 "cells": [
  {
   "cell_type": "markdown",
   "metadata": {},
   "source": [
    "# Lecture Plan\n",
    "\n",
    "1. Pinecone"
   ]
  },
  {
   "cell_type": "markdown",
   "metadata": {},
   "source": [
    "Org --> Projects --> Indexes\n",
    "\n",
    "\n",
    "Index Types :\n",
    "\n",
    "1. serverless\n",
    "2. pod\n",
    "   - storage optimized : s1\n",
    "   - performance optimized: p1, p2\n",
    "\n"
   ]
  },
  {
   "cell_type": "code",
   "execution_count": 5,
   "metadata": {},
   "outputs": [],
   "source": [
    "! echo 'PINECONE_API_KEY=your-api-key' >> .env "
   ]
  },
  {
   "cell_type": "code",
   "execution_count": 6,
   "metadata": {},
   "outputs": [
    {
     "data": {
      "text/plain": [
       "True"
      ]
     },
     "execution_count": 6,
     "metadata": {},
     "output_type": "execute_result"
    }
   ],
   "source": [
    "from dotenv import load_dotenv\n",
    "\n",
    "load_dotenv()"
   ]
  },
  {
   "cell_type": "code",
   "execution_count": null,
   "metadata": {},
   "outputs": [],
   "source": [
    "! pip install pinecone-client"
   ]
  },
  {
   "cell_type": "code",
   "execution_count": 7,
   "metadata": {},
   "outputs": [
    {
     "data": {
      "text/plain": [
       "{'dimension': 1024,\n",
       " 'host': 'trng-index-i93auiv.svc.gcp-starter.pinecone.io',\n",
       " 'metric': 'dotproduct',\n",
       " 'name': 'trng-index',\n",
       " 'spec': {'pod': {'environment': 'gcp-starter',\n",
       "                  'pod_type': 'starter',\n",
       "                  'pods': 1,\n",
       "                  'replicas': 1,\n",
       "                  'shards': 1}},\n",
       " 'status': {'ready': True, 'state': 'Ready'}}"
      ]
     },
     "execution_count": 7,
     "metadata": {},
     "output_type": "execute_result"
    }
   ],
   "source": [
    "from pinecone import Pinecone\n",
    "\n",
    "import os\n",
    "\n",
    "key = os.getenv(\"PINECONE_API_KEY\")\n",
    "\n",
    "client = Pinecone(api_key=key)\n",
    "\n",
    "client.describe_index('trng-index')"
   ]
  },
  {
   "cell_type": "code",
   "execution_count": null,
   "metadata": {},
   "outputs": [],
   "source": [
    "from pinecone import PodSpec\n",
    "\n",
    "client.create_index(\n",
    "    name='starter',\n",
    "    dimension=1024,\n",
    "    spec = PodSpec(\n",
    "        environment='gcp-starter'\n",
    "    )\n",
    ")"
   ]
  },
  {
   "cell_type": "code",
   "execution_count": 12,
   "metadata": {},
   "outputs": [],
   "source": [
    "index = client.Index('trng-index')"
   ]
  },
  {
   "cell_type": "code",
   "execution_count": 13,
   "metadata": {},
   "outputs": [],
   "source": [
    "from sentence_transformers import SentenceTransformer\n",
    "\n",
    "model = SentenceTransformer('thenlper/gte-large')\n"
   ]
  },
  {
   "cell_type": "code",
   "execution_count": 14,
   "metadata": {},
   "outputs": [],
   "source": [
    "random_sentences = [\n",
    "    \"The sunsets over the horizon, painting the sky in vibrant hues of orange and pink.\",\n",
    "    \"Coffee beans release a rich aroma as they grind, signaling the start of a new day.\",\n",
    "    \"In the forest, the leaves rustle gently in the breeze, creating a soothing melody.\",\n",
    "    \"Technology continues to evolve, shaping the way we communicate and interact with the world !\",\n",
    "    \"Lost in a good book, the reader becomes immersed in a world of imagination and adventure.\",\n",
    "    \"Laughter echoed through the air as friends gathered around the bonfire on a chilly evening.\",\n",
    "    \"The old lighthouse stood tall, its beacon guiding ships safely through the dark night.\",\n",
    "    \"Raindrops danced on the window pane, creating a rhythmic melody on a gloomy afternoon.\",\n",
    "    \"As the first snowflake fell, the town transformed into a winter wonderland.\",\n",
    "    \"A distant train whistle evoked a sense of nostalgia, echoing through the quiet countryside.\",\n",
    "    \"Gazing at the stars, one can't help but marvel at the vastness of the universe.\",\n",
    "    \"The aroma of freshly baked bread wafted through the bakery, enticing passersby.\",\n",
    "    \"Children's laughter filled the playground as they played games and shared stories.\",\n",
    "    \"A solitary figure walked along the beach, lost in thought, as waves gently lapped the shore.\",\n",
    "    \"The puzzle pieces clicked together, revealing a completed picture and a sense of accomplishment.\",\n",
    "]\n"
   ]
  },
  {
   "cell_type": "code",
   "execution_count": 15,
   "metadata": {},
   "outputs": [],
   "source": [
    "embeddings = [model.encode(i) for i in random_sentences]"
   ]
  },
  {
   "cell_type": "code",
   "execution_count": 21,
   "metadata": {},
   "outputs": [
    {
     "data": {
      "text/plain": [
       "{'id': '1',\n",
       " 'values': array([-0.00900913,  0.01461185, -0.01348964, ...,  0.00494261,\n",
       "        -0.02139146,  0.01867539], dtype=float32),\n",
       " 'metadata': {'text': 'Coffee beans release a rich aroma as they grind, signaling the start of a new day.'}}"
      ]
     },
     "execution_count": 21,
     "metadata": {},
     "output_type": "execute_result"
    }
   ],
   "source": [
    "vectors = []\n",
    "\n",
    "for i in range(len(random_sentences)):\n",
    "    vectors.append({'id': str(i), 'values': embeddings[i], 'metadata' : {'text': random_sentences[i]}})\n",
    "\n",
    "\n",
    "vectors[1]\n",
    "\n"
   ]
  },
  {
   "cell_type": "code",
   "execution_count": 22,
   "metadata": {},
   "outputs": [
    {
     "data": {
      "text/plain": [
       "{'upserted_count': 15}"
      ]
     },
     "execution_count": 22,
     "metadata": {},
     "output_type": "execute_result"
    }
   ],
   "source": [
    "index.upsert(\n",
    "    vectors= vectors,\n",
    "    namespace='sample-namespace'\n",
    "\n",
    ")"
   ]
  },
  {
   "cell_type": "code",
   "execution_count": 24,
   "metadata": {},
   "outputs": [],
   "source": [
    "query = 'old lighthouse stood tall'\n",
    "\n",
    "query_vector = model.encode(query)"
   ]
  },
  {
   "cell_type": "code",
   "execution_count": 34,
   "metadata": {},
   "outputs": [
    {
     "data": {
      "text/plain": [
       "{'text': 'The old lighthouse stood tall, its beacon guiding ships safely through the dark night.'}"
      ]
     },
     "execution_count": 34,
     "metadata": {},
     "output_type": "execute_result"
    }
   ],
   "source": [
    "result = index.query(\n",
    "    vector=query_vector.tolist(),\n",
    "    top_k=2,\n",
    "    namespace='sample-namespace',\n",
    "    include_values=True,\n",
    "    include_metadata=True\n",
    "   \n",
    ")\n",
    "\n",
    "result['matches'][0].metadata"
   ]
  },
  {
   "cell_type": "code",
   "execution_count": null,
   "metadata": {},
   "outputs": [],
   "source": [
    "index.delete(\n",
    "    ids=['1','2'],\n",
    "    namespace='sample-namespace'    \n",
    ")\n",
    "\n",
    "index.describe_index_stats()"
   ]
  },
  {
   "cell_type": "code",
   "execution_count": null,
   "metadata": {},
   "outputs": [],
   "source": [
    "! pip install pandas"
   ]
  },
  {
   "cell_type": "code",
   "execution_count": 36,
   "metadata": {},
   "outputs": [
    {
     "data": {
      "text/plain": [
       "0                       Vegan Chicken Salad\n",
       "1                   Spring Rolls (4 pieces)\n",
       "2                   Pot Stickers (6 pieces)\n",
       "3                  Fried Wonton (10 pieces)\n",
       "4                 Fried Tofu with Soy Sauce\n",
       "                       ...                 \n",
       "196                       Fried Turnip Ball\n",
       "197                              Fried Curd\n",
       "198                        Stuffed Eggplant\n",
       "199         Black Pepper Vegan Chicken Roll\n",
       "200    Crispy Vegan Chicken with Mixed Nuts\n",
       "Name: item_name, Length: 201, dtype: object"
      ]
     },
     "execution_count": 36,
     "metadata": {},
     "output_type": "execute_result"
    }
   ],
   "source": [
    "import pandas as pd \n",
    "\n",
    "df = pd.read_csv('menu_items.csv')\n",
    "\n",
    "df['item_name']"
   ]
  },
  {
   "cell_type": "code",
   "execution_count": 38,
   "metadata": {},
   "outputs": [],
   "source": [
    "item_ids = df['item_id']\n",
    "item_names = df['item_name']"
   ]
  },
  {
   "cell_type": "code",
   "execution_count": 39,
   "metadata": {},
   "outputs": [
    {
     "data": {
      "text/plain": [
       "{'id': '1',\n",
       " 'values': array([-0.02061881, -0.01435534, -0.01261127, ..., -0.02458903,\n",
       "         0.00575566, -0.00873374], dtype=float32),\n",
       " 'metadata': {'item_name': 'Spring Rolls (4 pieces)', 'item_id': 'A2'}}"
      ]
     },
     "execution_count": 39,
     "metadata": {},
     "output_type": "execute_result"
    }
   ],
   "source": [
    "embeds = [model.encode(i) for i in item_names]\n",
    "\n",
    "vectors = []\n",
    "\n",
    "for i in range(len(item_ids)):\n",
    "    vectors.append({'id': str(i), 'values': embeds[i], 'metadata' : {'item_name': item_names[i], 'item_id': item_ids[i]}})\n",
    "\n",
    "\n",
    "vectors[1]\n",
    "\n"
   ]
  },
  {
   "cell_type": "code",
   "execution_count": 40,
   "metadata": {},
   "outputs": [
    {
     "data": {
      "text/plain": [
       "{'upserted_count': 201}"
      ]
     },
     "execution_count": 40,
     "metadata": {},
     "output_type": "execute_result"
    }
   ],
   "source": [
    "index.upsert(\n",
    "    vectors=vectors,\n",
    "    namespace='menu_items'\n",
    ")"
   ]
  },
  {
   "cell_type": "code",
   "execution_count": 41,
   "metadata": {},
   "outputs": [],
   "source": [
    "query = 'Vegan'\n",
    "\n",
    "query_vector = model.encode(query)"
   ]
  },
  {
   "cell_type": "code",
   "execution_count": 53,
   "metadata": {},
   "outputs": [
    {
     "data": {
      "text/plain": [
       "{'matches': [{'id': '120',\n",
       "              'metadata': {'item_id': 'L11',\n",
       "                           'item_name': 'Vegan Pork and Cabbage'},\n",
       "              'score': 0.874096334,\n",
       "              'values': []},\n",
       "             {'id': '106',\n",
       "              'metadata': {'item_id': 'E81',\n",
       "                           'item_name': 'Vegan Beef with Broccoli'},\n",
       "              'score': 0.871706128,\n",
       "              'values': []},\n",
       "             {'id': '116',\n",
       "              'metadata': {'item_id': 'L7',\n",
       "                           'item_name': 'Vegan Beef with Broccoli'},\n",
       "              'score': 0.871706128,\n",
       "              'values': []},\n",
       "             {'id': '85',\n",
       "              'metadata': {'item_id': 'E56',\n",
       "                           'item_name': 'Vegan Prawns and Mushrooms and '\n",
       "                                        'Vegetables'},\n",
       "              'score': 0.871537268,\n",
       "              'values': []},\n",
       "             {'id': '105',\n",
       "              'metadata': {'item_id': 'E80',\n",
       "                           'item_name': 'Vegan Beef with Assorted Vegetables'},\n",
       "              'score': 0.871500611,\n",
       "              'values': []}],\n",
       " 'namespace': 'menu_items',\n",
       " 'usage': {'read_units': 6}}"
      ]
     },
     "execution_count": 53,
     "metadata": {},
     "output_type": "execute_result"
    }
   ],
   "source": [
    "result = index.query(\n",
    "    vector= query_vector.tolist(),\n",
    "    namespace='menu_items',\n",
    "    include_metadata=True,\n",
    "    top_k=5\n",
    "\n",
    ")\n",
    "\n",
    "result"
   ]
  },
  {
   "cell_type": "code",
   "execution_count": null,
   "metadata": {},
   "outputs": [],
   "source": []
  }
 ],
 "metadata": {
  "kernelspec": {
   "display_name": ".venv",
   "language": "python",
   "name": "python3"
  },
  "language_info": {
   "codemirror_mode": {
    "name": "ipython",
    "version": 3
   },
   "file_extension": ".py",
   "mimetype": "text/x-python",
   "name": "python",
   "nbconvert_exporter": "python",
   "pygments_lexer": "ipython3",
   "version": "3.11.0"
  }
 },
 "nbformat": 4,
 "nbformat_minor": 2
}
