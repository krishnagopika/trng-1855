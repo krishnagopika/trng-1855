{
  "cells": [
    {
      "cell_type": "markdown",
      "metadata": {
        "id": "U_-Jp2FxxM9k"
      },
      "source": [
        "# Lecture Plan\n",
        "\n",
        "1. Vertex AI Training\n",
        "2. Vertex AI Testing\n",
        "\n",
        "---"
      ]
    },
    {
      "cell_type": "code",
      "execution_count": 1,
      "metadata": {
        "id": "GfwL9kI0zCRB"
      },
      "outputs": [],
      "source": [
        "# authenticate the user\n",
        "from google.colab import auth\n",
        "auth.authenticate_user()"
      ]
    },
    {
      "cell_type": "code",
      "execution_count": null,
      "metadata": {
        "id": "oUcJsyhCzKHU"
      },
      "outputs": [],
      "source": [
        "! pip3 install google-cloud-aiplatform google-cloud-storage"
      ]
    },
    {
      "cell_type": "code",
      "execution_count": null,
      "metadata": {
        "colab": {
          "base_uri": "https://localhost:8080/"
        },
        "id": "Zk8f3_R51_Xf",
        "outputId": "7a71aea4-706b-4b76-f1de-a267e2beab34"
      },
      "outputs": [
        {
          "data": {
            "text/plain": [
              "{'status': 'ok', 'restart': True}"
            ]
          },
          "execution_count": 7,
          "metadata": {},
          "output_type": "execute_result"
        }
      ],
      "source": [
        "# Automatically restart kernel after installs so that your environment can access the new packages\n",
        "import IPython\n",
        "\n",
        "app = IPython.Application.instance()\n",
        "app.kernel.do_shutdown(True)"
      ]
    },
    {
      "cell_type": "code",
      "execution_count": null,
      "metadata": {
        "id": "4R10yZgOzdoP"
      },
      "outputs": [],
      "source": [
        "import google.cloud.aiplatform\n",
        "# if you get an error just restart the runtime and run again\n",
        "\n",
        "import time"
      ]
    },
    {
      "cell_type": "code",
      "execution_count": 4,
      "metadata": {
        "colab": {
          "base_uri": "https://localhost:8080/"
        },
        "id": "9zaOmqLdzjSj",
        "outputId": "b29f0604-0a0c-40e2-9266-4e56808d94e9"
      },
      "outputs": [
        {
          "name": "stdout",
          "output_type": "stream",
          "text": [
            "Updated property [core/project].\n"
          ]
        }
      ],
      "source": [
        "# Define Project ID\n",
        "PROJECT_ID = \"theta-cell-406519\"\n",
        "\n",
        "! gcloud config set project $PROJECT_ID"
      ]
    },
    {
      "cell_type": "code",
      "execution_count": 5,
      "metadata": {
        "id": "G367dkpt2dPu"
      },
      "outputs": [],
      "source": [
        "# Define the region\n",
        "REGION = \"us-central1\"\n"
      ]
    },
    {
      "cell_type": "code",
      "execution_count": null,
      "metadata": {
        "id": "3HBmkXbG2wuT"
      },
      "outputs": [],
      "source": [
        "# Define the bucket\n",
        "BUCKET_NAME = f\"project-2-trng-1855\"  # @param {type:\"string\"}\n",
        "BUCKET_URI = f\"gs://{BUCKET_NAME}\""
      ]
    },
    {
      "cell_type": "code",
      "execution_count": null,
      "metadata": {
        "id": "SN5NAMdS-G6R"
      },
      "outputs": [],
      "source": [
        "# resolve an import issue related to shapely\n",
        "! pip install -U google-cloud-aiplatform \"shapely<2\"\n"
      ]
    },
    {
      "cell_type": "code",
      "execution_count": 6,
      "metadata": {
        "id": "LAButA6f28Ik"
      },
      "outputs": [],
      "source": [
        "from google.cloud import aiplatform, storage\n",
        "from google.cloud.aiplatform import jobs"
      ]
    },
    {
      "cell_type": "code",
      "execution_count": 7,
      "metadata": {
        "id": "HVRsteZY9nPE"
      },
      "outputs": [],
      "source": [
        "aiplatform.init(project=PROJECT_ID, location=REGION)"
      ]
    },
    {
      "cell_type": "code",
      "execution_count": null,
      "metadata": {
        "colab": {
          "base_uri": "https://localhost:8080/"
        },
        "id": "C4InoYho-QlW",
        "outputId": "e715a754-0816-45b2-aca1-efdc23d00041"
      },
      "outputs": [
        {
          "name": "stderr",
          "output_type": "stream",
          "text": [
            "INFO:google.cloud.aiplatform.datasets.dataset:Creating TextDataset\n",
            "INFO:google.cloud.aiplatform.datasets.dataset:Create TextDataset backing LRO: projects/719559140092/locations/us-central1/datasets/1494268187984789504/operations/3235994593220624384\n",
            "INFO:google.cloud.aiplatform.datasets.dataset:TextDataset created. Resource name: projects/719559140092/locations/us-central1/datasets/1494268187984789504\n",
            "INFO:google.cloud.aiplatform.datasets.dataset:To use this TextDataset in another session:\n",
            "INFO:google.cloud.aiplatform.datasets.dataset:ds = aiplatform.TextDataset('projects/719559140092/locations/us-central1/datasets/1494268187984789504')\n",
            "INFO:google.cloud.aiplatform.datasets.dataset:Importing TextDataset data: projects/719559140092/locations/us-central1/datasets/1494268187984789504\n",
            "INFO:google.cloud.aiplatform.datasets.dataset:Import TextDataset data backing LRO: projects/719559140092/locations/us-central1/datasets/1494268187984789504/operations/8260885877459255296\n",
            "INFO:google.cloud.aiplatform.datasets.dataset:TextDataset data imported. Resource name: projects/719559140092/locations/us-central1/datasets/1494268187984789504\n"
          ]
        }
      ],
      "source": [
        "# Creating the training Dataset\n",
        "src_uris = \"gs://project-2-trng-1855/training-data.csv\"\n",
        "display_name = \"trng-dataset-ip\"\n",
        "\n",
        "text_dataset = aiplatform.TextDataset.create(\n",
        "    display_name=display_name,\n",
        "    gcs_source=src_uris,\n",
        "    import_schema_uri=aiplatform.schema.dataset.ioformat.text.single_label_classification,\n",
        "    sync=True,\n",
        ")"
      ]
    },
    {
      "cell_type": "code",
      "execution_count": null,
      "metadata": {
        "id": "7jkNGsev-_gi"
      },
      "outputs": [],
      "source": [
        "# Define the training job\n",
        "training_job_display_name = \"training-job-unique\"\n",
        "job = aiplatform.AutoMLTextTrainingJob(\n",
        "    display_name=training_job_display_name,\n",
        "    prediction_type=\"classification\",\n",
        "    multi_label=False,\n",
        ")"
      ]
    },
    {
      "cell_type": "code",
      "execution_count": null,
      "metadata": {
        "colab": {
          "background_save": true,
          "base_uri": "https://localhost:8080/"
        },
        "id": "BniWFptF-8Cx",
        "outputId": "81c53839-50d6-4805-b706-fec9d105344b"
      },
      "outputs": [
        {
          "name": "stderr",
          "output_type": "stream",
          "text": [
            "INFO:google.cloud.aiplatform.training_jobs:View Training:\n",
            "https://console.cloud.google.com/ai/platform/locations/us-central1/training/2746537646267301888?project=719559140092\n",
            "INFO:google.cloud.aiplatform.training_jobs:AutoMLTextTrainingJob projects/719559140092/locations/us-central1/trainingPipelines/2746537646267301888 current state:\n",
            "PipelineState.PIPELINE_STATE_RUNNING\n",
            "INFO:google.cloud.aiplatform.training_jobs:AutoMLTextTrainingJob projects/719559140092/locations/us-central1/trainingPipelines/2746537646267301888 current state:\n",
            "PipelineState.PIPELINE_STATE_RUNNING\n",
            "INFO:google.cloud.aiplatform.training_jobs:AutoMLTextTrainingJob projects/719559140092/locations/us-central1/trainingPipelines/2746537646267301888 current state:\n",
            "PipelineState.PIPELINE_STATE_RUNNING\n",
            "INFO:google.cloud.aiplatform.training_jobs:AutoMLTextTrainingJob projects/719559140092/locations/us-central1/trainingPipelines/2746537646267301888 current state:\n",
            "PipelineState.PIPELINE_STATE_RUNNING\n",
            "INFO:google.cloud.aiplatform.training_jobs:AutoMLTextTrainingJob projects/719559140092/locations/us-central1/trainingPipelines/2746537646267301888 current state:\n",
            "PipelineState.PIPELINE_STATE_RUNNING\n",
            "INFO:google.cloud.aiplatform.training_jobs:AutoMLTextTrainingJob projects/719559140092/locations/us-central1/trainingPipelines/2746537646267301888 current state:\n",
            "PipelineState.PIPELINE_STATE_RUNNING\n",
            "INFO:google.cloud.aiplatform.training_jobs:AutoMLTextTrainingJob projects/719559140092/locations/us-central1/trainingPipelines/2746537646267301888 current state:\n",
            "PipelineState.PIPELINE_STATE_RUNNING\n",
            "INFO:google.cloud.aiplatform.training_jobs:AutoMLTextTrainingJob projects/719559140092/locations/us-central1/trainingPipelines/2746537646267301888 current state:\n",
            "PipelineState.PIPELINE_STATE_RUNNING\n",
            "INFO:google.cloud.aiplatform.training_jobs:AutoMLTextTrainingJob projects/719559140092/locations/us-central1/trainingPipelines/2746537646267301888 current state:\n",
            "PipelineState.PIPELINE_STATE_RUNNING\n",
            "INFO:google.cloud.aiplatform.training_jobs:AutoMLTextTrainingJob projects/719559140092/locations/us-central1/trainingPipelines/2746537646267301888 current state:\n",
            "PipelineState.PIPELINE_STATE_RUNNING\n",
            "INFO:google.cloud.aiplatform.training_jobs:AutoMLTextTrainingJob projects/719559140092/locations/us-central1/trainingPipelines/2746537646267301888 current state:\n",
            "PipelineState.PIPELINE_STATE_RUNNING\n",
            "INFO:google.cloud.aiplatform.training_jobs:AutoMLTextTrainingJob projects/719559140092/locations/us-central1/trainingPipelines/2746537646267301888 current state:\n",
            "PipelineState.PIPELINE_STATE_RUNNING\n",
            "INFO:google.cloud.aiplatform.training_jobs:AutoMLTextTrainingJob projects/719559140092/locations/us-central1/trainingPipelines/2746537646267301888 current state:\n",
            "PipelineState.PIPELINE_STATE_RUNNING\n",
            "INFO:google.cloud.aiplatform.training_jobs:AutoMLTextTrainingJob projects/719559140092/locations/us-central1/trainingPipelines/2746537646267301888 current state:\n",
            "PipelineState.PIPELINE_STATE_RUNNING\n",
            "INFO:google.cloud.aiplatform.training_jobs:AutoMLTextTrainingJob projects/719559140092/locations/us-central1/trainingPipelines/2746537646267301888 current state:\n",
            "PipelineState.PIPELINE_STATE_RUNNING\n",
            "INFO:google.cloud.aiplatform.training_jobs:AutoMLTextTrainingJob projects/719559140092/locations/us-central1/trainingPipelines/2746537646267301888 current state:\n",
            "PipelineState.PIPELINE_STATE_RUNNING\n"
          ]
        }
      ],
      "source": [
        "model_display_name = \"ip-classification\"\n",
        "\n",
        "# Run the training job\n",
        "model = job.run(\n",
        "    dataset=text_dataset,\n",
        "    model_display_name=model_display_name,\n",
        "    training_fraction_split=0.5,\n",
        "    validation_fraction_split=0.1,\n",
        "    test_fraction_split=0.1,\n",
        "    sync=True,\n",
        ")"
      ]
    },
    {
      "cell_type": "code",
      "execution_count": 13,
      "metadata": {
        "colab": {
          "base_uri": "https://localhost:8080/"
        },
        "id": "0w4rrluT_Px8",
        "outputId": "a063b7f3-5c22-4657-914f-36390b40864a"
      },
      "outputs": [
        {
          "name": "stdout",
          "output_type": "stream",
          "text": [
            "{'name': 'projects/719559140092/locations/us-central1/models/4831586144959332352@1/evaluations/8584133173514862592', 'metricsSchemaUri': 'gs://google-cloud-aiplatform/schema/modelevaluation/classification_metrics_1.0.0.yaml', 'metrics': {'logLoss': 0.12222175, 'confidenceMetrics': [{'recall': 1.0, 'precision': 0.33333334, 'recallAt1': 0.9166667, 'confidenceThreshold': 0.0, 'f1Score': 0.5, 'maxPredictions': 0.0, 'precisionAt1': 0.9166667, 'f1ScoreAt1': 0.9166667}, {'f1ScoreAt1': 0.9166667, 'confidenceThreshold': 0.05, 'precisionAt1': 0.9166667, 'maxPredictions': 0.0, 'f1Score': 0.75, 'precision': 0.6, 'recall': 1.0, 'recallAt1': 0.9166667}, {'f1ScoreAt1': 0.9166667, 'f1Score': 0.82758623, 'precisionAt1': 0.9166667, 'confidenceThreshold': 0.1, 'recall': 1.0, 'recallAt1': 0.9166667, 'precision': 0.7058824, 'maxPredictions': 0.0}, {'recallAt1': 0.9166667, 'maxPredictions': 0.0, 'precision': 0.85714287, 'f1ScoreAt1': 0.9166667, 'confidenceThreshold': 0.15, 'precisionAt1': 0.9166667, 'f1Score': 0.9230769, 'recall': 1.0}, {'maxPredictions': 0.0, 'precision': 0.85714287, 'confidenceThreshold': 0.2, 'recall': 1.0, 'f1ScoreAt1': 0.9166667, 'recallAt1': 0.9166667, 'f1Score': 0.9230769, 'precisionAt1': 0.9166667}, {'precision': 0.85714287, 'precisionAt1': 0.9166667, 'recallAt1': 0.9166667, 'f1Score': 0.9230769, 'f1ScoreAt1': 0.9166667, 'recall': 1.0, 'maxPredictions': 0.0, 'confidenceThreshold': 0.25}, {'f1ScoreAt1': 0.9166667, 'f1Score': 0.96, 'confidenceThreshold': 0.3, 'recallAt1': 0.9166667, 'precisionAt1': 0.9166667, 'precision': 0.9230769, 'maxPredictions': 0.0, 'recall': 1.0}, {'precisionAt1': 0.9166667, 'recallAt1': 0.9166667, 'confidenceThreshold': 0.35, 'precision': 0.9166667, 'f1ScoreAt1': 0.9166667, 'maxPredictions': 0.0, 'f1Score': 0.9166667, 'recall': 0.9166667}, {'confidenceThreshold': 0.4, 'recall': 0.9166667, 'precision': 0.9166667, 'recallAt1': 0.9166667, 'precisionAt1': 0.9166667, 'f1ScoreAt1': 0.9166667, 'maxPredictions': 0.0, 'f1Score': 0.9166667}, {'recallAt1': 0.9166667, 'confidenceThreshold': 0.45, 'f1Score': 0.9166667, 'f1ScoreAt1': 0.9166667, 'precisionAt1': 0.9166667, 'recall': 0.9166667, 'precision': 0.9166667, 'maxPredictions': 0.0}, {'precisionAt1': 0.9166667, 'f1ScoreAt1': 0.9166667, 'recallAt1': 0.9166667, 'maxPredictions': 0.0, 'recall': 0.9166667, 'precision': 0.9166667, 'f1Score': 0.9166667, 'confidenceThreshold': 0.5}, {'confidenceThreshold': 0.55, 'maxPredictions': 0.0, 'precision': 0.9166667, 'recallAt1': 0.9166667, 'f1Score': 0.9166667, 'recall': 0.9166667, 'precisionAt1': 0.9166667, 'f1ScoreAt1': 0.9166667}, {'precisionAt1': 1.0, 'f1Score': 0.9090909, 'confidenceThreshold': 0.6, 'maxPredictions': 0.0, 'precision': 1.0, 'f1ScoreAt1': 0.9090909, 'recall': 0.8333333, 'recallAt1': 0.8333333}, {'recall': 0.8333333, 'recallAt1': 0.8333333, 'precisionAt1': 1.0, 'precision': 1.0, 'maxPredictions': 0.0, 'f1Score': 0.9090909, 'f1ScoreAt1': 0.9090909, 'confidenceThreshold': 0.65}, {'precision': 1.0, 'f1Score': 0.9090909, 'recall': 0.8333333, 'precisionAt1': 1.0, 'recallAt1': 0.8333333, 'f1ScoreAt1': 0.9090909, 'confidenceThreshold': 0.7, 'maxPredictions': 0.0}, {'maxPredictions': 0.0, 'precisionAt1': 1.0, 'precision': 1.0, 'recallAt1': 0.8333333, 'f1Score': 0.9090909, 'confidenceThreshold': 0.75, 'recall': 0.8333333, 'f1ScoreAt1': 0.9090909}, {'f1Score': 0.9090909, 'f1ScoreAt1': 0.9090909, 'confidenceThreshold': 0.8, 'precisionAt1': 1.0, 'recallAt1': 0.8333333, 'recall': 0.8333333, 'maxPredictions': 0.0, 'precision': 1.0}, {'maxPredictions': 0.0, 'precision': 1.0, 'recall': 0.8333333, 'f1Score': 0.9090909, 'precisionAt1': 1.0, 'recallAt1': 0.8333333, 'confidenceThreshold': 0.85, 'f1ScoreAt1': 0.9090909}, {'precision': 1.0, 'recall': 0.6666667, 'confidenceThreshold': 0.875, 'f1Score': 0.8, 'recallAt1': 0.6666667, 'f1ScoreAt1': 0.8, 'precisionAt1': 1.0, 'maxPredictions': 0.0}, {'f1ScoreAt1': 0.8, 'recallAt1': 0.6666667, 'precision': 1.0, 'f1Score': 0.8, 'precisionAt1': 1.0, 'recall': 0.6666667, 'confidenceThreshold': 0.9, 'maxPredictions': 0.0}, {'f1ScoreAt1': 0.7368421, 'recall': 0.5833333, 'precision': 1.0, 'maxPredictions': 0.0, 'precisionAt1': 1.0, 'confidenceThreshold': 0.91, 'recallAt1': 0.5833333, 'f1Score': 0.7368421}, {'f1ScoreAt1': 0.7368421, 'recallAt1': 0.5833333, 'recall': 0.5833333, 'f1Score': 0.7368421, 'precisionAt1': 1.0, 'maxPredictions': 0.0, 'confidenceThreshold': 0.92, 'precision': 1.0}, {'recallAt1': 0.5833333, 'recall': 0.5833333, 'precisionAt1': 1.0, 'f1Score': 0.7368421, 'precision': 1.0, 'maxPredictions': 0.0, 'confidenceThreshold': 0.93, 'f1ScoreAt1': 0.7368421}, {'f1ScoreAt1': 0.6666667, 'precisionAt1': 1.0, 'f1Score': 0.6666667, 'recall': 0.5, 'recallAt1': 0.5, 'maxPredictions': 0.0, 'confidenceThreshold': 0.94, 'precision': 1.0}, {'recallAt1': 0.41666666, 'maxPredictions': 0.0, 'f1Score': 0.58823526, 'confidenceThreshold': 0.95, 'precision': 1.0, 'f1ScoreAt1': 0.58823526, 'recall': 0.41666666, 'precisionAt1': 1.0}, {'precision': 1.0, 'recallAt1': 0.41666666, 'f1Score': 0.58823526, 'maxPredictions': 0.0, 'confidenceThreshold': 0.96, 'recall': 0.41666666, 'f1ScoreAt1': 0.58823526, 'precisionAt1': 1.0}, {'recall': 0.33333334, 'maxPredictions': 0.0, 'precision': 1.0, 'f1Score': 0.5, 'confidenceThreshold': 0.97, 'precisionAt1': 1.0, 'recallAt1': 0.33333334, 'f1ScoreAt1': 0.5}, {'precision': 1.0, 'f1Score': 0.4, 'precisionAt1': 1.0, 'recallAt1': 0.25, 'f1ScoreAt1': 0.4, 'confidenceThreshold': 0.98, 'maxPredictions': 0.0, 'recall': 0.25}, {'f1Score': 0.2857143, 'recall': 0.16666667, 'f1ScoreAt1': 0.2857143, 'confidenceThreshold': 0.99, 'precision': 1.0, 'recallAt1': 0.16666667, 'precisionAt1': 1.0, 'maxPredictions': 0.0}, {'f1Score': 0.15384616, 'precision': 1.0, 'f1ScoreAt1': 0.15384616, 'confidenceThreshold': 0.995, 'recall': 0.083333336, 'recallAt1': 0.083333336, 'maxPredictions': 0.0, 'precisionAt1': 1.0}, {'f1ScoreAt1': 0.15384616, 'confidenceThreshold': 0.996, 'precisionAt1': 1.0, 'recall': 0.083333336, 'recallAt1': 0.083333336, 'f1Score': 0.15384616, 'maxPredictions': 0.0, 'precision': 1.0}, {'precisionAt1': 1.0, 'confidenceThreshold': 0.997, 'precision': 1.0, 'maxPredictions': 0.0, 'f1ScoreAt1': 0.15384616, 'recallAt1': 0.083333336, 'f1Score': 0.15384616, 'recall': 0.083333336}, {'recallAt1': 0.083333336, 'f1ScoreAt1': 0.15384616, 'precisionAt1': 1.0, 'confidenceThreshold': 0.998, 'recall': 0.083333336, 'maxPredictions': 0.0, 'f1Score': 0.15384616, 'precision': 1.0}, {'precision': 1.0, 'maxPredictions': 0.0, 'confidenceThreshold': 0.999, 'recallAt1': 0.0, 'f1ScoreAt1': 0.0, 'precisionAt1': 1.0, 'f1Score': 0.0, 'recall': 0.0}, {'f1Score': 0.0, 'maxPredictions': 0.0, 'recallAt1': 0.0, 'precisionAt1': 1.0, 'f1ScoreAt1': 0.0, 'confidenceThreshold': 1.0, 'recall': 0.0, 'precision': 1.0}], 'auPrc': 0.99404764, 'confusionMatrix': {'annotationSpecs': [{'id': '3127734822923927552', 'displayName': 'General'}, {'id': '5433577832137621504', 'displayName': 'Service'}, {'id': '8315881593654738944', 'displayName': 'Sales'}], 'rows': [[0.0, 1.0, 0.0], [0.0, 6.0, 0.0], [0.0, 0.0, 5.0]]}}, 'createTime': '2024-02-14T06:43:56.606664Z', 'sliceDimensions': ['annotationSpec'], 'annotationSchemaUri': 'gs://google-cloud-aiplatform/schema/dataset/annotation/text_classification_1.0.0.yaml'}\n"
          ]
        }
      ],
      "source": [
        "# Evaluation Metrics\n",
        "\n",
        "model = aiplatform.ModelRegistry('4831586144959332352')\n",
        "\n",
        "model = model.get_model()\n",
        "\n",
        "model_evaluations = model.list_model_evaluations()\n",
        "\n",
        "for model_evaluation in model_evaluations:\n",
        "    print(model_evaluation.to_dict())"
      ]
    },
    {
      "cell_type": "markdown",
      "metadata": {
        "id": "5EESNT9RZLje"
      },
      "source": [
        "[evaluation metrics]('https://cloud.google.com/vertex-ai/docs/evaluation/introduction#text')"
      ]
    },
    {
      "cell_type": "code",
      "execution_count": null,
      "metadata": {
        "id": "j_pzI7tz_Qe1"
      },
      "outputs": [],
      "source": [
        "# Model Deployment\n",
        "deployed_model_display_name = \"trng-1855-ip-classification\"\n",
        "\n",
        "endpoint = model.deploy(\n",
        "    deployed_model_display_name=deployed_model_display_name, sync=True)"
      ]
    },
    {
      "cell_type": "code",
      "execution_count": null,
      "metadata": {
        "id": "AV5Nw3KRaK9N"
      },
      "outputs": [],
      "source": [
        "# Model Prediction\n",
        "\n",
        "content = \"I'm having trouble accessing certain websites with my internet connection.\"\n",
        "\n",
        "response = endpoint.predict(instances=[{\"content\": content}])"
      ]
    },
    {
      "cell_type": "code",
      "execution_count": 17,
      "metadata": {
        "id": "aN20rV0WYacP"
      },
      "outputs": [],
      "source": [
        "# Copyright 2020 Google LLC\n",
        "#\n",
        "# Licensed under the Apache License, Version 2.0 (the \"License\");\n",
        "# you may not use this file except in compliance with the License.\n",
        "# You may obtain a copy of the License at\n",
        "#\n",
        "#     https://www.apache.org/licenses/LICENSE-2.0\n",
        "#\n",
        "# Unless required by applicable law or agreed to in writing, software\n",
        "# distributed under the License is distributed on an \"AS IS\" BASIS,\n",
        "# WITHOUT WARRANTIES OR CONDITIONS OF ANY KIND, either express or implied.\n",
        "# See the License for the specific language governing permissions and\n",
        "# limitations under the License.\n",
        "\n",
        "# [START aiplatform_predict_text_classification_single_label_sample]\n",
        "from google.cloud import aiplatform\n",
        "from google.cloud.aiplatform.gapic.schema import predict\n",
        "from google.protobuf import json_format\n",
        "from google.protobuf.struct_pb2 import Value\n",
        "\n",
        "\n",
        "def predict_text_classification_single_label_sample(\n",
        "    project: str,\n",
        "    endpoint_id: str,\n",
        "    content: str,\n",
        "    location: str = \"us-central1\",\n",
        "    api_endpoint: str = \"us-central1-aiplatform.googleapis.com\",\n",
        "):\n",
        "    # The AI Platform services require regional API endpoints.\n",
        "    client_options = {\"api_endpoint\": api_endpoint}\n",
        "    # Initialize client that will be used to create and send requests.\n",
        "    # This client only needs to be created once, and can be reused for multiple requests.\n",
        "    client = aiplatform.gapic.PredictionServiceClient(client_options=client_options)\n",
        "    instance = predict.instance.TextClassificationPredictionInstance(\n",
        "        content=content,\n",
        "    ).to_value()\n",
        "    instances = [instance]\n",
        "    parameters_dict = {}\n",
        "    parameters = json_format.ParseDict(parameters_dict, Value())\n",
        "    endpoint = client.endpoint_path(\n",
        "        project=project, location=location, endpoint=endpoint_id\n",
        "    )\n",
        "    response = client.predict(\n",
        "        endpoint=endpoint, instances=instances, parameters=parameters\n",
        "    )\n",
        "    print(\"response\")\n",
        "    print(\" deployed_model_id:\", response.deployed_model_id)\n",
        "\n",
        "    predictions = response.predictions\n",
        "    for prediction in predictions:\n",
        "        print(\" prediction:\", dict(prediction))\n",
        "\n",
        "\n",
        "# [END aiplatform_predict_text_classification_single_label_sample]"
      ]
    },
    {
      "cell_type": "code",
      "execution_count": 18,
      "metadata": {
        "colab": {
          "base_uri": "https://localhost:8080/"
        },
        "id": "8p5JMfxEXYGx",
        "outputId": "c907247d-07df-405c-8d09-39e81070c1af"
      },
      "outputs": [
        {
          "name": "stdout",
          "output_type": "stream",
          "text": [
            "response\n",
            " deployed_model_id: 4310637535719063552\n",
            " prediction: {'confidences': [0.9815472364425659, 0.003638351336121559, 0.014814476482570171], 'ids': ['5433577832137621504', '8315881593654738944', '3127734822923927552'], 'displayNames': ['Service', 'Sales', 'General']}\n"
          ]
        }
      ],
      "source": [
        "#Model prediction for a deployed model\n",
        "model = aiplatform.ModelRegistry('4831586144959332352')\n",
        "\n",
        "model = model.get_model()\n",
        "predict_text_classification_single_label_sample(\n",
        "    project=\"719559140092\",\n",
        "    endpoint_id=\"8395934561371947008\",\n",
        "    location=\"us-central1\",\n",
        "    content=\"I'm having trouble accessing certain websites with my internet connection.\"\n",
        ")"
      ]
    },
    {
      "cell_type": "markdown",
      "metadata": {},
      "source": [
        "[Model bias and fairness](https://cloud.google.com/vertex-ai/docs/evaluation/model-bias-metrics)"
      ]
    }
  ],
  "metadata": {
    "colab": {
      "provenance": []
    },
    "kernelspec": {
      "display_name": "Python 3",
      "name": "python3"
    },
    "language_info": {
      "name": "python"
    }
  },
  "nbformat": 4,
  "nbformat_minor": 0
}
