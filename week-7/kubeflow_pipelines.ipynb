{
  "cells": [
    {
      "cell_type": "markdown",
      "metadata": {
        "id": "SQZeqMYp9fIw"
      },
      "source": [
        "# Lecture Plan\n",
        "\n",
        "1. Vertex AI: Pipelines"
      ]
    },
    {
      "cell_type": "markdown",
      "metadata": {
        "id": "dkM62EYr9ohK"
      },
      "source": [
        "### Vertex AI: Pipelines\n",
        "\n",
        "\n",
        "- Vertex AI Pipeline is a product to run pipelines serverless.\n",
        "- Vertex AI Pipelines supports Kubeflow and TFX(Tensorflow Extended) pipelines.\n",
        "- Vertex AI kubeflow pipelines reduce the effort of maintaining and managing a kubernetes cluster.\n",
        "\n",
        "### Kubeflow pipelines\n",
        "\n",
        "- Kubeflow is a ML toolkit for deployment of ML workflows on kubernetes.\n",
        "- A pipeline in ML Workflow. Components in workflow are combined to form a graph.\n",
        "\n",
        "\n",
        "#### Components\n",
        "\n",
        "- a pipeline component is a self -contained code packaged as a docker image.\n",
        "- component is a single step in pipeline. one component does one specific task.\n",
        "- components are of two types, function based and container based components.\n",
        "- parameters are used to pass data between pipelines(component input and output).\n",
        "- artifacts serve the same purpose but they are used for large or complex data like datasets and model etc.\n",
        "\n",
        "ex: data preprossing, model training and model evaluation.\n",
        "\n",
        "\n",
        "#### Pipeline\n",
        "\n",
        "- A pipeline contains inputs required to run the pipeline and the inputs and outputs of each component.\n",
        "\n",
        "#### Compiler\n",
        "\n",
        "- a compiler takes the pipeline and creates a pipeline specification in JSON or YAML format.\n",
        "\n",
        "#### Model Lineage\n",
        "\n",
        "- the infomation about artifacts and parameters of pipeline run are stored using Vertex ML Metadata."
      ]
    },
    {
      "cell_type": "code",
      "execution_count": 147,
      "metadata": {
        "id": "ik5_eYKdEjlg"
      },
      "outputs": [],
      "source": [
        "from google.colab import auth\n",
        "auth.authenticate_user()"
      ]
    },
    {
      "cell_type": "code",
      "execution_count": null,
      "metadata": {
        "id": "YSuuzB0J9Vyz"
      },
      "outputs": [],
      "source": [
        "# ! pip install kfp"
      ]
    },
    {
      "cell_type": "code",
      "execution_count": null,
      "metadata": {
        "id": "Hde0-r1bDw7R"
      },
      "outputs": [],
      "source": [
        "# Automatically restart kernel after installs so that your environment can access the new packages\n",
        "# import IPython\n",
        "\n",
        "# app = IPython.Application.instance()\n",
        "# app.kernel.do_shutdown(True)"
      ]
    },
    {
      "cell_type": "code",
      "execution_count": 148,
      "metadata": {
        "id": "8r5Db989ETt9"
      },
      "outputs": [],
      "source": [
        "import kfp\n",
        "from kfp import compiler, dsl\n",
        "from kfp.dsl import Artifact, Dataset, Input, InputPath, Model, Output, OutputPath, component"
      ]
    },
    {
      "cell_type": "markdown",
      "metadata": {
        "id": "P7gXEN-fHCth"
      },
      "source": [
        "components can be compiled to yaml files, shared and loaded in pipelines.\n",
        "\n",
        "```python\n",
        "@component(output_component_file=\"file_name\")\n",
        "```\n",
        "\n",
        "```\n",
        "component = kfp.components.load_component_from_file('file_name')\n",
        "```\n",
        "\n"
      ]
    },
    {
      "cell_type": "code",
      "execution_count": null,
      "metadata": {
        "colab": {
          "base_uri": "https://localhost:8080/"
        },
        "id": "zuptfOe7EarI",
        "outputId": "42201d69-25e5-4df8-fec6-4d85f32db56f"
      },
      "outputs": [
        {
          "name": "stderr",
          "output_type": "stream",
          "text": [
            "<ipython-input-5-5b84e3749042>:1: DeprecationWarning: output_component_file parameter is deprecated and will eventually be removed. Please use `Compiler().compile()` to compile a component instead.\n",
            "  @component(\n",
            "<ipython-input-5-5b84e3749042>:5: DeprecationWarning: output_component_file parameter is deprecated and will eventually be removed. Please use `Compiler().compile()` to compile a component instead.\n",
            "  def data_preprocessing():\n",
            "/usr/local/lib/python3.10/dist-packages/kfp/dsl/component_decorator.py:119: FutureWarning: Python 3.7 has reached end-of-life. The default base_image used by the @dsl.component decorator will switch from 'python:3.7' to 'python:3.8' on April 23, 2024. To ensure your existing components work with versions of the KFP SDK released after that date, you should provide an explicit base_image argument and ensure your component works as intended on Python 3.8.\n",
            "  return component_factory.create_component_from_func(\n"
          ]
        }
      ],
      "source": [
        "@dsl.component(\n",
        "    output_component_file=\"data_preprocessing.yaml\",\n",
        "    packages_to_install = [\"pandas\", \"nltk\"],\n",
        "    base_image=\"python:3.9\",\n",
        "    )\n",
        "def data_preprocessing():\n",
        "  pass\n",
        "\n"
      ]
    },
    {
      "cell_type": "code",
      "execution_count": 149,
      "metadata": {
        "id": "RhSdK9mjDOvI"
      },
      "outputs": [],
      "source": [
        "# Define the bucket\n",
        "BUCKET_NAME = f\"project-2-trng-1855\"  # @param {type:\"string\"}\n",
        "PIPELINE_ROOT = f\"gs://{BUCKET_NAME}/pipelines\""
      ]
    },
    {
      "cell_type": "code",
      "execution_count": 151,
      "metadata": {
        "colab": {
          "base_uri": "https://localhost:8080/"
        },
        "id": "SvhxXCEeLyzi",
        "outputId": "848c281a-975b-4072-9b03-05bcf69742bb"
      },
      "outputs": [
        {
          "name": "stderr",
          "output_type": "stream",
          "text": [
            "<ipython-input-151-f1057a226522>:1: DeprecationWarning: output_component_file parameter is deprecated and will eventually be removed. Please use `Compiler().compile()` to compile a component instead.\n",
            "  @dsl.component(\n",
            "<ipython-input-151-f1057a226522>:5: DeprecationWarning: output_component_file parameter is deprecated and will eventually be removed. Please use `Compiler().compile()` to compile a component instead.\n",
            "  def create_dataset(src_uris:str, dataset: Output[str]):\n"
          ]
        }
      ],
      "source": [
        "@dsl.component(\n",
        "    output_component_file=\"dataset_component_1.yaml\",\n",
        "    packages_to_install = [\"google-cloud-aiplatform\", \"google-cloud-storage\"],\n",
        "    base_image=\"python:3.9\",\n",
        "    )\n",
        "def create_dataset(src_uris:str, dataset: Output[str]):\n",
        "  from google.cloud import aiplatform, storage\n",
        "  from google.cloud.aiplatform import jobs\n",
        "\n",
        "  aiplatform.init(project='theta-cell-406519', location='us-central1')\n",
        "  display_name = \"trng-1855-dataset-ip\"\n",
        "  dataset = aiplatform.TextDataset.create(\n",
        "      display_name=display_name,\n",
        "      gcs_source=src_uris,\n",
        "      import_schema_uri=aiplatform.schema.dataset.ioformat.text.single_label_classification,\n",
        "      sync=True,\n",
        "  )\n",
        "  return dataset.resource_name\n"
      ]
    },
    {
      "cell_type": "code",
      "execution_count": 152,
      "metadata": {
        "colab": {
          "base_uri": "https://localhost:8080/"
        },
        "id": "uyY2GGAbKq-1",
        "outputId": "e56f7eed-de49-4173-ebdb-8100fd76f670"
      },
      "outputs": [
        {
          "name": "stderr",
          "output_type": "stream",
          "text": [
            "<ipython-input-152-48a3f08ea06e>:1: DeprecationWarning: output_component_file parameter is deprecated and will eventually be removed. Please use `Compiler().compile()` to compile a component instead.\n",
            "  @dsl.component(\n",
            "<ipython-input-152-48a3f08ea06e>:5: DeprecationWarning: output_component_file parameter is deprecated and will eventually be removed. Please use `Compiler().compile()` to compile a component instead.\n",
            "  def train_text_model(dataset: str, model: Output[str]):\n"
          ]
        }
      ],
      "source": [
        "@dsl.component(\n",
        "    output_component_file=\"text_model_training_component_1.yaml\",\n",
        "    packages_to_install = [\"google-cloud-aiplatform\", \"google-cloud-storage\"],\n",
        "    base_image=\"python:3.9\",\n",
        "    )\n",
        "def train_text_model(dataset: str, model: Output[str]):\n",
        "  from google.cloud import aiplatform, storage\n",
        "  from google.cloud.aiplatform import jobs\n",
        "\n",
        "  aiplatform.init(project='theta-cell-406519', location='us-central1')\n",
        "  training_job_display_name = \"training-job-unique\"\n",
        "  dataset = aiplatform.TextDataset(dataset_name=dataset)\n",
        "  job = aiplatform.AutoMLTextTrainingJob(\n",
        "      display_name=training_job_display_name,\n",
        "      prediction_type=\"classification\",\n",
        "      multi_label=False,\n",
        "      )\n",
        "  model_display_name = \"ip-classification\"\n",
        "  # Run the training job\n",
        "  model = job.run(\n",
        "      dataset=dataset,\n",
        "      model_display_name=model_display_name,\n",
        "      training_fraction_split=0.5,\n",
        "      validation_fraction_split=0.1,\n",
        "      test_fraction_split=0.1,\n",
        "      sync=True,\n",
        "      )\n",
        "  return model.resource_name\n"
      ]
    },
    {
      "cell_type": "code",
      "execution_count": 153,
      "metadata": {
        "colab": {
          "base_uri": "https://localhost:8080/"
        },
        "id": "1NHXeU5cMxQq",
        "outputId": "925b4947-cdea-4c7d-da20-b8cc70caebc3"
      },
      "outputs": [
        {
          "name": "stderr",
          "output_type": "stream",
          "text": [
            "<ipython-input-153-d5513c0a292c>:1: DeprecationWarning: output_component_file parameter is deprecated and will eventually be removed. Please use `Compiler().compile()` to compile a component instead.\n",
            "  @dsl.component(\n",
            "<ipython-input-153-d5513c0a292c>:5: DeprecationWarning: output_component_file parameter is deprecated and will eventually be removed. Please use `Compiler().compile()` to compile a component instead.\n",
            "  def deploy_model(model_name: str):\n"
          ]
        }
      ],
      "source": [
        "@dsl.component(\n",
        "    output_component_file=\"model_deployment_component_1.yaml\",\n",
        "    packages_to_install = [\"google-cloud-aiplatform\", \"google-cloud-storage\"],\n",
        "    base_image=\"python:3.9\",\n",
        "    )\n",
        "def deploy_model(model_name: str):\n",
        "  from google.cloud import aiplatform, storage\n",
        "  from google.cloud.aiplatform import jobs\n",
        "  aiplatform.init(project='theta-cell-406519', location='us-central1')\n",
        "  model = aiplatform.ModelRegistry(model_name)\n",
        "  model = model.get_model()\n",
        "  deployed_model_display_name = \"trng-1855-ip-classification\"\n",
        "  endpoint = model.deploy(deployed_model_display_name=deployed_model_display_name, sync=True)"
      ]
    },
    {
      "cell_type": "code",
      "execution_count": 154,
      "metadata": {
        "id": "7qgD4rdVOwRc"
      },
      "outputs": [],
      "source": [
        "@dsl.pipeline(\n",
        "    name=\"ip-model-pipeline\", pipeline_root=PIPELINE_ROOT\n",
        ")\n",
        "def pipeline(src_uris:str = \"gs://project-2-trng-1855/training-data.csv\"):\n",
        "  dataset = create_dataset(src_uris=src_uris).output\n",
        "  model = train_text_model( dataset = dataset).output\n",
        "  deploy_model(model_name = model)\n",
        "\n"
      ]
    },
    {
      "cell_type": "code",
      "execution_count": 155,
      "metadata": {
        "id": "RSoQfxp5_Gy5"
      },
      "outputs": [],
      "source": [
        "compiler.Compiler().compile(\n",
        "    pipeline_func=pipeline, package_path=\"ip-text-classification-pipeline_1.json\"\n",
        ")"
      ]
    },
    {
      "cell_type": "code",
      "execution_count": null,
      "metadata": {
        "id": "OyiPtf0-QTWF"
      },
      "outputs": [],
      "source": []
    },
    {
      "cell_type": "markdown",
      "metadata": {
        "id": "Asz4KTkJECIT"
      },
      "source": [
        "#### Vertex AI Experiments\n",
        "\n",
        "\n",
        "Vertex AI Experiments is a tool to track and analyze different models and architectures. It is used to track\n",
        "\n",
        "- metrics and parameters of model and\tCompare models\n",
        "- Model lineage\n",
        "- pipeline runs\n",
        "\n",
        "\n"
      ]
    },
    {
      "cell_type": "code",
      "execution_count": 156,
      "metadata": {
        "colab": {
          "base_uri": "https://localhost:8080/"
        },
        "id": "IaylZJNPEEBt",
        "outputId": "9a3688a2-d837-423e-b162-d51446d76ec9"
      },
      "outputs": [
        {
          "name": "stderr",
          "output_type": "stream",
          "text": [
            "INFO:google.cloud.aiplatform.metadata.experiment_resources:Associating projects/719559140092/locations/us-central1/metadataStores/default/contexts/trng-1855-text-classification-run-2 to Experiment: trng-1855-text-classification\n"
          ]
        },
        {
          "data": {
            "text/plain": [
              "<google.cloud.aiplatform.metadata.experiment_run_resource.ExperimentRun at 0x7c0e64662e30>"
            ]
          },
          "execution_count": 156,
          "metadata": {},
          "output_type": "execute_result"
        }
      ],
      "source": [
        "from google.cloud import aiplatform, storage\n",
        "from google.cloud.aiplatform import jobs\n",
        "\n",
        "EXPERIMENT_NAME = \"trng-1855-text-classification\"\n",
        "# Create experiment\n",
        "aiplatform.init(experiment=EXPERIMENT_NAME)\n",
        "aiplatform.start_run(\"run-2\")\n",
        "\n",
        "\n"
      ]
    },
    {
      "cell_type": "code",
      "execution_count": 157,
      "metadata": {
        "colab": {
          "base_uri": "https://localhost:8080/"
        },
        "id": "JZizrrZeERvG",
        "outputId": "7bc61245-1d5c-4cfc-d01d-2aef27f42c3f"
      },
      "outputs": [
        {
          "name": "stdout",
          "output_type": "stream",
          "text": [
            "{'name': 'projects/719559140092/locations/us-central1/models/4831586144959332352@1/evaluations/8584133173514862592', 'metricsSchemaUri': 'gs://google-cloud-aiplatform/schema/modelevaluation/classification_metrics_1.0.0.yaml', 'metrics': {'auPrc': 0.99404764, 'confusionMatrix': {'rows': [[0.0, 1.0, 0.0], [0.0, 6.0, 0.0], [0.0, 0.0, 5.0]], 'annotationSpecs': [{'displayName': 'General', 'id': '3127734822923927552'}, {'displayName': 'Service', 'id': '5433577832137621504'}, {'displayName': 'Sales', 'id': '8315881593654738944'}]}, 'logLoss': 0.12222175, 'confidenceMetrics': [{'f1ScoreAt1': 0.9166667, 'precision': 0.33333334, 'recallAt1': 0.9166667, 'recall': 1.0, 'confidenceThreshold': 0.0, 'precisionAt1': 0.9166667, 'maxPredictions': 0.0, 'f1Score': 0.5}, {'f1ScoreAt1': 0.9166667, 'precision': 0.6, 'recallAt1': 0.9166667, 'recall': 1.0, 'confidenceThreshold': 0.05, 'precisionAt1': 0.9166667, 'maxPredictions': 0.0, 'f1Score': 0.75}, {'f1ScoreAt1': 0.9166667, 'precision': 0.7058824, 'recallAt1': 0.9166667, 'recall': 1.0, 'confidenceThreshold': 0.1, 'precisionAt1': 0.9166667, 'maxPredictions': 0.0, 'f1Score': 0.82758623}, {'f1ScoreAt1': 0.9166667, 'precision': 0.85714287, 'recallAt1': 0.9166667, 'recall': 1.0, 'confidenceThreshold': 0.15, 'precisionAt1': 0.9166667, 'maxPredictions': 0.0, 'f1Score': 0.9230769}, {'f1ScoreAt1': 0.9166667, 'precision': 0.85714287, 'recallAt1': 0.9166667, 'recall': 1.0, 'confidenceThreshold': 0.2, 'precisionAt1': 0.9166667, 'maxPredictions': 0.0, 'f1Score': 0.9230769}, {'f1ScoreAt1': 0.9166667, 'precision': 0.85714287, 'recallAt1': 0.9166667, 'recall': 1.0, 'confidenceThreshold': 0.25, 'precisionAt1': 0.9166667, 'maxPredictions': 0.0, 'f1Score': 0.9230769}, {'f1ScoreAt1': 0.9166667, 'precision': 0.9230769, 'recallAt1': 0.9166667, 'recall': 1.0, 'confidenceThreshold': 0.3, 'precisionAt1': 0.9166667, 'maxPredictions': 0.0, 'f1Score': 0.96}, {'f1ScoreAt1': 0.9166667, 'precision': 0.9166667, 'recallAt1': 0.9166667, 'recall': 0.9166667, 'confidenceThreshold': 0.35, 'precisionAt1': 0.9166667, 'maxPredictions': 0.0, 'f1Score': 0.9166667}, {'f1ScoreAt1': 0.9166667, 'precision': 0.9166667, 'recallAt1': 0.9166667, 'recall': 0.9166667, 'confidenceThreshold': 0.4, 'precisionAt1': 0.9166667, 'maxPredictions': 0.0, 'f1Score': 0.9166667}, {'f1ScoreAt1': 0.9166667, 'precision': 0.9166667, 'recallAt1': 0.9166667, 'recall': 0.9166667, 'confidenceThreshold': 0.45, 'precisionAt1': 0.9166667, 'maxPredictions': 0.0, 'f1Score': 0.9166667}, {'f1ScoreAt1': 0.9166667, 'precision': 0.9166667, 'recallAt1': 0.9166667, 'recall': 0.9166667, 'confidenceThreshold': 0.5, 'precisionAt1': 0.9166667, 'maxPredictions': 0.0, 'f1Score': 0.9166667}, {'f1ScoreAt1': 0.9166667, 'precision': 0.9166667, 'recallAt1': 0.9166667, 'recall': 0.9166667, 'confidenceThreshold': 0.55, 'precisionAt1': 0.9166667, 'maxPredictions': 0.0, 'f1Score': 0.9166667}, {'f1ScoreAt1': 0.9090909, 'precision': 1.0, 'recallAt1': 0.8333333, 'recall': 0.8333333, 'confidenceThreshold': 0.6, 'precisionAt1': 1.0, 'maxPredictions': 0.0, 'f1Score': 0.9090909}, {'f1ScoreAt1': 0.9090909, 'precision': 1.0, 'recallAt1': 0.8333333, 'recall': 0.8333333, 'confidenceThreshold': 0.65, 'precisionAt1': 1.0, 'maxPredictions': 0.0, 'f1Score': 0.9090909}, {'f1ScoreAt1': 0.9090909, 'precision': 1.0, 'recallAt1': 0.8333333, 'recall': 0.8333333, 'confidenceThreshold': 0.7, 'precisionAt1': 1.0, 'maxPredictions': 0.0, 'f1Score': 0.9090909}, {'f1ScoreAt1': 0.9090909, 'precision': 1.0, 'recallAt1': 0.8333333, 'recall': 0.8333333, 'confidenceThreshold': 0.75, 'precisionAt1': 1.0, 'maxPredictions': 0.0, 'f1Score': 0.9090909}, {'f1ScoreAt1': 0.9090909, 'precision': 1.0, 'recallAt1': 0.8333333, 'recall': 0.8333333, 'confidenceThreshold': 0.8, 'precisionAt1': 1.0, 'maxPredictions': 0.0, 'f1Score': 0.9090909}, {'f1ScoreAt1': 0.9090909, 'precision': 1.0, 'recallAt1': 0.8333333, 'recall': 0.8333333, 'confidenceThreshold': 0.85, 'precisionAt1': 1.0, 'maxPredictions': 0.0, 'f1Score': 0.9090909}, {'f1ScoreAt1': 0.8, 'precision': 1.0, 'recallAt1': 0.6666667, 'recall': 0.6666667, 'confidenceThreshold': 0.875, 'precisionAt1': 1.0, 'maxPredictions': 0.0, 'f1Score': 0.8}, {'f1ScoreAt1': 0.8, 'precision': 1.0, 'recallAt1': 0.6666667, 'recall': 0.6666667, 'confidenceThreshold': 0.9, 'precisionAt1': 1.0, 'maxPredictions': 0.0, 'f1Score': 0.8}, {'f1ScoreAt1': 0.7368421, 'precision': 1.0, 'recallAt1': 0.5833333, 'recall': 0.5833333, 'confidenceThreshold': 0.91, 'precisionAt1': 1.0, 'maxPredictions': 0.0, 'f1Score': 0.7368421}, {'f1ScoreAt1': 0.7368421, 'precision': 1.0, 'recallAt1': 0.5833333, 'recall': 0.5833333, 'confidenceThreshold': 0.92, 'precisionAt1': 1.0, 'maxPredictions': 0.0, 'f1Score': 0.7368421}, {'f1ScoreAt1': 0.7368421, 'precision': 1.0, 'recallAt1': 0.5833333, 'recall': 0.5833333, 'confidenceThreshold': 0.93, 'precisionAt1': 1.0, 'maxPredictions': 0.0, 'f1Score': 0.7368421}, {'f1ScoreAt1': 0.6666667, 'precision': 1.0, 'recallAt1': 0.5, 'recall': 0.5, 'confidenceThreshold': 0.94, 'precisionAt1': 1.0, 'maxPredictions': 0.0, 'f1Score': 0.6666667}, {'f1ScoreAt1': 0.58823526, 'precision': 1.0, 'recallAt1': 0.41666666, 'recall': 0.41666666, 'confidenceThreshold': 0.95, 'precisionAt1': 1.0, 'maxPredictions': 0.0, 'f1Score': 0.58823526}, {'f1ScoreAt1': 0.58823526, 'precision': 1.0, 'recallAt1': 0.41666666, 'recall': 0.41666666, 'confidenceThreshold': 0.96, 'precisionAt1': 1.0, 'maxPredictions': 0.0, 'f1Score': 0.58823526}, {'f1ScoreAt1': 0.5, 'precision': 1.0, 'recallAt1': 0.33333334, 'recall': 0.33333334, 'confidenceThreshold': 0.97, 'precisionAt1': 1.0, 'maxPredictions': 0.0, 'f1Score': 0.5}, {'f1ScoreAt1': 0.4, 'precision': 1.0, 'recallAt1': 0.25, 'recall': 0.25, 'confidenceThreshold': 0.98, 'precisionAt1': 1.0, 'maxPredictions': 0.0, 'f1Score': 0.4}, {'f1ScoreAt1': 0.2857143, 'precision': 1.0, 'recallAt1': 0.16666667, 'recall': 0.16666667, 'confidenceThreshold': 0.99, 'precisionAt1': 1.0, 'maxPredictions': 0.0, 'f1Score': 0.2857143}, {'f1ScoreAt1': 0.15384616, 'precision': 1.0, 'recallAt1': 0.083333336, 'recall': 0.083333336, 'confidenceThreshold': 0.995, 'precisionAt1': 1.0, 'maxPredictions': 0.0, 'f1Score': 0.15384616}, {'f1ScoreAt1': 0.15384616, 'precision': 1.0, 'recallAt1': 0.083333336, 'recall': 0.083333336, 'confidenceThreshold': 0.996, 'precisionAt1': 1.0, 'maxPredictions': 0.0, 'f1Score': 0.15384616}, {'f1ScoreAt1': 0.15384616, 'precision': 1.0, 'recallAt1': 0.083333336, 'recall': 0.083333336, 'confidenceThreshold': 0.997, 'precisionAt1': 1.0, 'maxPredictions': 0.0, 'f1Score': 0.15384616}, {'f1ScoreAt1': 0.15384616, 'precision': 1.0, 'recallAt1': 0.083333336, 'recall': 0.083333336, 'confidenceThreshold': 0.998, 'precisionAt1': 1.0, 'maxPredictions': 0.0, 'f1Score': 0.15384616}, {'f1ScoreAt1': 0.0, 'precision': 1.0, 'recallAt1': 0.0, 'recall': 0.0, 'confidenceThreshold': 0.999, 'precisionAt1': 1.0, 'maxPredictions': 0.0, 'f1Score': 0.0}, {'f1ScoreAt1': 0.0, 'precision': 1.0, 'recallAt1': 0.0, 'recall': 0.0, 'confidenceThreshold': 1.0, 'precisionAt1': 1.0, 'maxPredictions': 0.0, 'f1Score': 0.0}]}, 'createTime': '2024-02-14T06:43:56.606664Z', 'sliceDimensions': ['annotationSpec'], 'annotationSchemaUri': 'gs://google-cloud-aiplatform/schema/dataset/annotation/text_classification_1.0.0.yaml'}\n"
          ]
        }
      ],
      "source": [
        "# Model\n",
        "model = aiplatform.ModelRegistry('4831586144959332352')\n",
        "\n",
        "model = model.get_model()\n",
        "\n",
        "model_evaluations = model.list_model_evaluations()\n",
        "\n",
        "for model_evaluation in model_evaluations:\n",
        "    print(model_evaluation.to_dict())\n"
      ]
    },
    {
      "cell_type": "code",
      "execution_count": 158,
      "metadata": {
        "id": "wB2MoWDxEX_l"
      },
      "outputs": [],
      "source": [
        "for model_evaluation in model_evaluations:\n",
        "    metrics = model_evaluation.to_dict()['metrics']\n",
        "    log_metrics = {}\n",
        "    log_metrics['auPrc'] = metrics['auPrc']\n",
        "    log_metrics['logLoss'] = metrics['logLoss']\n",
        "    confidenceMetrics = model_evaluation.to_dict()['metrics']['confidenceMetrics']\n",
        "    #print(confidenceMetrics)\n",
        "    aiplatform.log_params(log_metrics)\n",
        "    aiplatform.log_params(confidenceMetrics[0])"
      ]
    },
    {
      "cell_type": "code",
      "execution_count": null,
      "metadata": {
        "id": "2hviPyLiEmi8"
      },
      "outputs": [],
      "source": [
        "aiplatform.end_run()"
      ]
    },
    {
      "cell_type": "code",
      "execution_count": null,
      "metadata": {
        "id": "Ksm6DsmuG46Y"
      },
      "outputs": [],
      "source": []
    }
  ],
  "metadata": {
    "colab": {
      "provenance": []
    },
    "kernelspec": {
      "display_name": "Python 3",
      "name": "python3"
    },
    "language_info": {
      "name": "python"
    }
  },
  "nbformat": 4,
  "nbformat_minor": 0
}
