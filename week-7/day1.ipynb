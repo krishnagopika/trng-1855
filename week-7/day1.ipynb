{
 "cells": [
  {
   "cell_type": "markdown",
   "metadata": {},
   "source": [
    "# Lecture Plan\n",
    "\n",
    "1. AutoGen\n",
    "2. AutoGen Studio\n",
    "3. LangSmith\n",
    "4. other frameworks:\n",
    "  - Flowise\n",
    "  - LangFlow\n",
    "\n",
    "---"
   ]
  },
  {
   "cell_type": "markdown",
   "metadata": {},
   "source": [
    "### LangChain vs AutoGen\n",
    "\n",
    "\n",
    "**LangChain:**\n",
    "\n",
    "1. LLM based applications with Chains, Tools and Agents\n",
    "2. LangChain natievly supports to multiple external data sources\n",
    "3. LangChain uses a Chain Based approach. \n",
    "4. LangChain recently launched LangGraph which supports DAG in Chains and extends LangChain's existing features to Multi Agent workflows.\n",
    "\n",
    "**AutoGen**\n",
    "\n",
    "1. Multi Agent Framework from Microsoft.\n",
    "2. Used to build LLM Applications with workflows involving the Multi Agent Conversations.\n",
    "3. AutoGen uses an Agent Based  Approach\n",
    "4. AutoGen recently launched AutoGen studio. It is a web interface for rapid prototyping.\n",
    "\n",
    "![AutoGen Framework](./images/autogen.png)\n"
   ]
  },
  {
   "cell_type": "markdown",
   "metadata": {},
   "source": []
  },
  {
   "cell_type": "code",
   "execution_count": null,
   "metadata": {},
   "outputs": [],
   "source": [
    "! pip install pyautogen"
   ]
  },
  {
   "cell_type": "markdown",
   "metadata": {},
   "source": [
    "#### Config List\n",
    "\n",
    "- specify the model and other configuration info to agent.\n",
    "\n",
    "**ways to generate config list:**\n",
    "\n",
    "1. `get_config_list`: generates config list for API calls\n",
    "2. `config_list_openai_aoai`:  generates config list for OpenAI and Azure OpenAI endpoints\n",
    "3. `config_list_from_json`: loads configuration from a JSON file. `filter_dict` is used to filter the `config_list_from_json` file.\n",
    "4. `config_list_from_models`: creates configurations based on provided list of models.\n",
    "5. `config_list_from_dotenv`: loads configuration from a .env file. `filter_dict` is used to filter the `config_list_from_json` file."
   ]
  },
  {
   "cell_type": "code",
   "execution_count": null,
   "metadata": {},
   "outputs": [],
   "source": [
    "import autogen"
   ]
  },
  {
   "cell_type": "code",
   "execution_count": 8,
   "metadata": {},
   "outputs": [],
   "source": [
    "from autogen import config_list_from_dotenv\n",
    "\n",
    "config_list = config_list_from_dotenv(\n",
    "    dotenv_file_path='C:/TrainingMaterial/generative-ai/genai-material/.env',\n",
    "    filter_dict={\n",
    "        \"model\":{\n",
    "            \"gpt-3.5-turbo\"\n",
    "        }\n",
    "    }\n",
    ")"
   ]
  },
  {
   "cell_type": "markdown",
   "metadata": {},
   "source": [
    "#### Agents\n",
    "\n",
    "AutoGen provides an abstraction for creating the agents with following features:\n",
    "\n",
    "- **Conversable:** Any agent can send or recieve messages from the other agent.\n",
    "- **Customizable:** Agents in autogen can be integrated with LLMs, tools and humans.\n",
    "\n",
    "#### Multi Agent Conversational Framework\n",
    "\n",
    "![AutoGen Agents](./images/autogen_agents.png)\n",
    "\n",
    "\n",
    "1. `ConversableAgent`: Genric class for agents that converse with each other by exchnaging messages.\n",
    "2. `AssistantAgent`: designed to act as an AI Assistant using LLMs.\n",
    "3. `UserProxyAgent`: proxy for humans.\n",
    "4. `GroupChatManager` : A chat manager that can manage a group chat of multiple agents."
   ]
  },
  {
   "cell_type": "code",
   "execution_count": 14,
   "metadata": {},
   "outputs": [
    {
     "name": "stdout",
     "output_type": "stream",
     "text": [
      "\u001b[33muser_proxy\u001b[0m (to assitant):\n",
      "\n",
      "Code to sort the numbers using merge sort\n",
      "\n",
      "--------------------------------------------------------------------------------\n"
     ]
    },
    {
     "name": "stdout",
     "output_type": "stream",
     "text": [
      "\u001b[33massitant\u001b[0m (to user_proxy):\n",
      "\n",
      "Here is the Python code to implement the merge sort algorithm for sorting numbers:\n",
      "\n",
      "```python\n",
      "def merge_sort(arr):\n",
      "    if len(arr) <= 1:\n",
      "        return arr\n",
      "    \n",
      "    mid = len(arr) // 2\n",
      "    left_half = arr[:mid]\n",
      "    right_half = arr[mid:]\n",
      "    \n",
      "    left_half = merge_sort(left_half)\n",
      "    right_half = merge_sort(right_half)\n",
      "    \n",
      "    return merge(left_half, right_half)\n",
      "\n",
      "def merge(left, right):\n",
      "    result = []\n",
      "    i = j = 0\n",
      "    \n",
      "    while i < len(left) and j < len(right):\n",
      "        if left[i] < right[j]:\n",
      "            result.append(left[i])\n",
      "            i += 1\n",
      "        else:\n",
      "            result.append(right[j])\n",
      "            j += 1\n",
      "    \n",
      "    while i < len(left):\n",
      "        result.append(left[i])\n",
      "        i += 1\n",
      "    \n",
      "    while j < len(right):\n",
      "        result.append(right[j])\n",
      "        j += 1\n",
      "    \n",
      "    return result\n",
      "\n",
      "# Test the merge_sort function\n",
      "numbers = [5, 2, 8, 12, 3, 7]\n",
      "sorted_numbers = merge_sort(numbers)\n",
      "print(sorted_numbers)\n",
      "```\n",
      "\n",
      "This code defines two functions: `merge_sort` and `merge`. The `merge_sort` function recursively divides the input array into smaller halves until the base case is reached (when the array has only one element). Then, it merges the sorted halves using the `merge` function. The `merge` function compares the elements from the left and right halves and merges them into a sorted result.\n",
      "\n",
      "The code includes a test case where the `merge_sort` function is called with an example array `[5, 2, 8, 12, 3, 7]`. The sorted result is printed using the `print` function.\n",
      "\n",
      "Please note that this code assumes the input is a list of numbers. If you want to sort a different type of data or in a different format, you may need to modify the code accordingly.\n",
      "\n",
      "Let me know if you need any further assistance!\n",
      "\n",
      "--------------------------------------------------------------------------------\n",
      "\u001b[31m\n",
      ">>>>>>>> USING AUTO REPLY...\u001b[0m\n",
      "\u001b[31m\n",
      ">>>>>>>> EXECUTING CODE BLOCK 0 (inferred language is python)...\u001b[0m\n"
     ]
    },
    {
     "name": "stderr",
     "output_type": "stream",
     "text": [
      "WARNING:autogen.code_utils:SIGALRM is not supported on Windows. No timeout will be enforced.\n"
     ]
    },
    {
     "name": "stdout",
     "output_type": "stream",
     "text": [
      "\u001b[33muser_proxy\u001b[0m (to assitant):\n",
      "\n",
      "exitcode: 0 (execution succeeded)\n",
      "Code output: \n",
      "[2, 3, 5, 7, 8, 12]\n",
      "\n",
      "\n",
      "--------------------------------------------------------------------------------\n",
      "\u001b[33massitant\u001b[0m (to user_proxy):\n",
      "\n",
      "Great! The code executed successfully and sorted the numbers using the merge sort algorithm. The output `[2, 3, 5, 7, 8, 12]` confirms that the numbers have been sorted in ascending order.\n",
      "\n",
      "Is there anything else I can help you with?\n",
      "\n",
      "--------------------------------------------------------------------------------\n",
      "\u001b[31m\n",
      ">>>>>>>> USING AUTO REPLY...\u001b[0m\n",
      "\u001b[33muser_proxy\u001b[0m (to assitant):\n",
      "\n",
      "\n",
      "\n",
      "--------------------------------------------------------------------------------\n",
      "\u001b[33massitant\u001b[0m (to user_proxy):\n",
      "\n",
      "If you have any more questions or need assistance with anything else, please let me know. I'm here to help!\n",
      "\n",
      "--------------------------------------------------------------------------------\n",
      "\u001b[31m\n",
      ">>>>>>>> USING AUTO REPLY...\u001b[0m\n",
      "\u001b[33muser_proxy\u001b[0m (to assitant):\n",
      "\n",
      "\n",
      "\n",
      "--------------------------------------------------------------------------------\n",
      "\u001b[33massitant\u001b[0m (to user_proxy):\n",
      "\n",
      "If you don't have any more questions or need further assistance, then I believe our conversation is complete. Feel free to reach out again if you have any more questions in the future. Have a great day!\n",
      "\n",
      "--------------------------------------------------------------------------------\n",
      "\u001b[31m\n",
      ">>>>>>>> USING AUTO REPLY...\u001b[0m\n",
      "\u001b[33muser_proxy\u001b[0m (to assitant):\n",
      "\n",
      "\n",
      "\n",
      "--------------------------------------------------------------------------------\n",
      "\u001b[33massitant\u001b[0m (to user_proxy):\n",
      "\n",
      "Thank you! If you have any more questions in the future, don't hesitate to ask. Have a great day!\n",
      "\n",
      "--------------------------------------------------------------------------------\n",
      "\u001b[31m\n",
      ">>>>>>>> USING AUTO REPLY...\u001b[0m\n",
      "\u001b[33muser_proxy\u001b[0m (to assitant):\n",
      "\n",
      "\n",
      "\n",
      "--------------------------------------------------------------------------------\n",
      "\u001b[33massitant\u001b[0m (to user_proxy):\n",
      "\n",
      "You're welcome! If you have any more questions or need assistance in the future, feel free to ask. Have a wonderful day!\n",
      "\n",
      "--------------------------------------------------------------------------------\n",
      "\u001b[31m\n",
      ">>>>>>>> USING AUTO REPLY...\u001b[0m\n",
      "\u001b[33muser_proxy\u001b[0m (to assitant):\n",
      "\n",
      "\n",
      "\n",
      "--------------------------------------------------------------------------------\n"
     ]
    }
   ],
   "source": [
    "# Code generation agent\n",
    "\n",
    "from autogen import AssistantAgent, UserProxyAgent\n",
    "\n",
    "assistant = AssistantAgent(\n",
    "    name = \"assitant\",\n",
    "    llm_config={\n",
    "        \"config_list\": config_list,\n",
    "        \"temperature\": 0.0,\n",
    "        \"cache_seed\": 42\n",
    "\n",
    "    },\n",
    "    max_consecutive_auto_reply= 10\n",
    ")\n",
    "\n",
    "\n",
    "user_proxy = UserProxyAgent(\n",
    "\n",
    "    name = \"user_proxy\",\n",
    "    system_message=\"reply TERMINATE when you are done with the code\",\n",
    "    human_input_mode=\"TERMINATE\",\n",
    "    code_execution_config={\n",
    "        \"work_dir\": \"C:/TrainingMaterial/generative-ai/genai-material/trng-1855/trng-git-repo/trng-1855/week-7/\",\n",
    "        \"use_docker\" : False\n",
    "    },\n",
    "    is_termination_msg = lambda x : x.get(\"content\", \"\").rstrip().endswith(\"TERMINATE\"),\n",
    "    max_consecutive_auto_reply= 10\n",
    "    \n",
    ")\n",
    "\n",
    "response = user_proxy.initiate_chat(\n",
    "    assistant,\n",
    "    message = \"\"\"Code to sort the numbers using merge sort\"\"\",\n",
    "    summry_method=\"reflection_from_llms\"\n",
    ")\n",
    "\n",
    "\n",
    "\n",
    "\n"
   ]
  },
  {
   "cell_type": "code",
   "execution_count": null,
   "metadata": {},
   "outputs": [],
   "source": [
    "import openai\n",
    "\n",
    "result = openai.completions.create(\n",
    "    \n",
    ")"
   ]
  },
  {
   "cell_type": "code",
   "execution_count": null,
   "metadata": {},
   "outputs": [],
   "source": [
    "# Agent Group Chat\n",
    "\n"
   ]
  },
  {
   "cell_type": "markdown",
   "metadata": {},
   "source": [
    "#### References\n",
    "\n",
    "\n",
    "- [AutoGen Docs](https://microsoft.github.io/autogen/docs/Getting-Started)\n",
    "- [AutoGen SDK](https://microsoft.github.io/autogen/docs/reference/agentchat/conversable_agent)"
   ]
  },
  {
   "cell_type": "markdown",
   "metadata": {},
   "source": [
    "### AutoGen Studio\n",
    "\n",
    "- An inteface by AutoGen used to rapildly create agents and multi agent workflows.\n",
    "\n"
   ]
  },
  {
   "cell_type": "code",
   "execution_count": null,
   "metadata": {},
   "outputs": [],
   "source": [
    "! pip install autogenstudio"
   ]
  },
  {
   "cell_type": "markdown",
   "metadata": {},
   "source": [
    "`autogenstudio ui --port 8081`"
   ]
  }
 ],
 "metadata": {
  "kernelspec": {
   "display_name": ".venv",
   "language": "python",
   "name": "python3"
  },
  "language_info": {
   "codemirror_mode": {
    "name": "ipython",
    "version": 3
   },
   "file_extension": ".py",
   "mimetype": "text/x-python",
   "name": "python",
   "nbconvert_exporter": "python",
   "pygments_lexer": "ipython3",
   "version": "3.11.0rc2"
  }
 },
 "nbformat": 4,
 "nbformat_minor": 2
}
