{
 "cells": [
  {
   "cell_type": "markdown",
   "metadata": {},
   "source": [
    "# Lecture Plan\n",
    "\n",
    "1. Chains\n",
    "   - Simple Sequenctial Chain\n",
    "   - Sequential Chain\n",
    "   - Router Chain\n",
    "   - Math Chain\n",
    "   - Tranform Chain\n",
    "2. Document Loaders\n",
    "3. Transformers\n",
    "4. Text Embeddings\n",
    "5. Vector Store\n",
    "6. Retreivers\n",
    "7. Multi Query Retreival\n",
    "\n",
    "\n",
    "---"
   ]
  },
  {
   "cell_type": "markdown",
   "metadata": {},
   "source": [
    "### LangChain Expression Language (LCEL)\n",
    "\n",
    "\n",
    "- Easy way to compose chains together using Runnable Interface\n",
    "  \n",
    "Provides:\n",
    "\n",
    "- Streaming\n",
    "- Async\n",
    "- Parallel Execution\n",
    "- Retires and Fallbacks\n",
    "- Input and Output Schemas\n",
    "- Integration with langsmith\n",
    "\n",
    "#### Runnable Interface\n",
    "\n",
    "- strem\n",
    "- invoke\n",
    "- batch\n",
    "\n",
    "Async:\n",
    "\n",
    "- astrem\n",
    "- ainvoke\n",
    "- abatch\n",
    "\n",
    "\n",
    "[LCEL Reference](https://python.langchain.com/docs/expression_language/interface)"
   ]
  },
  {
   "cell_type": "markdown",
   "metadata": {},
   "source": [
    "## Runnable Interface\n",
    "\n",
    "\n",
    "1. Runnable Parallel: used to define  and run multiple values and operations in parallel.\n",
    "\n",
    "2. Runnble Passthrough: used to take the input and pass it through \n",
    "\n",
    "3. Runnable Lambda: used to turn the python functions to pipe compatable functions"
   ]
  },
  {
   "cell_type": "code",
   "execution_count": 1,
   "metadata": {},
   "outputs": [
    {
     "data": {
      "text/plain": [
       "True"
      ]
     },
     "execution_count": 1,
     "metadata": {},
     "output_type": "execute_result"
    }
   ],
   "source": [
    "from dotenv import load_dotenv\n",
    "\n",
    "load_dotenv()"
   ]
  },
  {
   "cell_type": "markdown",
   "metadata": {},
   "source": [
    "#### LLM Chain"
   ]
  },
  {
   "cell_type": "code",
   "execution_count": 2,
   "metadata": {},
   "outputs": [
    {
     "name": "stderr",
     "output_type": "stream",
     "text": [
      "c:\\TrainingMaterial\\generative-ai\\genai-material\\.venv\\Lib\\site-packages\\langchain_core\\_api\\deprecation.py:117: LangChainDeprecationWarning: The class `langchain_community.chat_models.openai.ChatOpenAI` was deprecated in langchain-community 0.0.10 and will be removed in 0.2.0. An updated version of the class exists in the langchain-openai package and should be used instead. To use it run `pip install -U langchain-openai` and import as `from langchain_openai import ChatOpenAI`.\n",
      "  warn_deprecated(\n"
     ]
    }
   ],
   "source": [
    "from langchain.chat_models.openai import ChatOpenAI\n",
    "\n",
    "model = ChatOpenAI(model='gpt-3.5-turbo', temperature=0.0)"
   ]
  },
  {
   "cell_type": "code",
   "execution_count": 7,
   "metadata": {},
   "outputs": [],
   "source": [
    "from langchain.llms.deepinfra import DeepInfra\n",
    "from langchain_experimental.chat_models import Llama2Chat\n",
    "llm = DeepInfra(\n",
    "    model_id=\"meta-llama/Llama-2-70b-chat-hf\"\n",
    ")\n",
    "\n",
    "model = Llama2Chat(llm=llm)"
   ]
  },
  {
   "cell_type": "code",
   "execution_count": 3,
   "metadata": {},
   "outputs": [],
   "source": [
    "from langchain.prompts import ChatPromptTemplate\n",
    "from langchain_core.messages import SystemMessage\n",
    "from langchain.prompts import HumanMessagePromptTemplate\n",
    "\n",
    "\n",
    "prompt = ChatPromptTemplate.from_messages(\n",
    "    [\n",
    "        SystemMessage(content=\"You are a code assistant that generates code for users input\"),\n",
    "        HumanMessagePromptTemplate.from_template(\"provide code for {text} in {language}\")\n",
    "    ]\n",
    ")"
   ]
  },
  {
   "cell_type": "code",
   "execution_count": 11,
   "metadata": {},
   "outputs": [
    {
     "data": {
      "text/plain": [
       "'Sure! Here\\'s a code snippet that prints all prime numbers within a given range in Python:\\n\\n```python\\ndef is_prime(num):\\n    if num < 2:\\n        return False\\n    for i in range(2, int(num ** 0.5) + 1):\\n        if num % i == 0:\\n            return False\\n    return True\\n\\nstart = int(input(\"Enter the starting number: \"))\\nend = int(input(\"Enter the ending number: \"))\\n\\nprint(\"Prime numbers between\", start, \"and\", end, \"are:\")\\nfor num in range(start, end + 1):\\n    if is_prime(num):\\n        print(num)\\n```\\n\\nIn this code, we define a helper function `is_prime()` that checks whether a number is prime or not. Then, we take user input for the starting and ending numbers of the range. Finally, we iterate through the range and print all the prime numbers within that range.'"
      ]
     },
     "execution_count": 11,
     "metadata": {},
     "output_type": "execute_result"
    }
   ],
   "source": [
    "# LLM Chain\n",
    "\n",
    "from langchain_core.output_parsers import StrOutputParser\n",
    "\n",
    "parser = StrOutputParser()\n",
    "chain = prompt | model | parser\n",
    "\n",
    "chain.invoke({'text':'print prime numbers', 'language':'python'})"
   ]
  },
  {
   "cell_type": "markdown",
   "metadata": {},
   "source": [
    "### Simple Sequential Chain\n",
    "\n",
    "![Simple Sequential Chain](./images/SimpleSequentialChain.PNG)"
   ]
  },
  {
   "cell_type": "code",
   "execution_count": 41,
   "metadata": {},
   "outputs": [],
   "source": [
    "company_name_prompt = ChatPromptTemplate.from_messages(\n",
    "    [\n",
    "        SystemMessage(content=\"You are an assistant that provides a single company name based on the description provided by the user\"),\n",
    "        HumanMessagePromptTemplate.from_template(\"{text}\")\n",
    "\n",
    "    ]\n",
    ")\n",
    "\n",
    "slogan_prompt_template = ChatPromptTemplate.from_messages(\n",
    "    [\n",
    "        SystemMessage(content=\"genrate a slogan from company name provided by the user and print it along with the name of the company\"),\n",
    "        HumanMessagePromptTemplate.from_template(\"{company_name}\")\n",
    "\n",
    "    ]\n",
    ")"
   ]
  },
  {
   "cell_type": "code",
   "execution_count": 42,
   "metadata": {},
   "outputs": [],
   "source": [
    "from langchain_core.runnables import RunnableParallel\n",
    "\n",
    "chain = RunnableParallel(\n",
    "    company_name = company_name_prompt | model,\n",
    "    company_slogan = {'company_name' : company_name_prompt | model} | slogan_prompt_template | model | parser \n",
    ")\n",
    "# chain = {'company_name' : company_name_prompt | model} | slogan_prompt_template | model | parser \n"
   ]
  },
  {
   "cell_type": "code",
   "execution_count": 43,
   "metadata": {},
   "outputs": [
    {
     "data": {
      "text/plain": [
       "{'company_name': AIMessage(content='  Sure! Based on your description, the company name that comes to mind is \"Terrafugia\". Terrafugia is a company that designs and manufactures flying cars, also known as personal aerial vehicles or PAVs. The company was founded in 2006 and is based in Woburn, Massachusetts, USA. Terrafugia\\'s mission is to create practical and safe flying cars that can be used for personal transportation and recreation. Their first product, the Transition, is a light aircraft that can convert from a car to a plane in just a few minutes.'),\n",
       " 'company_slogan': '  Sure, here\\'s a slogan for Terrafugia:\\n\\n\"Terrafugia: Take to the skies, and hit the road\"\\n\\nOr, if you prefer, here\\'s another option:\\n\\n\"Terrafugia: The sky\\'s the limit, and so is the highway\"\\n\\nI hope these options capture the essence of Terrafugia\\'s innovative technology and the freedom it offers to its customers!'}"
      ]
     },
     "execution_count": 43,
     "metadata": {},
     "output_type": "execute_result"
    }
   ],
   "source": [
    "chain.invoke({'text':'a company that sells flying cars'})"
   ]
  },
  {
   "cell_type": "markdown",
   "metadata": {},
   "source": [
    "#### Sequential Chain\n",
    "\n",
    "![Sequential Chain](./images/SequentialChain.PNG)"
   ]
  },
  {
   "cell_type": "code",
   "execution_count": 4,
   "metadata": {},
   "outputs": [],
   "source": [
    "code_generation_prompt = ChatPromptTemplate.from_messages(\n",
    "   [\n",
    "       SystemMessage(content=\"You are a code assistant that generates code for users input\"),\n",
    "       HumanMessagePromptTemplate.from_template(\"generate code for {text} in {language}\")\n",
    "\n",
    "   ] \n",
    ")\n",
    "\n",
    "time_complexity_prompt = ChatPromptTemplate.from_messages(\n",
    "    [\n",
    "        SystemMessage(content=\"You are a code assistant that evaluates the time and space complexity of code for users input\"),\n",
    "        HumanMessagePromptTemplate.from_template(\"{code}\")\n",
    "    ]\n",
    ")\n",
    "\n",
    "\n",
    "code_summary_chain = ChatPromptTemplate.from_messages(\n",
    "    [\n",
    "        SystemMessage(content=\"you are a code assitant that prints the time complexity of the code and code provided by the user and an explanation for the code\"),\n",
    "        HumanMessagePromptTemplate.from_template(\"{code} and {time_complexity} \")\n",
    "    ]\n",
    ")\n"
   ]
  },
  {
   "cell_type": "code",
   "execution_count": 10,
   "metadata": {},
   "outputs": [],
   "source": [
    "from langchain_core.runnables import RunnableParallel, RunnablePassthrough\n",
    "\n",
    "chain = RunnableParallel(\n",
    "    code_generation = code_generation_prompt | model,\n",
    "    code_complexity = RunnablePassthrough.assign(code = (code_generation_prompt | model))| time_complexity_prompt | model,\n",
    "    code_comparision = {'code' : (code_generation_prompt | model), 'time_complexity': ({'code' : code_generation_prompt | model} | time_complexity_prompt | model)} | code_summary_chain | model\n",
    ")"
   ]
  },
  {
   "cell_type": "code",
   "execution_count": 11,
   "metadata": {},
   "outputs": [
    {
     "data": {
      "text/plain": [
       "{'code_generation': AIMessage(content=\"  Sure! Here's an example code that prints all prime numbers up to a given number `n`:\\n```\\ndef print_primes(n):\\n    for i in range(2, n+1):\\n        is_prime = True\\n        for j in range(2, int(i**0.5) + 1):\\n            if i % j == 0:\\n                is_prime = False\\n                break\\n        if is_prime:\\n            print(i)\\n```\\nHere's an explanation of the code:\\n\\n1. The function `print_primes` takes an integer `n` as input.\\n2. The loop `for i in range(2, n+1)` iterates over the numbers from 2 to `n`.\\n3. The variable `is_prime` is initialized to `True` for each iteration.\\n4. The loop `for j in range(2, int(i**0.5) + 1)` checks whether `i` is divisible by any number between 2 and the square root of `i`. If `i` is divisible by `j`, then `is_prime` is set to `False` and the loop breaks.\\n5. If `is_prime` is still `True` after the inner loop, then `i` is a prime number and it is printed.\\n\\nHere's an example usage of the function:\\n```\\nprint_primes(30)\\n```\\nThis will print all prime numbers up to 30, which are:\\n\\n2, 3, 5, 7, 11, 13, 17, 19, 23, 29\\n\\nI hope this helps! Let me know if you have any questions or need further assistance.\"),\n",
       " 'code_complexity': AIMessage(content='  Sure, I can help you with that!\\n\\nThe first code snippet you provided has a time complexity of O(n^2), where n is the number entered by the user. This is because the inner for loop iterates from 2 to the square root of n, and the outer for loop iterates from 2 to n. The number of iterations in the inner loop increases quadratically with n, so the overall time complexity is O(n^2).\\n\\nThe second code snippet you provided has a time complexity of O(n), where n is the number entered by the user. This is because the for loop iterates from 2 to n, and the `gcd` function has a time complexity of O(1) for each iteration. Therefore, the overall time complexity is O(n).\\n\\nIn terms of space complexity, both code snippets have a space complexity of O(1) because they only use a constant amount of memory, regardless of the size of the input.\\n\\nSo, the second code snippet is more efficient in terms of time complexity, but both code snippets have the same space complexity.'),\n",
       " 'code_comparision': AIMessage(content=\"  Sure, I'd be happy to help! The three codes you provided are all valid ways to find prime numbers up to a certain number, and they each have different time and space complexities.\\n\\n1. The first code uses a for loop to iterate from 2 to n, and then uses another for loop to check if the current number is prime. The time complexity of this code is O(n^2), because the inner loop runs up to sqrt(n) times, and the outer loop runs n times. The space complexity is O(1), because only a small amount of extra memory is needed to store the variables.\\n\\n2. The second code uses the `isprime` function from the `math.gcd` module to check if a number is prime. The time complexity of this code is O(n), because the `isprime` function takes constant time to execute, and the for loop runs n times. The space complexity is also O(1), because only a small amount of extra memory is needed to store the variables.\\n\\n3. The third code uses the Sieve of Eratosthenes algorithm to find all prime numbers up to a certain number. The time complexity of this code is O(n log log n), because the sieve algorithm takes advantage of the fact that the prime numbers are distributed unevenly, and only needs to check a subset of the numbers. The space complexity is O(n), because the sieve array needs to be able to store all the numbers up to n.\\n\\nIn general, the Sieve of Eratosthenes algorithm is the most efficient way to find prime numbers up to a certain number, followed by the `isprime` function from the `math.gcd` module. The first code is the least efficient of the three, because it uses a nested loop that takes quadratic time.\")}"
      ]
     },
     "execution_count": 11,
     "metadata": {},
     "output_type": "execute_result"
    }
   ],
   "source": [
    "chain.invoke({'text':'print prime numbers', 'language':'python'})"
   ]
  },
  {
   "cell_type": "markdown",
   "metadata": {},
   "source": [
    "#### Router Chain\n",
    "\n",
    "![Router Chain](./images/RouterChain.PNG)"
   ]
  },
  {
   "cell_type": "code",
   "execution_count": 22,
   "metadata": {},
   "outputs": [],
   "source": [
    "sales_prompt = ChatPromptTemplate.from_messages(\n",
    "\n",
    "    [\n",
    "\n",
    "    SystemMessage(content=\"You are a helpfull, honest sales assisnt for a telecom company called brightspeed\"),\n",
    "    HumanMessagePromptTemplate.from_template(\"{text}\")\n",
    "\n",
    "    ]\n",
    "    \n",
    ")\n",
    "\n",
    "service_prompt = ChatPromptTemplate.from_messages(\n",
    "\n",
    "    [\n",
    "    SystemMessage(content=\"You are a helpfull, honest service assisnt for a telecom company called brightspeed guide the user to resolve the issues.\"),\n",
    "    HumanMessagePromptTemplate.from_template(\"{text}\")\n",
    "    ]\n",
    ")\n",
    "\n",
    "\n",
    "\n",
    "router_prompt = ChatPromptTemplate.from_messages(\n",
    "\n",
    "    [\n",
    "    SystemMessage(content=\"Categorize the user input to sales or service along with actual text\"),\n",
    "    HumanMessagePromptTemplate.from_template(\"{text}\")\n",
    "    ]\n",
    ")"
   ]
  },
  {
   "cell_type": "code",
   "execution_count": 23,
   "metadata": {},
   "outputs": [],
   "source": [
    "from langchain_core.runnables import RunnableLambda\n",
    "from langchain_core.output_parsers import StrOutputParser\n",
    "\n",
    "from transformers import pipeline\n",
    "\n",
    "\n",
    "# classifier = pipeline('zero-shot-classification', candidate_labels = ['sales', 'service'])\n",
    "\n",
    "parser = StrOutputParser()\n",
    "\n",
    "chain = router_prompt | model | parser\n",
    "\n",
    "def categorize_text(text):\n",
    "    if(\"sales\" in text):\n",
    "        return sales_prompt\n",
    "    else:\n",
    "        return service_prompt\n",
    "    \n",
    "\n",
    "router_chain = RunnablePassthrough.assign(text = (router_prompt | model | parser)) | RunnableLambda(lambda text: categorize_text(text)) | model"
   ]
  },
  {
   "cell_type": "code",
   "execution_count": 24,
   "metadata": {},
   "outputs": [
    {
     "data": {
      "text/plain": [
       "AIMessage(content=\"  Hello! Welcome to Brightspeed! We're happy to help you with your inquiry.\\n\\nWe offer a variety of broadband plans that cater to different needs and budgets. Our plans come with different speeds, data caps, and features to ensure you get the best experience for your online activities.\\n\\nHere are some of our most popular broadband plans:\\n\\n1. Basic: This plan offers speeds of up to 50 Mbps and a data cap of 500 GB. It's perfect for light internet users who primarily use the internet for browsing, emailing, and social media.\\n2. Standard: With speeds of up to 100 Mbps and a data cap of 1 TB, this plan is ideal for households with multiple devices. It's great for streaming, online gaming, and heavy internet usage.\\n3. Premium: Our top-tier plan offers speeds of up to 500 Mbps and a data cap of 2 TB. It's designed for heavy internet users who need fast speeds for streaming, online gaming, and large file transfers.\\n\\nWe also offer customized plans for businesses, so please let us know if you have any specific requirements.\\n\\nBefore choosing a plan, you may want to consider factors such as the number of devices you'll be connecting, the type of online activities you'll be doing, and your budget. Our team can help you determine the best plan for your needs.\\n\\nWould you like me to recommend a plan based on your specific requirements? Or would you like to know more about any of our plans?\")"
      ]
     },
     "execution_count": 24,
     "metadata": {},
     "output_type": "execute_result"
    }
   ],
   "source": [
    "router_chain.invoke({'text':\"What are the broadband plans available?\"})"
   ]
  },
  {
   "cell_type": "markdown",
   "metadata": {},
   "source": [
    "#### Transform Chain\n",
    "\n",
    "- used to transform the input before it is passed to the prompt or model."
   ]
  },
  {
   "cell_type": "code",
   "execution_count": 29,
   "metadata": {},
   "outputs": [
    {
     "data": {
      "text/plain": [
       "AIMessage(content='  Sure, I\\'d be happy to help! The actual text you provided is:\\n\\n\"ITS ME HI!\"\\n\\nIs there anything else I can assist you with?')"
      ]
     },
     "execution_count": 29,
     "metadata": {},
     "output_type": "execute_result"
    }
   ],
   "source": [
    "def to_upper(input):\n",
    "    return {'text':str(input).upper()}\n",
    "\n",
    "prompt = ChatPromptTemplate.from_messages(\n",
    "    [\n",
    "        SystemMessage(content=\"you are a helpfull assistant\"),\n",
    "        HumanMessagePromptTemplate.from_template(\"{text}, print the actual text\")\n",
    "    ]\n",
    "    \n",
    ") \n",
    "\n",
    "chain = RunnableLambda(lambda text: to_upper(text)) | prompt | model\n",
    "\n",
    "chain.invoke({\"text\":\"Its me Hi!\"})"
   ]
  },
  {
   "cell_type": "markdown",
   "metadata": {},
   "source": [
    "#### Math Chain"
   ]
  },
  {
   "cell_type": "code",
   "execution_count": null,
   "metadata": {},
   "outputs": [],
   "source": [
    "! pip install numexpr"
   ]
  },
  {
   "cell_type": "code",
   "execution_count": 33,
   "metadata": {},
   "outputs": [
    {
     "data": {
      "text/plain": [
       "{'question': {'What is 2+2?'}, 'answer': 'Answer: 4'}"
      ]
     },
     "execution_count": 33,
     "metadata": {},
     "output_type": "execute_result"
    }
   ],
   "source": [
    "from langchain.chains import LLMMathChain\n",
    "\n",
    "chain = LLMMathChain.from_llm(llm)\n",
    "\n",
    "chain.invoke({\"What is 2+2?\"})"
   ]
  },
  {
   "cell_type": "markdown",
   "metadata": {},
   "source": [
    "# LangChain Legacy Chains"
   ]
  },
  {
   "cell_type": "code",
   "execution_count": null,
   "metadata": {},
   "outputs": [],
   "source": [
    "# Sequential Chains\n",
    "\n",
    "from langchain.chains import SimpleSequentialChain, LLMChain\n",
    "\n",
    "first_prompt = ChatPromptTemplate.from_template(\n",
    "    \"What is the best name to describe a company that makes {product}?\"\n",
    ")\n",
    "\n",
    "chain_one = LLMChain(\n",
    "    llm=llm,\n",
    "    prompt=first_prompt,\n",
    ")"
   ]
  },
  {
   "cell_type": "code",
   "execution_count": null,
   "metadata": {},
   "outputs": [],
   "source": [
    "second_prompt = ChatPromptTemplate.from_template(\n",
    "    \"Provide a slogan for the company {company_name}\"\n",
    ")\n",
    "\n",
    "chain_two = LLMChain(\n",
    "    llm=llm,\n",
    "    prompt=second_prompt,\n",
    ")"
   ]
  },
  {
   "cell_type": "code",
   "execution_count": null,
   "metadata": {},
   "outputs": [],
   "source": [
    "simple_seq_chain = SimpleSequentialChain(chains=[chain_one,chain_two], verbose=True)\n",
    "\n",
    "simple_seq_chain.run(\"invisible car\")"
   ]
  },
  {
   "cell_type": "code",
   "execution_count": null,
   "metadata": {},
   "outputs": [],
   "source": [
    "from langchain.chains import SequentialChain\n",
    "\n",
    "language_translation_prompt = ChatPromptTemplate.from_template(\n",
    "    \"translate the {review} to english\"\n",
    ")\n",
    "\n",
    "review_prompt=ChatPromptTemplate.from_template(\n",
    "    \"provide a summary for the {english_review} in 20 words\"\n",
    ")\n",
    "\n",
    "language_recognition_prompt = ChatPromptTemplate.from_template(\n",
    "    \"what language is the review {review} in?\"\n",
    ")\n",
    "\n",
    "final_response_prompt = ChatPromptTemplate.from_template(\n",
    "    \"\"\"write a follow up response to the following\n",
    "    summary in the specific langauge: {summary} \\n langauge : {language}\n",
    "    \"\"\"\n",
    ")\n",
    "\n",
    "translation_chain = LLMChain(\n",
    "    llm=llm,\n",
    "    prompt=language_translation_prompt,\n",
    "    output_key=\"english_review\",\n",
    ")\n",
    "review_chain = LLMChain(\n",
    "    llm=llm,\n",
    "    prompt=review_prompt,\n",
    "    output_key=\"summary\",\n",
    "\n",
    ")\n",
    "language_recognition_chain = LLMChain(\n",
    "    llm=llm,\n",
    "    prompt=language_recognition_prompt,\n",
    "    output_key=\"language\",\n",
    ")\n",
    "final_response_chain= LLMChain(\n",
    "    llm=llm,\n",
    "    prompt=final_response_prompt,\n",
    "    output_key=\"followup_message\",\n",
    ")\n",
    "\n",
    "sequential_chain= SequentialChain(\n",
    "    chains=[translation_chain,review_chain,language_recognition_chain,final_response_chain],\n",
    "    input_variables=[\"review\"],\n",
    "    output_variables=[\"english_review\",\"summary\",\"followup_message\",\"language\"],\n",
    "    verbose=True,\n",
    ")"
   ]
  },
  {
   "cell_type": "code",
   "execution_count": null,
   "metadata": {},
   "outputs": [],
   "source": [
    "sequential_chain(\"text\")"
   ]
  },
  {
   "cell_type": "code",
   "execution_count": null,
   "metadata": {},
   "outputs": [],
   "source": [
    "# Router chain\n",
    "\n",
    "positive_review_prompt = \"provide a response thanking the user for the {input}\"\n",
    "\n",
    "negative_review_prompt = \"Provide a solution for the {input} and apologise to the customer\"\n",
    "\n",
    "prompt_info = [\n",
    "    {\n",
    "        \"name\":\"thank you response\",\n",
    "        \"description\" :\"A thank you note for positive review from the customer\",\n",
    "        \"prompt_template\":positive_review_prompt\n",
    "    },\n",
    "    {\n",
    "        \"name\":\"apology\",\n",
    "        \"description\" :\"An apology message to the customer for a negative review or statemnt from the customer\",\n",
    "        \"prompt_template\":negative_review_prompt\n",
    "      \n",
    "    }\n",
    "]"
   ]
  },
  {
   "cell_type": "code",
   "execution_count": null,
   "metadata": {},
   "outputs": [],
   "source": [
    "from langchain.prompts import PromptTemplate\n",
    "\n",
    "destination_chains = {}\n",
    "\n",
    "for p in prompt_info:\n",
    "    name = p['name']\n",
    "    prompt = ChatPromptTemplate.from_template(template=p['prompt_template'])\n",
    "    chain = LLMChain(prompt=prompt, llm=llm)\n",
    "    destination_chains[name]=chain\n",
    "\n",
    "destinations = [f\"{p['name']}: {p['description']}\" for p in prompt_info]\n",
    "destination_str = \"\\n\".join(destinations)"
   ]
  },
  {
   "cell_type": "code",
   "execution_count": null,
   "metadata": {},
   "outputs": [],
   "source": [
    "dedault_prompt = PromptTemplate.from_template(\"{input}\")\n",
    "default_chain = LLMChain(llm=llm, prompt=dedault_prompt)"
   ]
  },
  {
   "cell_type": "code",
   "execution_count": null,
   "metadata": {},
   "outputs": [],
   "source": [
    "MULTI_PROMPT_ROUTER_TEMPLATE = \"\"\"Given a raw text input to a \\\n",
    "language model select the model prompt best suited for the input. \\\n",
    "You will be given the names of the available prompts and a \\\n",
    "description of what the prompt is best suited for. \\\n",
    "You may also revise the original input if you think that revising\\\n",
    "it will ultimately lead to a better response from the language model.\n",
    "\n",
    "<< FORMATTING >>\n",
    "Return a markdown code snippet with a JSON object formatted to look like:\n",
    "```json\n",
    "{{{{\n",
    "    \"destination\": string \\ name of the prompt to use or \"DEFAULT\"\n",
    "    \"next_inputs\": string \\ a potentially modified version of the original input\n",
    "}}}}\n",
    "```\n",
    "\n",
    "REMEMBER: \"destination\" MUST be one of the candidate prompt \\\n",
    "names specified below OR it can be \"DEFAULT\" if the input is not\\\n",
    "well suited for any of the candidate prompts.\n",
    "REMEMBER: \"next_inputs\" can just be the original input \\\n",
    "if you don't think any modifications are needed.\n",
    "\n",
    "<< CANDIDATE PROMPTS >>\n",
    "{destinations}\n",
    "\n",
    "<< INPUT >>\n",
    "{{input}}\n",
    "\n",
    "<< OUTPUT (remember to include the ```json)>>\"\"\""
   ]
  },
  {
   "cell_type": "code",
   "execution_count": null,
   "metadata": {},
   "outputs": [],
   "source": [
    "from langchain.chains import MultiPromptChain\n",
    "from langchain.chains.router.llm_router import LLMRouterChain, RouterOutputParser\n",
    "from langchain.prompts import PromptTemplate\n",
    "\n",
    "router_template = MULTI_PROMPT_ROUTER_TEMPLATE.format(destinations=destination_str)\n",
    "router_prompt = PromptTemplate(template=router_template,input_variables=[\"input\"], output_parser=RouterOutputParser())"
   ]
  },
  {
   "cell_type": "code",
   "execution_count": null,
   "metadata": {},
   "outputs": [],
   "source": [
    "llm_router_chain = LLMRouterChain.from_llm(llm=llm, prompt=router_prompt)"
   ]
  },
  {
   "cell_type": "code",
   "execution_count": null,
   "metadata": {},
   "outputs": [],
   "source": [
    "final_router_chain = MultiPromptChain(router_chain=llm_router_chain,\n",
    "                                      default_chain=default_chain,\n",
    "                                      verbose=True,\n",
    "                                      destination_chains=destination_chains)\n",
    "\n",
    "final_router_chain.run(\"Do you sell potatos?\")"
   ]
  },
  {
   "cell_type": "markdown",
   "metadata": {},
   "source": [
    "task: replace strng output parser with JSON and Structured Output parser"
   ]
  },
  {
   "cell_type": "code",
   "execution_count": null,
   "metadata": {},
   "outputs": [],
   "source": [
    "from langchain_core.pydantic_v1 import BaseModel,Field\n",
    "\n",
    "class Code(BaseModel):\n",
    "    text: str = Field(description=\"\")\n",
    "    # add necessary fields"
   ]
  },
  {
   "cell_type": "code",
   "execution_count": null,
   "metadata": {},
   "outputs": [],
   "source": [
    "from langchain_core.output_parsers import JsonOutputParser\n",
    "\n",
    "output_parser = JsonOutputParser(pydantic_object=Code)"
   ]
  },
  {
   "cell_type": "code",
   "execution_count": null,
   "metadata": {},
   "outputs": [],
   "source": [
    "## Structured Output Parser\n",
    "\n",
    "\n",
    "from langchain.output_parsers import StructuredOutputParser, ResponseSchema\n",
    "\n",
    "\n",
    "response_schema = [ResponseSchema(\n",
    "    # add necessary fields\n",
    ")]\n",
    "\n",
    "output_parser = StructuredOutputParser.from_response_schemas(response_schema)\n",
    "\n",
    "output_parser.schema()"
   ]
  },
  {
   "cell_type": "code",
   "execution_count": 35,
   "metadata": {},
   "outputs": [
    {
     "name": "stdout",
     "output_type": "stream",
     "text": [
      "Collecting pypdf"
     ]
    },
    {
     "name": "stderr",
     "output_type": "stream",
     "text": [
      "\n",
      "[notice] A new release of pip is available: 23.3.2 -> 24.0\n",
      "[notice] To update, run: python.exe -m pip install --upgrade pip\n"
     ]
    },
    {
     "name": "stdout",
     "output_type": "stream",
     "text": [
      "\n",
      "  Using cached pypdf-4.0.1-py3-none-any.whl.metadata (7.4 kB)\n",
      "Using cached pypdf-4.0.1-py3-none-any.whl (283 kB)\n",
      "Installing collected packages: pypdf\n",
      "Successfully installed pypdf-4.0.1\n"
     ]
    }
   ],
   "source": [
    "! pip install pypdf"
   ]
  },
  {
   "cell_type": "code",
   "execution_count": 4,
   "metadata": {},
   "outputs": [
    {
     "data": {
      "text/plain": [
       "[Document(page_content='The Velveteen RabbitByMargery Williams', metadata={'source': 'C:/TrainingMaterial/generative-ai/genai-material/trng-1855/trng-git-repo/trng-1855/week-5/assets/the-velveteen-rabbit.pdf', 'page': 0}),\n",
       " Document(page_content=\"There was once a velveteen rabbit, and in the beginning he was really splendid. He was fat and bunchy, as a rabbit should be; his coat was spotted brown and white, he had real thread whiskers, and his ears were lined with pink sateen. On Christmas morning, when he sat wedged in the top of the Boy's stocking, with a sprig of holly between his paws, the effect was charming.There were other things in the stocking, nuts and oranges and a toy engine, and chocolate almonds and a clockwork mouse, but the Rabbit was quite the best of all. For at least two hours the Boy loved him, and then Aunts and Uncles came to dinner, and there was a great rustling of tissue paper and unwrapping of parcels, and in the excitement of looking at all the new presents the Velveteen Rabbit was forgotten.For a long time he lived in the toy cupboard or on the nursery ﬂoor, and no one thought very much about him. He was naturally shy, and being only made of velveteen, some of the more expensive toys quite snubbed him. The mechanical toys were very superior, and looked down upon every one else; they were full of modern ideas, and pretended they were real. The model boat, who had lived through two seasons and lost most of his paint, caught the tone from them and never missed an opportunity of referring to his rigging in technical terms. The Rabbit could not claim to be a model of anything, for he didn't know that real rabbits existed; he thought they were all stuffed with sawdust like himself, and he understood that sawdust was quite out-of-date and should never be mentioned in modern circles. Even Timothy, the jointed wooden lion, who was made by the disabled soldiers, and should have had broader views, put on airs and pretended he was connected with Government. Between them all the poor little Rabbit was made to feel himself very insigniﬁcant and commonplace, and the only person who was kind to him at all was the Skin Horse.The Skin Horse had lived longer in the nursery than any of the others. He was so old that his brown coat was bald in patches and showed the The Velveteen Rabbit by Margery Williams\\n2Created for Lit2Go on the web at etc.usf.edu\", metadata={'source': 'C:/TrainingMaterial/generative-ai/genai-material/trng-1855/trng-git-repo/trng-1855/week-5/assets/the-velveteen-rabbit.pdf', 'page': 1}),\n",
       " Document(page_content='seams underneath, and most of the hairs in his tail had been pulled out to string bead necklaces. He was wise, for he had seen a long succession of mechanical toys arrive to boast and swagger, and by-and-by break their mainsprings and pass away, and he knew that they were only toys, and would never turn into anything else. For nursery magic is very strange and wonderful, and only those playthings that are old and wise and experienced like the Skin Horse understand all about it.\"What is REAL?\" asked the Rabbit one day, when they were lying side by side near the nursery fender, before Nana came to tidy the room. \"Does it mean having things that buzz inside you and a stick-out handle?\"\"Real isn\\'t how you are made,\" said the Skin Horse. \"It\\'s a thing that happens to you. When a child loves you for a long, long time, not just to play with, but REALLY loves you, then you become Real.\"\"Does it hurt?\" asked the Rabbit.\"Sometimes,\" said the Skin Horse, for he was always truthful. \"When you are Real you don\\'t mind being hurt.\"\"Does it happen all at once, like being wound up,\" he asked, \"or bit by bit?\"\"It doesn\\'t happen all at once,\" said the Skin Horse. \"You become. It takes a long time. That\\'s why it doesn\\'t happen often to people who break easily, or have sharp edges, or who have to be carefully kept. Generally, by the time you are Real, most of your hair has been loved off, and your eyes drop out and you get loose in the joints and very shabby. But these things don\\'t matter at all, because once you are Real you can\\'t be ugly, except to people who don\\'t understand.\"The Velveteen Rabbit by Margery Williams\\n3Created for Lit2Go on the web at etc.usf.edu', metadata={'source': 'C:/TrainingMaterial/generative-ai/genai-material/trng-1855/trng-git-repo/trng-1855/week-5/assets/the-velveteen-rabbit.pdf', 'page': 2}),\n",
       " Document(page_content='\"I suppose you are real?\" said the Rabbit. And then he wished he had not said it, for he thought the Skin Horse might be sensitive. But the Skin Horse only smiled.\"The Boy\\'s Uncle made me Real,\" he said. \"That was a great many years ago; but once you are Real you can\\'t become unreal again. It lasts for always.\"The Rabbit sighed. He thought it would be a long time before this magic called Real happened to him. He longed to become Real, to know what it felt like; and yet the idea of growing shabby and losing his eyes and whiskers was rather sad. He wished that he could become it without these uncomfortable things happening to him.There was a person called Nana who ruled the nursery. Sometimes she took no notice of the playthings lying about, and sometimes, for no reason whatever, she went swooping about like a great wind and hustled them away in cupboards. She called this \"tidying up,\" and the playthings all hated it, especially the tin ones. The Rabbit didn\\'t mind it so much, for wherever he was thrown he came down soft.One evening, when the Boy was going to bed, he couldn\\'t ﬁnd the china dog that always slept with him. Nana was in a hurry, and it was too much trouble to hunt for china dogs at bedtime, so she simply looked about her, and seeing that the toy cupboard door stood open, she made a swoop.\"Here,\" she said, \"take your old Bunny! He\\'ll do to sleep with you!\" And she dragged the Rabbit out by one ear, and put him into the Boy\\'s arms.That night, and for many nights after, the Velveteen Rabbit slept in the Boy\\'s bed. At ﬁrst he found it rather uncomfortable, for the Boy hugged him very tight, and sometimes he rolled over on him, and sometimes he pushed him so far under the pillow that the Rabbit could scarcely breathe. And he missed, too, those long moonlight hours in the nursery, The Velveteen Rabbit by Margery Williams\\n4Created for Lit2Go on the web at etc.usf.edu', metadata={'source': 'C:/TrainingMaterial/generative-ai/genai-material/trng-1855/trng-git-repo/trng-1855/week-5/assets/the-velveteen-rabbit.pdf', 'page': 3}),\n",
       " Document(page_content='when all the house was silent, and his talks with the Skin Horse. But very soon he grew to like it, for the Boy used to talk to him, and made nice tunnels for him under the bedclothes that he said were like the burrows the real rabbits lived in. And they had splendid games together, in whispers, when Nana had gone away to her supper and left the night-light burning on the mantelpiece. And when the Boy dropped off to sleep, the Rabbit would snuggle down close under his little warm chin and dream, with the Boy\\'s hands clasped close round him all night long.And so time went on, and the little Rabbit was very happy–so happy that he never noticed how his beautiful velveteen fur was getting shabbier and shabbier, and his tail becoming unsewn, and all the pink rubbed off his nose where the Boy had kissed him.Spring came, and they had long days in the garden, for wherever the Boy went the Rabbit went too. He had rides in the wheelbarrow, and picnics on the grass, and lovely fairy huts built for him under the raspberry canes behind the ﬂower border. And once, when the Boy was called away suddenly to go out to tea, the Rabbit was left out on the lawn until long after dusk, and Nana had to come and look for him with the candle because the Boy couldn\\'t go to sleep unless he was there. He was wet through with the dew and quite earthy from diving into the burrows the Boy had made for him in the ﬂower bed, and Nana grumbled as she rubbed him off with a corner of her apron.\"You must have your old Bunny!\" she said. \"Fancy all that fuss for a toy!\"The Boy sat up in bed and stretched out his hands.\"Give me my Bunny!\" he said. \"You mustn\\'t say that. He isn\\'t a toy. He\\'s REAL!\"When the little Rabbit heard that he was happy, for he knew that what the Skin Horse had said was true at last. The nursery magic had The Velveteen Rabbit by Margery Williams\\n5Created for Lit2Go on the web at etc.usf.edu', metadata={'source': 'C:/TrainingMaterial/generative-ai/genai-material/trng-1855/trng-git-repo/trng-1855/week-5/assets/the-velveteen-rabbit.pdf', 'page': 4}),\n",
       " Document(page_content='happened to him, and he was a toy no longer. He was Real. The Boy himself had said it.That night he was almost too happy to sleep, and so much love stirred in his little sawdust heart that it almost burst. And into his boot-button eyes, that had long ago lost their polish, there came a look of wisdom and beauty, so that even Nana noticed it next morning when she picked him up, and said, \"I declare if that old Bunny hasn\\'t got quite a knowing expression!\"\\xa0That was a wonderful Summer!Near the house where they lived there was a wood, and in the long June evenings the Boy liked to go there after tea to play. He took the Velveteen Rabbit with him, and before he wandered off to pick ﬂowers, or play at brigands among the trees, he always made the Rabbit a little nest somewhere among the bracken, where he would be quite cosy, for he was a kind-hearted little boy and he liked Bunny to be comfortable. One evening, while the Rabbit was lying there alone, watching the ants that ran to and fro between his velvet paws in the grass, he saw two strange beings creep out of the tall bracken near him.They were rabbits like himself, but quite furry and brand-new. They must have been very well made, for their seams didn\\'t show at all, and they changed shape in a queer way when they moved; one minute they were long and thin and the next minute fat and bunchy, instead of always staying the same like he did. Their feet padded softly on the ground, and they crept quite close to him, twitching their noses, while the Rabbit stared hard to see which side the clockwork stuck out, for he knew that people who jump generally have something to wind them up. But he couldn\\'t see it. They were evidently a new kind of rabbit altogether.They stared at him, and the little Rabbit stared back. And all the time their noses twitched.The Velveteen Rabbit by Margery Williams\\n6Created for Lit2Go on the web at etc.usf.edu', metadata={'source': 'C:/TrainingMaterial/generative-ai/genai-material/trng-1855/trng-git-repo/trng-1855/week-5/assets/the-velveteen-rabbit.pdf', 'page': 5}),\n",
       " Document(page_content='\"Why don\\'t you get up and play with us?\" one of them asked.\"I don\\'t feel like it,\" said the Rabbit, for he didn\\'t want to explain that he had no clockwork.\"Ho!\" said the furry rabbit. \"It\\'s as easy as anything,\" And he gave a big hop sideways and stood on his hind legs.\"I don\\'t believe you can!\" he said.\"I can!\" said the little Rabbit. \"I can jump higher than anything!\" He meant when the Boy threw him, but of course he didn\\'t want to say so.\"Can you hop on your hind legs?\" asked the furry rabbit.That was a dreadful question, for the Velveteen Rabbit had no hind legs at all! The back of him was made all in one piece, like a pincushion. He sat still in the bracken, and hoped that the other rabbits wouldn\\'t notice.\"I don\\'t want to!\" he said again.But the wild rabbits have very sharp eyes. And this one stretched out his neck and looked.\"He hasn\\'t got any hind legs!\" he called out. \"Fancy a rabbit without any hind legs!\" And he began to laugh.\"I have!\" cried the little Rabbit. \"I have got hind legs! I am sitting on them!\"\"Then stretch them out and show me, like this!\" said the wild rabbit. And he began to whirl round and dance, till the little Rabbit got quite dizzy.\"I don\\'t like dancing,\" he said. \"I\\'d rather sit still!\"The Velveteen Rabbit by Margery Williams\\n7Created for Lit2Go on the web at etc.usf.edu', metadata={'source': 'C:/TrainingMaterial/generative-ai/genai-material/trng-1855/trng-git-repo/trng-1855/week-5/assets/the-velveteen-rabbit.pdf', 'page': 6}),\n",
       " Document(page_content='But all the while he was longing to dance, for a funny new tickly feeling ran through him, and he felt he would give anything in the world to be able to jump about like these rabbits did.The strange rabbit stopped dancing, and came quite close. He came so close this time that his long whiskers brushed the Velveteen Rabbit\\'s ear, and then he wrinkled his nose suddenly and ﬂattened his ears and jumped backwards.\"He doesn\\'t smell right!\" he exclaimed. \"He isn\\'t a rabbit at all! He isn\\'t real!\"\"I am Real!\" said the little Rabbit. \"I am Real! The Boy said so!\" And he nearly began to cry.Just then there was a sound of footsteps, and the Boy ran past near them, and with a stamp of feet and a ﬂash of white tails the two strange rabbits disappeared.\"Come back and play with me!\" called the little Rabbit. \"Oh, do come back! I know I am Real!\"But there was no answer, only the little ants ran to and fro, and the bracken swayed gently where the two strangers had passed. The Velveteen Rabbit was all alone.\"Oh, dear!\" he thought. \"Why did they run away like that? Why couldn\\'t they stop and talk to me?\"For a long time he lay very still, watching the bracken, and hoping that they would come back. But they never returned, and presently the sun sank lower and the little white moths ﬂuttered out, and the Boy came and carried him home.\\xa0The Velveteen Rabbit by Margery Williams\\n8Created for Lit2Go on the web at etc.usf.edu', metadata={'source': 'C:/TrainingMaterial/generative-ai/genai-material/trng-1855/trng-git-repo/trng-1855/week-5/assets/the-velveteen-rabbit.pdf', 'page': 7}),\n",
       " Document(page_content=\"Weeks passed, and the little Rabbit grew very old and shabby, but the Boy loved him just as much. He loved him so hard that he loved all his whiskers off, and the pink lining to his ears turned grey, and his brown spots faded. He even began to lose his shape, and he scarcely looked like a rabbit any more, except to the Boy. To him he was always beautiful, and that was all that the little Rabbit cared about. He didn't mind how he looked to other people, because the nursery magic had made him Real, and when you are Real shabbiness doesn't matter.And then, one day, the Boy was ill.His face grew very ﬂushed, and he talked in his sleep, and his little body was so hot that it burned the Rabbit when he held him close. Strange people came and went in the nursery, and a light burned all night and through it all the little Velveteen Rabbit lay there, hidden from sight under the bedclothes, and he never stirred, for he was afraid that if they found him some one might take him away, and he knew that the Boy needed him.It was a long weary time, for the Boy was too ill to play, and the little Rabbit found it rather dull with nothing to do all day long. But he snuggled down patiently, and looked forward to the time when the Boy should be well again, and they would go out in the garden amongst the ﬂowers and the butterﬂies and play splendid games in the raspberry thicket like they used to. All sorts of delightful things he planned, and while the Boy lay half asleep he crept up close to the pillow and whispered them in his ear. And presently the fever turned, and the Boy got better. He was able to sit up in bed and look at picture-books, while the little Rabbit cuddled close at his side. And one day, they let him get up and dress.It was a bright, sunny morning, and the windows stood wide open. They had carried the Boy out on to the balcony, wrapped in a shawl, and the little Rabbit lay tangled up among the bedclothes, thinking.The Velveteen Rabbit by Margery Williams\\n9Created for Lit2Go on the web at etc.usf.edu\", metadata={'source': 'C:/TrainingMaterial/generative-ai/genai-material/trng-1855/trng-git-repo/trng-1855/week-5/assets/the-velveteen-rabbit.pdf', 'page': 8}),\n",
       " Document(page_content='The Boy was going to the seaside to-morrow. Everything was arranged, and now it only remained to carry out the doctor\\'s orders. They talked about it all, while the little Rabbit lay under the bedclothes, with just his head peeping out, and listened. The room was to be disinfected, and all the books and toys that the Boy had played with in bed must be burnt.\"Hurrah!\" thought the little Rabbit. \"To-morrow we shall go to the seaside!\" For the boy had often talked of the seaside, and he wanted very much to see the big waves coming in, and the tiny crabs, and the sand castles.Just then Nana caught sight of him.\"How about his old Bunny?\" she asked.\"That?\" said the doctor. \"Why, it\\'s a mass of scarlet fever germs!–Burn it at once. What? Nonsense! Get him a new one. He mustn\\'t have that any more!\"And so the little Rabbit was put into a sack with the old picture-books and a lot of rubbish, and carried out to the end of the garden behind the fowl-house. That was a ﬁne place to make a bonﬁre, only the gardener was too busy just then to attend to it. He had the potatoes to dig and the green peas to gather, but next morning he promised to come quite early and burn the whole lot.That night the Boy slept in a different bedroom, and he had a new bunny to sleep with him. It was a splendid bunny, all white plush with real glass eyes, but the Boy was too excited to care very much about it. For to-morrow he was going to the seaside, and that in itself was such a wonderful thing that he could think of nothing else.And while the Boy was asleep, dreaming of the seaside, the little Rabbit lay among the old picture-books in the corner behind the fowl-house, and he felt very lonely. The sack had been left untied, and so by The Velveteen Rabbit by Margery Williams\\n10Created for Lit2Go on the web at etc.usf.edu', metadata={'source': 'C:/TrainingMaterial/generative-ai/genai-material/trng-1855/trng-git-repo/trng-1855/week-5/assets/the-velveteen-rabbit.pdf', 'page': 9}),\n",
       " Document(page_content='wriggling a bit he was able to get his head through the opening and look out. He was shivering a little, for he had always been used to sleeping in a proper bed, and by this time his coat had worn so thin and threadbare from hugging that it was no longer any protection to him. Near by he could see the thicket of raspberry canes, growing tall and close like a tropical jungle, in whose shadow he had played with the Boy on bygone mornings. He thought of those long sunlit hours in the garden–how happy they were–and a great sadness came over him. He seemed to see them all pass before him, each more beautiful than the other, the fairy huts in the ﬂower-bed, the quiet evenings in the wood when he lay in the bracken and the little ants ran over his paws; the wonderful day when he ﬁrst knew that he was Real. He thought of the Skin Horse, so wise and gentle, and all that he had told him. Of what use was it to be loved and lose one\\'s beauty and become Real if it all ended like this? And a tear, a real tear, trickled down his little shabby velvet nose and fell to the ground.And then a strange thing happened. For where the tear had fallen a ﬂower grew out of the ground, a mysterious ﬂower, not at all like any that grew in the garden. It had slender green leaves the colour of emeralds, and in the centre of the leaves a blossom like a golden cup. It was so beautiful that the little Rabbit forgot to cry, and just lay there watching it. And presently the blossom opened, and out of it there stepped a fairy.She was quite the loveliest fairy in the whole world. Her dress was of pearl and dew-drops, and there were ﬂowers round her neck and in her hair, and her face was like the most perfect ﬂower of all. And she came close to the little Rabbit and gathered him up in her arms and kissed him on his velveteen nose that was all damp from crying.\"Little Rabbit,\" she said, \"don\\'t you know who I am?\"The Velveteen Rabbit by Margery Williams\\n11Created for Lit2Go on the web at etc.usf.edu', metadata={'source': 'C:/TrainingMaterial/generative-ai/genai-material/trng-1855/trng-git-repo/trng-1855/week-5/assets/the-velveteen-rabbit.pdf', 'page': 10}),\n",
       " Document(page_content='The Rabbit looked up at her, and it seemed to him that he had seen her face before, but he couldn\\'t think where.\"I am the nursery magic Fairy,\" she said. \"I take care of all the playthings that the children have loved. When they are old and worn out and the children don\\'t need them any more, then I come and take them away with me and turn them into Real.\"\"Wasn\\'t I Real before?\" asked the little Rabbit.\"You were Real to the Boy,\" the Fairy said, \"because he loved you. Now you shall be Real to every one.\"And she held the little Rabbit close in her arms and ﬂew with him into the wood.It was light now, for the moon had risen. All the forest was beautiful, and the fronds of the bracken shone like frosted silver. In the open glade between the tree-trunks the wild rabbits danced with their shadows on the velvet grass, but when they saw the Fairy they all stopped dancing and stood round in a ring to stare at her.\"I\\'ve brought you a new playfellow,\" the Fairy said. \"You must be very kind to him and teach him all he needs to know in Rabbit-land, for he is going to live with you for ever and ever!\"And she kissed the little Rabbit again and put him down on the grass.\"Run and play, little Rabbit!\" she said.But the little Rabbit sat quite still for a moment and never moved. For when he saw all the wild rabbits dancing around him he suddenly remembered about his hind legs, and he didn\\'t want them to see that he was made all in one piece. He did not know that when the Fairy kissed him that last time she had changed him altogether. And he might have The Velveteen Rabbit by Margery Williams\\n12Created for Lit2Go on the web at etc.usf.edu', metadata={'source': 'C:/TrainingMaterial/generative-ai/genai-material/trng-1855/trng-git-repo/trng-1855/week-5/assets/the-velveteen-rabbit.pdf', 'page': 11}),\n",
       " Document(page_content='sat there a long time, too shy to move, if just then something hadn\\'t tickled his nose, and before he thought what he was doing he lifted his hind toe to scratch it.And he found that he actually had hind legs! Instead of dingy velveteen he had brown fur, soft and shiny, his ears twitched by themselves, and his whiskers were so long that they brushed the grass. He gave one leap and the joy of using those hind legs was so great that he went springing about the turf on them, jumping sideways and whirling round as the others did, and he grew so excited that when at last he did stop to look for the Fairy she had gone.He was a Real Rabbit at last, at home with the other rabbits.\\xa0Autumn passed and Winter, and in the Spring, when the days grew warm and sunny, the Boy went out to play in the wood behind the house. And while he was playing, two rabbits crept out from the bracken and peeped at him. One of them was brown all over, but the other had strange markings under his fur, as though long ago he had been spotted, and the spots still showed through. And about his little soft nose and his round black eyes there was something familiar, so that the Boy thought to himself:\"Why, he looks just like my old Bunny that was lost when I had scarlet fever!\"But he never knew that it really was his own Bunny, come back to look at the child who had ﬁrst helped him to be Real.THE ENDThe Velveteen Rabbit by Margery Williams\\n13Created for Lit2Go on the web at etc.usf.edu', metadata={'source': 'C:/TrainingMaterial/generative-ai/genai-material/trng-1855/trng-git-repo/trng-1855/week-5/assets/the-velveteen-rabbit.pdf', 'page': 12})]"
      ]
     },
     "execution_count": 4,
     "metadata": {},
     "output_type": "execute_result"
    }
   ],
   "source": [
    "# Pdf Loader\n",
    "\n",
    "from langchain.document_loaders import PyPDFLoader\n",
    "\n",
    "\n",
    "loader = PyPDFLoader('C:/TrainingMaterial/generative-ai/genai-material/trng-1855/trng-git-repo/trng-1855/week-5/assets/the-velveteen-rabbit.pdf')\n",
    "\n",
    "pages = loader.load_and_split()\n",
    "\n",
    "pages"
   ]
  },
  {
   "cell_type": "code",
   "execution_count": 5,
   "metadata": {},
   "outputs": [
    {
     "name": "stderr",
     "output_type": "stream",
     "text": [
      "Created a chunk of size 2107, which is longer than the specified 1000\n",
      "Created a chunk of size 1625, which is longer than the specified 1000\n",
      "Created a chunk of size 1857, which is longer than the specified 1000\n",
      "Created a chunk of size 1859, which is longer than the specified 1000\n",
      "Created a chunk of size 1862, which is longer than the specified 1000\n",
      "Created a chunk of size 1276, which is longer than the specified 1000\n",
      "Created a chunk of size 1376, which is longer than the specified 1000\n",
      "Created a chunk of size 1984, which is longer than the specified 1000\n",
      "Created a chunk of size 1767, which is longer than the specified 1000\n",
      "Created a chunk of size 1945, which is longer than the specified 1000\n",
      "Created a chunk of size 1599, which is longer than the specified 1000\n",
      "Created a chunk of size 1423, which is longer than the specified 1000\n"
     ]
    },
    {
     "data": {
      "text/plain": [
       "[Document(page_content='The Velveteen RabbitByMargery Williams', metadata={'source': 'C:/TrainingMaterial/generative-ai/genai-material/trng-1855/trng-git-repo/trng-1855/week-5/assets/the-velveteen-rabbit.pdf', 'page': 0}),\n",
       " Document(page_content=\"There was once a velveteen rabbit, and in the beginning he was really splendid. He was fat and bunchy, as a rabbit should be; his coat was spotted brown and white, he had real thread whiskers, and his ears were lined with pink sateen. On Christmas morning, when he sat wedged in the top of the Boy's stocking, with a sprig of holly between his paws, the effect was charming.There were other things in the stocking, nuts and oranges and a toy engine, and chocolate almonds and a clockwork mouse, but the Rabbit was quite the best of all. For at least two hours the Boy loved him, and then Aunts and Uncles came to dinner, and there was a great rustling of tissue paper and unwrapping of parcels, and in the excitement of looking at all the new presents the Velveteen Rabbit was forgotten.For a long time he lived in the toy cupboard or on the nursery ﬂoor, and no one thought very much about him. He was naturally shy, and being only made of velveteen, some of the more expensive toys quite snubbed him. The mechanical toys were very superior, and looked down upon every one else; they were full of modern ideas, and pretended they were real. The model boat, who had lived through two seasons and lost most of his paint, caught the tone from them and never missed an opportunity of referring to his rigging in technical terms. The Rabbit could not claim to be a model of anything, for he didn't know that real rabbits existed; he thought they were all stuffed with sawdust like himself, and he understood that sawdust was quite out-of-date and should never be mentioned in modern circles. Even Timothy, the jointed wooden lion, who was made by the disabled soldiers, and should have had broader views, put on airs and pretended he was connected with Government. Between them all the poor little Rabbit was made to feel himself very insigniﬁcant and commonplace, and the only person who was kind to him at all was the Skin Horse.The Skin Horse had lived longer in the nursery than any of the others. He was so old that his brown coat was bald in patches and showed the The Velveteen Rabbit by Margery Williams\", metadata={'source': 'C:/TrainingMaterial/generative-ai/genai-material/trng-1855/trng-git-repo/trng-1855/week-5/assets/the-velveteen-rabbit.pdf', 'page': 1}),\n",
       " Document(page_content='2Created for Lit2Go on the web at etc.usf.edu', metadata={'source': 'C:/TrainingMaterial/generative-ai/genai-material/trng-1855/trng-git-repo/trng-1855/week-5/assets/the-velveteen-rabbit.pdf', 'page': 1}),\n",
       " Document(page_content='seams underneath, and most of the hairs in his tail had been pulled out to string bead necklaces. He was wise, for he had seen a long succession of mechanical toys arrive to boast and swagger, and by-and-by break their mainsprings and pass away, and he knew that they were only toys, and would never turn into anything else. For nursery magic is very strange and wonderful, and only those playthings that are old and wise and experienced like the Skin Horse understand all about it.\"What is REAL?\" asked the Rabbit one day, when they were lying side by side near the nursery fender, before Nana came to tidy the room. \"Does it mean having things that buzz inside you and a stick-out handle?\"\"Real isn\\'t how you are made,\" said the Skin Horse. \"It\\'s a thing that happens to you. When a child loves you for a long, long time, not just to play with, but REALLY loves you, then you become Real.\"\"Does it hurt?\" asked the Rabbit.\"Sometimes,\" said the Skin Horse, for he was always truthful. \"When you are Real you don\\'t mind being hurt.\"\"Does it happen all at once, like being wound up,\" he asked, \"or bit by bit?\"\"It doesn\\'t happen all at once,\" said the Skin Horse. \"You become. It takes a long time. That\\'s why it doesn\\'t happen often to people who break easily, or have sharp edges, or who have to be carefully kept. Generally, by the time you are Real, most of your hair has been loved off, and your eyes drop out and you get loose in the joints and very shabby. But these things don\\'t matter at all, because once you are Real you can\\'t be ugly, except to people who don\\'t understand.\"The Velveteen Rabbit by Margery Williams', metadata={'source': 'C:/TrainingMaterial/generative-ai/genai-material/trng-1855/trng-git-repo/trng-1855/week-5/assets/the-velveteen-rabbit.pdf', 'page': 2}),\n",
       " Document(page_content='3Created for Lit2Go on the web at etc.usf.edu', metadata={'source': 'C:/TrainingMaterial/generative-ai/genai-material/trng-1855/trng-git-repo/trng-1855/week-5/assets/the-velveteen-rabbit.pdf', 'page': 2}),\n",
       " Document(page_content='\"I suppose you are real?\" said the Rabbit. And then he wished he had not said it, for he thought the Skin Horse might be sensitive. But the Skin Horse only smiled.\"The Boy\\'s Uncle made me Real,\" he said. \"That was a great many years ago; but once you are Real you can\\'t become unreal again. It lasts for always.\"The Rabbit sighed. He thought it would be a long time before this magic called Real happened to him. He longed to become Real, to know what it felt like; and yet the idea of growing shabby and losing his eyes and whiskers was rather sad. He wished that he could become it without these uncomfortable things happening to him.There was a person called Nana who ruled the nursery. Sometimes she took no notice of the playthings lying about, and sometimes, for no reason whatever, she went swooping about like a great wind and hustled them away in cupboards. She called this \"tidying up,\" and the playthings all hated it, especially the tin ones. The Rabbit didn\\'t mind it so much, for wherever he was thrown he came down soft.One evening, when the Boy was going to bed, he couldn\\'t ﬁnd the china dog that always slept with him. Nana was in a hurry, and it was too much trouble to hunt for china dogs at bedtime, so she simply looked about her, and seeing that the toy cupboard door stood open, she made a swoop.\"Here,\" she said, \"take your old Bunny! He\\'ll do to sleep with you!\" And she dragged the Rabbit out by one ear, and put him into the Boy\\'s arms.That night, and for many nights after, the Velveteen Rabbit slept in the Boy\\'s bed. At ﬁrst he found it rather uncomfortable, for the Boy hugged him very tight, and sometimes he rolled over on him, and sometimes he pushed him so far under the pillow that the Rabbit could scarcely breathe. And he missed, too, those long moonlight hours in the nursery, The Velveteen Rabbit by Margery Williams', metadata={'source': 'C:/TrainingMaterial/generative-ai/genai-material/trng-1855/trng-git-repo/trng-1855/week-5/assets/the-velveteen-rabbit.pdf', 'page': 3}),\n",
       " Document(page_content='4Created for Lit2Go on the web at etc.usf.edu', metadata={'source': 'C:/TrainingMaterial/generative-ai/genai-material/trng-1855/trng-git-repo/trng-1855/week-5/assets/the-velveteen-rabbit.pdf', 'page': 3}),\n",
       " Document(page_content='when all the house was silent, and his talks with the Skin Horse. But very soon he grew to like it, for the Boy used to talk to him, and made nice tunnels for him under the bedclothes that he said were like the burrows the real rabbits lived in. And they had splendid games together, in whispers, when Nana had gone away to her supper and left the night-light burning on the mantelpiece. And when the Boy dropped off to sleep, the Rabbit would snuggle down close under his little warm chin and dream, with the Boy\\'s hands clasped close round him all night long.And so time went on, and the little Rabbit was very happy–so happy that he never noticed how his beautiful velveteen fur was getting shabbier and shabbier, and his tail becoming unsewn, and all the pink rubbed off his nose where the Boy had kissed him.Spring came, and they had long days in the garden, for wherever the Boy went the Rabbit went too. He had rides in the wheelbarrow, and picnics on the grass, and lovely fairy huts built for him under the raspberry canes behind the ﬂower border. And once, when the Boy was called away suddenly to go out to tea, the Rabbit was left out on the lawn until long after dusk, and Nana had to come and look for him with the candle because the Boy couldn\\'t go to sleep unless he was there. He was wet through with the dew and quite earthy from diving into the burrows the Boy had made for him in the ﬂower bed, and Nana grumbled as she rubbed him off with a corner of her apron.\"You must have your old Bunny!\" she said. \"Fancy all that fuss for a toy!\"The Boy sat up in bed and stretched out his hands.\"Give me my Bunny!\" he said. \"You mustn\\'t say that. He isn\\'t a toy. He\\'s REAL!\"When the little Rabbit heard that he was happy, for he knew that what the Skin Horse had said was true at last. The nursery magic had The Velveteen Rabbit by Margery Williams', metadata={'source': 'C:/TrainingMaterial/generative-ai/genai-material/trng-1855/trng-git-repo/trng-1855/week-5/assets/the-velveteen-rabbit.pdf', 'page': 4}),\n",
       " Document(page_content='5Created for Lit2Go on the web at etc.usf.edu', metadata={'source': 'C:/TrainingMaterial/generative-ai/genai-material/trng-1855/trng-git-repo/trng-1855/week-5/assets/the-velveteen-rabbit.pdf', 'page': 4}),\n",
       " Document(page_content='happened to him, and he was a toy no longer. He was Real. The Boy himself had said it.That night he was almost too happy to sleep, and so much love stirred in his little sawdust heart that it almost burst. And into his boot-button eyes, that had long ago lost their polish, there came a look of wisdom and beauty, so that even Nana noticed it next morning when she picked him up, and said, \"I declare if that old Bunny hasn\\'t got quite a knowing expression!\"\\xa0That was a wonderful Summer!Near the house where they lived there was a wood, and in the long June evenings the Boy liked to go there after tea to play. He took the Velveteen Rabbit with him, and before he wandered off to pick ﬂowers, or play at brigands among the trees, he always made the Rabbit a little nest somewhere among the bracken, where he would be quite cosy, for he was a kind-hearted little boy and he liked Bunny to be comfortable. One evening, while the Rabbit was lying there alone, watching the ants that ran to and fro between his velvet paws in the grass, he saw two strange beings creep out of the tall bracken near him.They were rabbits like himself, but quite furry and brand-new. They must have been very well made, for their seams didn\\'t show at all, and they changed shape in a queer way when they moved; one minute they were long and thin and the next minute fat and bunchy, instead of always staying the same like he did. Their feet padded softly on the ground, and they crept quite close to him, twitching their noses, while the Rabbit stared hard to see which side the clockwork stuck out, for he knew that people who jump generally have something to wind them up. But he couldn\\'t see it. They were evidently a new kind of rabbit altogether.They stared at him, and the little Rabbit stared back. And all the time their noses twitched.The Velveteen Rabbit by Margery Williams', metadata={'source': 'C:/TrainingMaterial/generative-ai/genai-material/trng-1855/trng-git-repo/trng-1855/week-5/assets/the-velveteen-rabbit.pdf', 'page': 5}),\n",
       " Document(page_content='6Created for Lit2Go on the web at etc.usf.edu', metadata={'source': 'C:/TrainingMaterial/generative-ai/genai-material/trng-1855/trng-git-repo/trng-1855/week-5/assets/the-velveteen-rabbit.pdf', 'page': 5}),\n",
       " Document(page_content='\"Why don\\'t you get up and play with us?\" one of them asked.\"I don\\'t feel like it,\" said the Rabbit, for he didn\\'t want to explain that he had no clockwork.\"Ho!\" said the furry rabbit. \"It\\'s as easy as anything,\" And he gave a big hop sideways and stood on his hind legs.\"I don\\'t believe you can!\" he said.\"I can!\" said the little Rabbit. \"I can jump higher than anything!\" He meant when the Boy threw him, but of course he didn\\'t want to say so.\"Can you hop on your hind legs?\" asked the furry rabbit.That was a dreadful question, for the Velveteen Rabbit had no hind legs at all! The back of him was made all in one piece, like a pincushion. He sat still in the bracken, and hoped that the other rabbits wouldn\\'t notice.\"I don\\'t want to!\" he said again.But the wild rabbits have very sharp eyes. And this one stretched out his neck and looked.\"He hasn\\'t got any hind legs!\" he called out. \"Fancy a rabbit without any hind legs!\" And he began to laugh.\"I have!\" cried the little Rabbit. \"I have got hind legs! I am sitting on them!\"\"Then stretch them out and show me, like this!\" said the wild rabbit. And he began to whirl round and dance, till the little Rabbit got quite dizzy.\"I don\\'t like dancing,\" he said. \"I\\'d rather sit still!\"The Velveteen Rabbit by Margery Williams', metadata={'source': 'C:/TrainingMaterial/generative-ai/genai-material/trng-1855/trng-git-repo/trng-1855/week-5/assets/the-velveteen-rabbit.pdf', 'page': 6}),\n",
       " Document(page_content='7Created for Lit2Go on the web at etc.usf.edu', metadata={'source': 'C:/TrainingMaterial/generative-ai/genai-material/trng-1855/trng-git-repo/trng-1855/week-5/assets/the-velveteen-rabbit.pdf', 'page': 6}),\n",
       " Document(page_content='But all the while he was longing to dance, for a funny new tickly feeling ran through him, and he felt he would give anything in the world to be able to jump about like these rabbits did.The strange rabbit stopped dancing, and came quite close. He came so close this time that his long whiskers brushed the Velveteen Rabbit\\'s ear, and then he wrinkled his nose suddenly and ﬂattened his ears and jumped backwards.\"He doesn\\'t smell right!\" he exclaimed. \"He isn\\'t a rabbit at all! He isn\\'t real!\"\"I am Real!\" said the little Rabbit. \"I am Real! The Boy said so!\" And he nearly began to cry.Just then there was a sound of footsteps, and the Boy ran past near them, and with a stamp of feet and a ﬂash of white tails the two strange rabbits disappeared.\"Come back and play with me!\" called the little Rabbit. \"Oh, do come back! I know I am Real!\"But there was no answer, only the little ants ran to and fro, and the bracken swayed gently where the two strangers had passed. The Velveteen Rabbit was all alone.\"Oh, dear!\" he thought. \"Why did they run away like that? Why couldn\\'t they stop and talk to me?\"For a long time he lay very still, watching the bracken, and hoping that they would come back. But they never returned, and presently the sun sank lower and the little white moths ﬂuttered out, and the Boy came and carried him home.\\xa0The Velveteen Rabbit by Margery Williams', metadata={'source': 'C:/TrainingMaterial/generative-ai/genai-material/trng-1855/trng-git-repo/trng-1855/week-5/assets/the-velveteen-rabbit.pdf', 'page': 7}),\n",
       " Document(page_content='8Created for Lit2Go on the web at etc.usf.edu', metadata={'source': 'C:/TrainingMaterial/generative-ai/genai-material/trng-1855/trng-git-repo/trng-1855/week-5/assets/the-velveteen-rabbit.pdf', 'page': 7}),\n",
       " Document(page_content=\"Weeks passed, and the little Rabbit grew very old and shabby, but the Boy loved him just as much. He loved him so hard that he loved all his whiskers off, and the pink lining to his ears turned grey, and his brown spots faded. He even began to lose his shape, and he scarcely looked like a rabbit any more, except to the Boy. To him he was always beautiful, and that was all that the little Rabbit cared about. He didn't mind how he looked to other people, because the nursery magic had made him Real, and when you are Real shabbiness doesn't matter.And then, one day, the Boy was ill.His face grew very ﬂushed, and he talked in his sleep, and his little body was so hot that it burned the Rabbit when he held him close. Strange people came and went in the nursery, and a light burned all night and through it all the little Velveteen Rabbit lay there, hidden from sight under the bedclothes, and he never stirred, for he was afraid that if they found him some one might take him away, and he knew that the Boy needed him.It was a long weary time, for the Boy was too ill to play, and the little Rabbit found it rather dull with nothing to do all day long. But he snuggled down patiently, and looked forward to the time when the Boy should be well again, and they would go out in the garden amongst the ﬂowers and the butterﬂies and play splendid games in the raspberry thicket like they used to. All sorts of delightful things he planned, and while the Boy lay half asleep he crept up close to the pillow and whispered them in his ear. And presently the fever turned, and the Boy got better. He was able to sit up in bed and look at picture-books, while the little Rabbit cuddled close at his side. And one day, they let him get up and dress.It was a bright, sunny morning, and the windows stood wide open. They had carried the Boy out on to the balcony, wrapped in a shawl, and the little Rabbit lay tangled up among the bedclothes, thinking.The Velveteen Rabbit by Margery Williams\", metadata={'source': 'C:/TrainingMaterial/generative-ai/genai-material/trng-1855/trng-git-repo/trng-1855/week-5/assets/the-velveteen-rabbit.pdf', 'page': 8}),\n",
       " Document(page_content='9Created for Lit2Go on the web at etc.usf.edu', metadata={'source': 'C:/TrainingMaterial/generative-ai/genai-material/trng-1855/trng-git-repo/trng-1855/week-5/assets/the-velveteen-rabbit.pdf', 'page': 8}),\n",
       " Document(page_content='The Boy was going to the seaside to-morrow. Everything was arranged, and now it only remained to carry out the doctor\\'s orders. They talked about it all, while the little Rabbit lay under the bedclothes, with just his head peeping out, and listened. The room was to be disinfected, and all the books and toys that the Boy had played with in bed must be burnt.\"Hurrah!\" thought the little Rabbit. \"To-morrow we shall go to the seaside!\" For the boy had often talked of the seaside, and he wanted very much to see the big waves coming in, and the tiny crabs, and the sand castles.Just then Nana caught sight of him.\"How about his old Bunny?\" she asked.\"That?\" said the doctor. \"Why, it\\'s a mass of scarlet fever germs!–Burn it at once. What? Nonsense! Get him a new one. He mustn\\'t have that any more!\"And so the little Rabbit was put into a sack with the old picture-books and a lot of rubbish, and carried out to the end of the garden behind the fowl-house. That was a ﬁne place to make a bonﬁre, only the gardener was too busy just then to attend to it. He had the potatoes to dig and the green peas to gather, but next morning he promised to come quite early and burn the whole lot.That night the Boy slept in a different bedroom, and he had a new bunny to sleep with him. It was a splendid bunny, all white plush with real glass eyes, but the Boy was too excited to care very much about it. For to-morrow he was going to the seaside, and that in itself was such a wonderful thing that he could think of nothing else.And while the Boy was asleep, dreaming of the seaside, the little Rabbit lay among the old picture-books in the corner behind the fowl-house, and he felt very lonely. The sack had been left untied, and so by The Velveteen Rabbit by Margery Williams', metadata={'source': 'C:/TrainingMaterial/generative-ai/genai-material/trng-1855/trng-git-repo/trng-1855/week-5/assets/the-velveteen-rabbit.pdf', 'page': 9}),\n",
       " Document(page_content='10Created for Lit2Go on the web at etc.usf.edu', metadata={'source': 'C:/TrainingMaterial/generative-ai/genai-material/trng-1855/trng-git-repo/trng-1855/week-5/assets/the-velveteen-rabbit.pdf', 'page': 9}),\n",
       " Document(page_content='wriggling a bit he was able to get his head through the opening and look out. He was shivering a little, for he had always been used to sleeping in a proper bed, and by this time his coat had worn so thin and threadbare from hugging that it was no longer any protection to him. Near by he could see the thicket of raspberry canes, growing tall and close like a tropical jungle, in whose shadow he had played with the Boy on bygone mornings. He thought of those long sunlit hours in the garden–how happy they were–and a great sadness came over him. He seemed to see them all pass before him, each more beautiful than the other, the fairy huts in the ﬂower-bed, the quiet evenings in the wood when he lay in the bracken and the little ants ran over his paws; the wonderful day when he ﬁrst knew that he was Real. He thought of the Skin Horse, so wise and gentle, and all that he had told him. Of what use was it to be loved and lose one\\'s beauty and become Real if it all ended like this? And a tear, a real tear, trickled down his little shabby velvet nose and fell to the ground.And then a strange thing happened. For where the tear had fallen a ﬂower grew out of the ground, a mysterious ﬂower, not at all like any that grew in the garden. It had slender green leaves the colour of emeralds, and in the centre of the leaves a blossom like a golden cup. It was so beautiful that the little Rabbit forgot to cry, and just lay there watching it. And presently the blossom opened, and out of it there stepped a fairy.She was quite the loveliest fairy in the whole world. Her dress was of pearl and dew-drops, and there were ﬂowers round her neck and in her hair, and her face was like the most perfect ﬂower of all. And she came close to the little Rabbit and gathered him up in her arms and kissed him on his velveteen nose that was all damp from crying.\"Little Rabbit,\" she said, \"don\\'t you know who I am?\"The Velveteen Rabbit by Margery Williams', metadata={'source': 'C:/TrainingMaterial/generative-ai/genai-material/trng-1855/trng-git-repo/trng-1855/week-5/assets/the-velveteen-rabbit.pdf', 'page': 10}),\n",
       " Document(page_content='11Created for Lit2Go on the web at etc.usf.edu', metadata={'source': 'C:/TrainingMaterial/generative-ai/genai-material/trng-1855/trng-git-repo/trng-1855/week-5/assets/the-velveteen-rabbit.pdf', 'page': 10}),\n",
       " Document(page_content='The Rabbit looked up at her, and it seemed to him that he had seen her face before, but he couldn\\'t think where.\"I am the nursery magic Fairy,\" she said. \"I take care of all the playthings that the children have loved. When they are old and worn out and the children don\\'t need them any more, then I come and take them away with me and turn them into Real.\"\"Wasn\\'t I Real before?\" asked the little Rabbit.\"You were Real to the Boy,\" the Fairy said, \"because he loved you. Now you shall be Real to every one.\"And she held the little Rabbit close in her arms and ﬂew with him into the wood.It was light now, for the moon had risen. All the forest was beautiful, and the fronds of the bracken shone like frosted silver. In the open glade between the tree-trunks the wild rabbits danced with their shadows on the velvet grass, but when they saw the Fairy they all stopped dancing and stood round in a ring to stare at her.\"I\\'ve brought you a new playfellow,\" the Fairy said. \"You must be very kind to him and teach him all he needs to know in Rabbit-land, for he is going to live with you for ever and ever!\"And she kissed the little Rabbit again and put him down on the grass.\"Run and play, little Rabbit!\" she said.But the little Rabbit sat quite still for a moment and never moved. For when he saw all the wild rabbits dancing around him he suddenly remembered about his hind legs, and he didn\\'t want them to see that he was made all in one piece. He did not know that when the Fairy kissed him that last time she had changed him altogether. And he might have The Velveteen Rabbit by Margery Williams', metadata={'source': 'C:/TrainingMaterial/generative-ai/genai-material/trng-1855/trng-git-repo/trng-1855/week-5/assets/the-velveteen-rabbit.pdf', 'page': 11}),\n",
       " Document(page_content='12Created for Lit2Go on the web at etc.usf.edu', metadata={'source': 'C:/TrainingMaterial/generative-ai/genai-material/trng-1855/trng-git-repo/trng-1855/week-5/assets/the-velveteen-rabbit.pdf', 'page': 11}),\n",
       " Document(page_content='sat there a long time, too shy to move, if just then something hadn\\'t tickled his nose, and before he thought what he was doing he lifted his hind toe to scratch it.And he found that he actually had hind legs! Instead of dingy velveteen he had brown fur, soft and shiny, his ears twitched by themselves, and his whiskers were so long that they brushed the grass. He gave one leap and the joy of using those hind legs was so great that he went springing about the turf on them, jumping sideways and whirling round as the others did, and he grew so excited that when at last he did stop to look for the Fairy she had gone.He was a Real Rabbit at last, at home with the other rabbits.\\xa0Autumn passed and Winter, and in the Spring, when the days grew warm and sunny, the Boy went out to play in the wood behind the house. And while he was playing, two rabbits crept out from the bracken and peeped at him. One of them was brown all over, but the other had strange markings under his fur, as though long ago he had been spotted, and the spots still showed through. And about his little soft nose and his round black eyes there was something familiar, so that the Boy thought to himself:\"Why, he looks just like my old Bunny that was lost when I had scarlet fever!\"But he never knew that it really was his own Bunny, come back to look at the child who had ﬁrst helped him to be Real.THE ENDThe Velveteen Rabbit by Margery Williams', metadata={'source': 'C:/TrainingMaterial/generative-ai/genai-material/trng-1855/trng-git-repo/trng-1855/week-5/assets/the-velveteen-rabbit.pdf', 'page': 12}),\n",
       " Document(page_content='13Created for Lit2Go on the web at etc.usf.edu', metadata={'source': 'C:/TrainingMaterial/generative-ai/genai-material/trng-1855/trng-git-repo/trng-1855/week-5/assets/the-velveteen-rabbit.pdf', 'page': 12})]"
      ]
     },
     "execution_count": 5,
     "metadata": {},
     "output_type": "execute_result"
    }
   ],
   "source": [
    "# text spliting using character splitter\n",
    "from langchain.text_splitter import CharacterTextSplitter\n",
    "\n",
    "text_splitter = CharacterTextSplitter(\n",
    "    chunk_size = 1000,\n",
    "    chunk_overlap = 50,\n",
    "    separator='\\n'\n",
    ")\n",
    "\n",
    "documents = text_splitter.split_documents(pages)\n",
    "\n",
    "documents"
   ]
  },
  {
   "cell_type": "code",
   "execution_count": 41,
   "metadata": {},
   "outputs": [
    {
     "data": {
      "text/plain": [
       "[Document(page_content='The Velveteen RabbitByMargery Williams', metadata={'source': 'C:/TrainingMaterial/generative-ai/genai-material/trng-1855/trng-git-repo/trng-1855/week-5/assets/the-velveteen-rabbit.pdf', 'page': 0}),\n",
       " Document(page_content=\"There was once a velveteen rabbit, and in the beginning he was really splendid. He was fat and bunchy, as a rabbit should be; his coat was spotted brown and white, he had real thread whiskers, and his ears were lined with pink sateen. On Christmas morning, when he sat wedged in the top of the Boy's stocking, with a sprig of holly between his paws, the effect was charming.There were other things in the stocking, nuts and oranges and a toy engine, and chocolate almonds and a clockwork mouse, but the Rabbit was quite the best of all. For at least two hours the Boy loved him, and then Aunts and Uncles came to dinner, and there was a great rustling of tissue paper and unwrapping of parcels, and in the excitement of looking at all the new presents the Velveteen Rabbit was forgotten.For a long time he lived in the toy cupboard or on the nursery ﬂoor, and no one thought very much about him. He was naturally shy, and being only made of velveteen, some of the more expensive toys quite snubbed him. The mechanical toys were very superior, and looked down upon every one else; they were full of modern ideas, and pretended they were real. The model boat, who had lived through two seasons and lost most of his paint, caught the tone from them and never missed an opportunity of referring to his rigging in technical terms. The Rabbit could not claim to be a model of anything, for he didn't know that real rabbits existed; he thought they were all stuffed with sawdust like himself, and he understood that sawdust was quite out-of-date and should never be mentioned in modern circles. Even Timothy, the jointed wooden lion, who was made by the disabled soldiers, and should have had broader views, put on airs and pretended he was connected with Government. Between them all the poor little Rabbit was made to feel himself very insigniﬁcant and commonplace, and the only person who was kind to him at all was the Skin Horse.The Skin Horse had lived longer in the nursery than any of the others. He was so old that his brown coat was bald in patches and showed the The Velveteen Rabbit by Margery Williams\", metadata={'source': 'C:/TrainingMaterial/generative-ai/genai-material/trng-1855/trng-git-repo/trng-1855/week-5/assets/the-velveteen-rabbit.pdf', 'page': 1}),\n",
       " Document(page_content='2Created for Lit2Go on the web at etc.usf.edu', metadata={'source': 'C:/TrainingMaterial/generative-ai/genai-material/trng-1855/trng-git-repo/trng-1855/week-5/assets/the-velveteen-rabbit.pdf', 'page': 1}),\n",
       " Document(page_content='seams underneath, and most of the hairs in his tail had been pulled out to string bead necklaces. He was wise, for he had seen a long succession of mechanical toys arrive to boast and swagger, and by-and-by break their mainsprings and pass away, and he knew that they were only toys, and would never turn into anything else. For nursery magic is very strange and wonderful, and only those playthings that are old and wise and experienced like the Skin Horse understand all about it.\"What is REAL?\" asked the Rabbit one day, when they were lying side by side near the nursery fender, before Nana came to tidy the room. \"Does it mean having things that buzz inside you and a stick-out handle?\"\"Real isn\\'t how you are made,\" said the Skin Horse. \"It\\'s a thing that happens to you. When a child loves you for a long, long time, not just to play with, but REALLY loves you, then you become Real.\"\"Does it hurt?\" asked the Rabbit.\"Sometimes,\" said the Skin Horse, for he was always truthful. \"When you are Real you don\\'t mind being hurt.\"\"Does it happen all at once, like being wound up,\" he asked, \"or bit by bit?\"\"It doesn\\'t happen all at once,\" said the Skin Horse. \"You become. It takes a long time. That\\'s why it doesn\\'t happen often to people who break easily, or have sharp edges, or who have to be carefully kept. Generally, by the time you are Real, most of your hair has been loved off, and your eyes drop out and you get loose in the joints and very shabby. But these things don\\'t matter at all, because once you are Real you can\\'t be ugly, except to people who don\\'t understand.\"The Velveteen Rabbit by Margery Williams', metadata={'source': 'C:/TrainingMaterial/generative-ai/genai-material/trng-1855/trng-git-repo/trng-1855/week-5/assets/the-velveteen-rabbit.pdf', 'page': 2}),\n",
       " Document(page_content='3Created for Lit2Go on the web at etc.usf.edu', metadata={'source': 'C:/TrainingMaterial/generative-ai/genai-material/trng-1855/trng-git-repo/trng-1855/week-5/assets/the-velveteen-rabbit.pdf', 'page': 2}),\n",
       " Document(page_content='\"I suppose you are real?\" said the Rabbit. And then he wished he had not said it, for he thought the Skin Horse might be sensitive. But the Skin Horse only smiled.\"The Boy\\'s Uncle made me Real,\" he said. \"That was a great many years ago; but once you are Real you can\\'t become unreal again. It lasts for always.\"The Rabbit sighed. He thought it would be a long time before this magic called Real happened to him. He longed to become Real, to know what it felt like; and yet the idea of growing shabby and losing his eyes and whiskers was rather sad. He wished that he could become it without these uncomfortable things happening to him.There was a person called Nana who ruled the nursery. Sometimes she took no notice of the playthings lying about, and sometimes, for no reason whatever, she went swooping about like a great wind and hustled them away in cupboards. She called this \"tidying up,\" and the playthings all hated it, especially the tin ones. The Rabbit didn\\'t mind it so much, for wherever he was thrown he came down soft.One evening, when the Boy was going to bed, he couldn\\'t ﬁnd the china dog that always slept with him. Nana was in a hurry, and it was too much trouble to hunt for china dogs at bedtime, so she simply looked about her, and seeing that the toy cupboard door stood open, she made a swoop.\"Here,\" she said, \"take your old Bunny! He\\'ll do to sleep with you!\" And she dragged the Rabbit out by one ear, and put him into the Boy\\'s arms.That night, and for many nights after, the Velveteen Rabbit slept in the Boy\\'s bed. At ﬁrst he found it rather uncomfortable, for the Boy hugged him very tight, and sometimes he rolled over on him, and sometimes he pushed him so far under the pillow that the Rabbit could scarcely breathe. And he missed, too, those long moonlight hours in the nursery, The Velveteen Rabbit by Margery Williams', metadata={'source': 'C:/TrainingMaterial/generative-ai/genai-material/trng-1855/trng-git-repo/trng-1855/week-5/assets/the-velveteen-rabbit.pdf', 'page': 3}),\n",
       " Document(page_content='4Created for Lit2Go on the web at etc.usf.edu', metadata={'source': 'C:/TrainingMaterial/generative-ai/genai-material/trng-1855/trng-git-repo/trng-1855/week-5/assets/the-velveteen-rabbit.pdf', 'page': 3}),\n",
       " Document(page_content='when all the house was silent, and his talks with the Skin Horse. But very soon he grew to like it, for the Boy used to talk to him, and made nice tunnels for him under the bedclothes that he said were like the burrows the real rabbits lived in. And they had splendid games together, in whispers, when Nana had gone away to her supper and left the night-light burning on the mantelpiece. And when the Boy dropped off to sleep, the Rabbit would snuggle down close under his little warm chin and dream, with the Boy\\'s hands clasped close round him all night long.And so time went on, and the little Rabbit was very happy–so happy that he never noticed how his beautiful velveteen fur was getting shabbier and shabbier, and his tail becoming unsewn, and all the pink rubbed off his nose where the Boy had kissed him.Spring came, and they had long days in the garden, for wherever the Boy went the Rabbit went too. He had rides in the wheelbarrow, and picnics on the grass, and lovely fairy huts built for him under the raspberry canes behind the ﬂower border. And once, when the Boy was called away suddenly to go out to tea, the Rabbit was left out on the lawn until long after dusk, and Nana had to come and look for him with the candle because the Boy couldn\\'t go to sleep unless he was there. He was wet through with the dew and quite earthy from diving into the burrows the Boy had made for him in the ﬂower bed, and Nana grumbled as she rubbed him off with a corner of her apron.\"You must have your old Bunny!\" she said. \"Fancy all that fuss for a toy!\"The Boy sat up in bed and stretched out his hands.\"Give me my Bunny!\" he said. \"You mustn\\'t say that. He isn\\'t a toy. He\\'s REAL!\"When the little Rabbit heard that he was happy, for he knew that what the Skin Horse had said was true at last. The nursery magic had The Velveteen Rabbit by Margery Williams', metadata={'source': 'C:/TrainingMaterial/generative-ai/genai-material/trng-1855/trng-git-repo/trng-1855/week-5/assets/the-velveteen-rabbit.pdf', 'page': 4}),\n",
       " Document(page_content='5Created for Lit2Go on the web at etc.usf.edu', metadata={'source': 'C:/TrainingMaterial/generative-ai/genai-material/trng-1855/trng-git-repo/trng-1855/week-5/assets/the-velveteen-rabbit.pdf', 'page': 4}),\n",
       " Document(page_content='happened to him, and he was a toy no longer. He was Real. The Boy himself had said it.That night he was almost too happy to sleep, and so much love stirred in his little sawdust heart that it almost burst. And into his boot-button eyes, that had long ago lost their polish, there came a look of wisdom and beauty, so that even Nana noticed it next morning when she picked him up, and said, \"I declare if that old Bunny hasn\\'t got quite a knowing expression!\"\\xa0That was a wonderful Summer!Near the house where they lived there was a wood, and in the long June evenings the Boy liked to go there after tea to play. He took the Velveteen Rabbit with him, and before he wandered off to pick ﬂowers, or play at brigands among the trees, he always made the Rabbit a little nest somewhere among the bracken, where he would be quite cosy, for he was a kind-hearted little boy and he liked Bunny to be comfortable. One evening, while the Rabbit was lying there alone, watching the ants that ran to and fro between his velvet paws in the grass, he saw two strange beings creep out of the tall bracken near him.They were rabbits like himself, but quite furry and brand-new. They must have been very well made, for their seams didn\\'t show at all, and they changed shape in a queer way when they moved; one minute they were long and thin and the next minute fat and bunchy, instead of always staying the same like he did. Their feet padded softly on the ground, and they crept quite close to him, twitching their noses, while the Rabbit stared hard to see which side the clockwork stuck out, for he knew that people who jump generally have something to wind them up. But he couldn\\'t see it. They were evidently a new kind of rabbit altogether.They stared at him, and the little Rabbit stared back. And all the time their noses twitched.The Velveteen Rabbit by Margery Williams', metadata={'source': 'C:/TrainingMaterial/generative-ai/genai-material/trng-1855/trng-git-repo/trng-1855/week-5/assets/the-velveteen-rabbit.pdf', 'page': 5}),\n",
       " Document(page_content='6Created for Lit2Go on the web at etc.usf.edu', metadata={'source': 'C:/TrainingMaterial/generative-ai/genai-material/trng-1855/trng-git-repo/trng-1855/week-5/assets/the-velveteen-rabbit.pdf', 'page': 5}),\n",
       " Document(page_content='\"Why don\\'t you get up and play with us?\" one of them asked.\"I don\\'t feel like it,\" said the Rabbit, for he didn\\'t want to explain that he had no clockwork.\"Ho!\" said the furry rabbit. \"It\\'s as easy as anything,\" And he gave a big hop sideways and stood on his hind legs.\"I don\\'t believe you can!\" he said.\"I can!\" said the little Rabbit. \"I can jump higher than anything!\" He meant when the Boy threw him, but of course he didn\\'t want to say so.\"Can you hop on your hind legs?\" asked the furry rabbit.That was a dreadful question, for the Velveteen Rabbit had no hind legs at all! The back of him was made all in one piece, like a pincushion. He sat still in the bracken, and hoped that the other rabbits wouldn\\'t notice.\"I don\\'t want to!\" he said again.But the wild rabbits have very sharp eyes. And this one stretched out his neck and looked.\"He hasn\\'t got any hind legs!\" he called out. \"Fancy a rabbit without any hind legs!\" And he began to laugh.\"I have!\" cried the little Rabbit. \"I have got hind legs! I am sitting on them!\"\"Then stretch them out and show me, like this!\" said the wild rabbit. And he began to whirl round and dance, till the little Rabbit got quite dizzy.\"I don\\'t like dancing,\" he said. \"I\\'d rather sit still!\"The Velveteen Rabbit by Margery Williams', metadata={'source': 'C:/TrainingMaterial/generative-ai/genai-material/trng-1855/trng-git-repo/trng-1855/week-5/assets/the-velveteen-rabbit.pdf', 'page': 6}),\n",
       " Document(page_content='7Created for Lit2Go on the web at etc.usf.edu', metadata={'source': 'C:/TrainingMaterial/generative-ai/genai-material/trng-1855/trng-git-repo/trng-1855/week-5/assets/the-velveteen-rabbit.pdf', 'page': 6}),\n",
       " Document(page_content='But all the while he was longing to dance, for a funny new tickly feeling ran through him, and he felt he would give anything in the world to be able to jump about like these rabbits did.The strange rabbit stopped dancing, and came quite close. He came so close this time that his long whiskers brushed the Velveteen Rabbit\\'s ear, and then he wrinkled his nose suddenly and ﬂattened his ears and jumped backwards.\"He doesn\\'t smell right!\" he exclaimed. \"He isn\\'t a rabbit at all! He isn\\'t real!\"\"I am Real!\" said the little Rabbit. \"I am Real! The Boy said so!\" And he nearly began to cry.Just then there was a sound of footsteps, and the Boy ran past near them, and with a stamp of feet and a ﬂash of white tails the two strange rabbits disappeared.\"Come back and play with me!\" called the little Rabbit. \"Oh, do come back! I know I am Real!\"But there was no answer, only the little ants ran to and fro, and the bracken swayed gently where the two strangers had passed. The Velveteen Rabbit was all alone.\"Oh, dear!\" he thought. \"Why did they run away like that? Why couldn\\'t they stop and talk to me?\"For a long time he lay very still, watching the bracken, and hoping that they would come back. But they never returned, and presently the sun sank lower and the little white moths ﬂuttered out, and the Boy came and carried him home.\\xa0The Velveteen Rabbit by Margery Williams', metadata={'source': 'C:/TrainingMaterial/generative-ai/genai-material/trng-1855/trng-git-repo/trng-1855/week-5/assets/the-velveteen-rabbit.pdf', 'page': 7}),\n",
       " Document(page_content='8Created for Lit2Go on the web at etc.usf.edu', metadata={'source': 'C:/TrainingMaterial/generative-ai/genai-material/trng-1855/trng-git-repo/trng-1855/week-5/assets/the-velveteen-rabbit.pdf', 'page': 7}),\n",
       " Document(page_content=\"Weeks passed, and the little Rabbit grew very old and shabby, but the Boy loved him just as much. He loved him so hard that he loved all his whiskers off, and the pink lining to his ears turned grey, and his brown spots faded. He even began to lose his shape, and he scarcely looked like a rabbit any more, except to the Boy. To him he was always beautiful, and that was all that the little Rabbit cared about. He didn't mind how he looked to other people, because the nursery magic had made him Real, and when you are Real shabbiness doesn't matter.And then, one day, the Boy was ill.His face grew very ﬂushed, and he talked in his sleep, and his little body was so hot that it burned the Rabbit when he held him close. Strange people came and went in the nursery, and a light burned all night and through it all the little Velveteen Rabbit lay there, hidden from sight under the bedclothes, and he never stirred, for he was afraid that if they found him some one might take him away, and he knew that the Boy needed him.It was a long weary time, for the Boy was too ill to play, and the little Rabbit found it rather dull with nothing to do all day long. But he snuggled down patiently, and looked forward to the time when the Boy should be well again, and they would go out in the garden amongst the ﬂowers and the butterﬂies and play splendid games in the raspberry thicket like they used to. All sorts of delightful things he planned, and while the Boy lay half asleep he crept up close to the pillow and whispered them in his ear. And presently the fever turned, and the Boy got better. He was able to sit up in bed and look at picture-books, while the little Rabbit cuddled close at his side. And one day, they let him get up and dress.It was a bright, sunny morning, and the windows stood wide open. They had carried the Boy out on to the balcony, wrapped in a shawl, and the little Rabbit lay tangled up among the bedclothes, thinking.The Velveteen Rabbit by Margery Williams\", metadata={'source': 'C:/TrainingMaterial/generative-ai/genai-material/trng-1855/trng-git-repo/trng-1855/week-5/assets/the-velveteen-rabbit.pdf', 'page': 8}),\n",
       " Document(page_content='9Created for Lit2Go on the web at etc.usf.edu', metadata={'source': 'C:/TrainingMaterial/generative-ai/genai-material/trng-1855/trng-git-repo/trng-1855/week-5/assets/the-velveteen-rabbit.pdf', 'page': 8}),\n",
       " Document(page_content='The Boy was going to the seaside to-morrow. Everything was arranged, and now it only remained to carry out the doctor\\'s orders. They talked about it all, while the little Rabbit lay under the bedclothes, with just his head peeping out, and listened. The room was to be disinfected, and all the books and toys that the Boy had played with in bed must be burnt.\"Hurrah!\" thought the little Rabbit. \"To-morrow we shall go to the seaside!\" For the boy had often talked of the seaside, and he wanted very much to see the big waves coming in, and the tiny crabs, and the sand castles.Just then Nana caught sight of him.\"How about his old Bunny?\" she asked.\"That?\" said the doctor. \"Why, it\\'s a mass of scarlet fever germs!–Burn it at once. What? Nonsense! Get him a new one. He mustn\\'t have that any more!\"And so the little Rabbit was put into a sack with the old picture-books and a lot of rubbish, and carried out to the end of the garden behind the fowl-house. That was a ﬁne place to make a bonﬁre, only the gardener was too busy just then to attend to it. He had the potatoes to dig and the green peas to gather, but next morning he promised to come quite early and burn the whole lot.That night the Boy slept in a different bedroom, and he had a new bunny to sleep with him. It was a splendid bunny, all white plush with real glass eyes, but the Boy was too excited to care very much about it. For to-morrow he was going to the seaside, and that in itself was such a wonderful thing that he could think of nothing else.And while the Boy was asleep, dreaming of the seaside, the little Rabbit lay among the old picture-books in the corner behind the fowl-house, and he felt very lonely. The sack had been left untied, and so by The Velveteen Rabbit by Margery Williams', metadata={'source': 'C:/TrainingMaterial/generative-ai/genai-material/trng-1855/trng-git-repo/trng-1855/week-5/assets/the-velveteen-rabbit.pdf', 'page': 9}),\n",
       " Document(page_content='10Created for Lit2Go on the web at etc.usf.edu', metadata={'source': 'C:/TrainingMaterial/generative-ai/genai-material/trng-1855/trng-git-repo/trng-1855/week-5/assets/the-velveteen-rabbit.pdf', 'page': 9}),\n",
       " Document(page_content='wriggling a bit he was able to get his head through the opening and look out. He was shivering a little, for he had always been used to sleeping in a proper bed, and by this time his coat had worn so thin and threadbare from hugging that it was no longer any protection to him. Near by he could see the thicket of raspberry canes, growing tall and close like a tropical jungle, in whose shadow he had played with the Boy on bygone mornings. He thought of those long sunlit hours in the garden–how happy they were–and a great sadness came over him. He seemed to see them all pass before him, each more beautiful than the other, the fairy huts in the ﬂower-bed, the quiet evenings in the wood when he lay in the bracken and the little ants ran over his paws; the wonderful day when he ﬁrst knew that he was Real. He thought of the Skin Horse, so wise and gentle, and all that he had told him. Of what use was it to be loved and lose one\\'s beauty and become Real if it all ended like this? And a tear, a real tear, trickled down his little shabby velvet nose and fell to the ground.And then a strange thing happened. For where the tear had fallen a ﬂower grew out of the ground, a mysterious ﬂower, not at all like any that grew in the garden. It had slender green leaves the colour of emeralds, and in the centre of the leaves a blossom like a golden cup. It was so beautiful that the little Rabbit forgot to cry, and just lay there watching it. And presently the blossom opened, and out of it there stepped a fairy.She was quite the loveliest fairy in the whole world. Her dress was of pearl and dew-drops, and there were ﬂowers round her neck and in her hair, and her face was like the most perfect ﬂower of all. And she came close to the little Rabbit and gathered him up in her arms and kissed him on his velveteen nose that was all damp from crying.\"Little Rabbit,\" she said, \"don\\'t you know who I am?\"The Velveteen Rabbit by Margery Williams', metadata={'source': 'C:/TrainingMaterial/generative-ai/genai-material/trng-1855/trng-git-repo/trng-1855/week-5/assets/the-velveteen-rabbit.pdf', 'page': 10}),\n",
       " Document(page_content='11Created for Lit2Go on the web at etc.usf.edu', metadata={'source': 'C:/TrainingMaterial/generative-ai/genai-material/trng-1855/trng-git-repo/trng-1855/week-5/assets/the-velveteen-rabbit.pdf', 'page': 10}),\n",
       " Document(page_content='The Rabbit looked up at her, and it seemed to him that he had seen her face before, but he couldn\\'t think where.\"I am the nursery magic Fairy,\" she said. \"I take care of all the playthings that the children have loved. When they are old and worn out and the children don\\'t need them any more, then I come and take them away with me and turn them into Real.\"\"Wasn\\'t I Real before?\" asked the little Rabbit.\"You were Real to the Boy,\" the Fairy said, \"because he loved you. Now you shall be Real to every one.\"And she held the little Rabbit close in her arms and ﬂew with him into the wood.It was light now, for the moon had risen. All the forest was beautiful, and the fronds of the bracken shone like frosted silver. In the open glade between the tree-trunks the wild rabbits danced with their shadows on the velvet grass, but when they saw the Fairy they all stopped dancing and stood round in a ring to stare at her.\"I\\'ve brought you a new playfellow,\" the Fairy said. \"You must be very kind to him and teach him all he needs to know in Rabbit-land, for he is going to live with you for ever and ever!\"And she kissed the little Rabbit again and put him down on the grass.\"Run and play, little Rabbit!\" she said.But the little Rabbit sat quite still for a moment and never moved. For when he saw all the wild rabbits dancing around him he suddenly remembered about his hind legs, and he didn\\'t want them to see that he was made all in one piece. He did not know that when the Fairy kissed him that last time she had changed him altogether. And he might have The Velveteen Rabbit by Margery Williams', metadata={'source': 'C:/TrainingMaterial/generative-ai/genai-material/trng-1855/trng-git-repo/trng-1855/week-5/assets/the-velveteen-rabbit.pdf', 'page': 11}),\n",
       " Document(page_content='12Created for Lit2Go on the web at etc.usf.edu', metadata={'source': 'C:/TrainingMaterial/generative-ai/genai-material/trng-1855/trng-git-repo/trng-1855/week-5/assets/the-velveteen-rabbit.pdf', 'page': 11}),\n",
       " Document(page_content='sat there a long time, too shy to move, if just then something hadn\\'t tickled his nose, and before he thought what he was doing he lifted his hind toe to scratch it.And he found that he actually had hind legs! Instead of dingy velveteen he had brown fur, soft and shiny, his ears twitched by themselves, and his whiskers were so long that they brushed the grass. He gave one leap and the joy of using those hind legs was so great that he went springing about the turf on them, jumping sideways and whirling round as the others did, and he grew so excited that when at last he did stop to look for the Fairy she had gone.He was a Real Rabbit at last, at home with the other rabbits.\\xa0Autumn passed and Winter, and in the Spring, when the days grew warm and sunny, the Boy went out to play in the wood behind the house. And while he was playing, two rabbits crept out from the bracken and peeped at him. One of them was brown all over, but the other had strange markings under his fur, as though long ago he had been spotted, and the spots still showed through. And about his little soft nose and his round black eyes there was something familiar, so that the Boy thought to himself:\"Why, he looks just like my old Bunny that was lost when I had scarlet fever!\"But he never knew that it really was his own Bunny, come back to look at the child who had ﬁrst helped him to be Real.THE ENDThe Velveteen Rabbit by Margery Williams', metadata={'source': 'C:/TrainingMaterial/generative-ai/genai-material/trng-1855/trng-git-repo/trng-1855/week-5/assets/the-velveteen-rabbit.pdf', 'page': 12}),\n",
       " Document(page_content='13Created for Lit2Go on the web at etc.usf.edu', metadata={'source': 'C:/TrainingMaterial/generative-ai/genai-material/trng-1855/trng-git-repo/trng-1855/week-5/assets/the-velveteen-rabbit.pdf', 'page': 12})]"
      ]
     },
     "execution_count": 41,
     "metadata": {},
     "output_type": "execute_result"
    }
   ],
   "source": [
    "# text spliting using  recursive character splitter\n",
    "from langchain.text_splitter import RecursiveCharacterTextSplitter\n",
    "\n",
    "text_splitter = RecursiveCharacterTextSplitter(\n",
    "    chunk_size = 1000,\n",
    "    chunk_overlap = 50,\n",
    "    separators=['\\n', '\\n\\n']\n",
    ")\n",
    "\n",
    "documents = text_splitter.split_documents(pages)\n",
    "\n",
    "documents"
   ]
  },
  {
   "cell_type": "code",
   "execution_count": null,
   "metadata": {},
   "outputs": [],
   "source": [
    "from langchain.vectorstores import Pinecone\n",
    "from langchain.embeddings.huggingface import HuggingFaceEmbeddings\n",
    "\n",
    "# embedding model from hf\n",
    "embeddings = HuggingFaceEmbeddings(\n",
    "    model_name='thenlper/gte-large'\n",
    ")\n",
    "\n",
    "index = 'trng-index'\n",
    "\n",
    "result = [ Pinecone.from_documents(documents,embeddings.embed_documents, index_name =index)]\n",
    "\n",
    "result"
   ]
  },
  {
   "cell_type": "code",
   "execution_count": null,
   "metadata": {},
   "outputs": [],
   "source": [
    "import pinecone\n",
    "from pinecone import Pinecone\n",
    "import os\n",
    "from dotenv import load_dotenv\n",
    "\n",
    "load_dotenv()\n",
    "\n",
    "key = os.getenv('PINECONE_API_KEY')\n",
    "\n",
    "client = Pinecone(api_key=key)\n",
    "\n",
    "index = client.Index('trng-index')"
   ]
  },
  {
   "cell_type": "code",
   "execution_count": 59,
   "metadata": {},
   "outputs": [
    {
     "name": "stderr",
     "output_type": "stream",
     "text": [
      "c:\\TrainingMaterial\\generative-ai\\genai-material\\.venv\\Lib\\site-packages\\langchain_community\\vectorstores\\pinecone.py:75: UserWarning: Passing in `embedding` as a Callable is deprecated. Please pass in an Embeddings object instead.\n",
      "  warnings.warn(\n"
     ]
    },
    {
     "data": {
      "text/plain": [
       "'  Sure! Here\\'s a summary of the story of \"The Velveteen Rabbit\" based on the provided text:\\n\\nThe story begins with a description of a velveteen rabbit, who is one of the toys in a boy\\'s stocking on Christmas morning. The rabbit is initially loved and played with, but eventually gets forgotten as the boy receives other presents. The rabbit lives in the toy cupboard or on the nursery floor and is shy and awkward, feeling inferior to the other toys. One day, the rabbit is taken by the boy to a wood where he sees some real rabbits playing. The velveteen rabbit longs to join them but is too shy. He returns to the boy\\'s home and is left alone in the nursery.\\n\\nThe story then jumps to the velveteen rabbit sitting in the bracken, watching two strange rabbits creep out of the tall bracken near him. They are rabbits like himself, but furry and brand-new. They twitch their noses and creep close to him, and the velveteen rabbit is curious but too shy to move. He eventually scratches his nose, and to his surprise, he finds that he has hind legs! He starts jumping and playing with the other rabbits, feeling joyful and excited.\\n\\nThe story then skips to the boy going out to play in the wood behind the house, where he sees two rabbits creeping out from the bracken. One of them looks familiar, and the boy realizes it\\'s his old bunny that was lost when he had scarlet fever. The story ends with the velveteen rabbit, now a real rabbit, looking at the child who had first helped him become real.'"
      ]
     },
     "execution_count": 59,
     "metadata": {},
     "output_type": "execute_result"
    }
   ],
   "source": [
    "from langchain.vectorstores.pinecone import Pinecone\n",
    "from langchain.chains import RetrievalQA\n",
    "\n",
    "\n",
    "vectordb = Pinecone(index, embeddings.embed_query, \"text\")\n",
    "\n",
    "retreiver = vectordb.as_retriever()\n",
    "\n",
    "chain = RetrievalQA.from_chain_type(llm=model, chain_type=\"stuff\", retriever=retreiver)\n",
    "\n",
    "chain.run(\"rabbit\")"
   ]
  },
  {
   "cell_type": "code",
   "execution_count": null,
   "metadata": {},
   "outputs": [],
   "source": [
    "from langchain.retrievers import MultiQueryRetriever\n",
    "\n",
    "retreiver = MultiQueryRetriever.from_llm(\n",
    "    retriever= retreiver,\n",
    "    llm = model\n",
    "    )\n",
    "\n",
    "retreiver.get_relevant_documents(\"the boy\")"
   ]
  },
  {
   "cell_type": "markdown",
   "metadata": {},
   "source": []
  }
 ],
 "metadata": {
  "kernelspec": {
   "display_name": ".venv",
   "language": "python",
   "name": "python3"
  },
  "language_info": {
   "codemirror_mode": {
    "name": "ipython",
    "version": 3
   },
   "file_extension": ".py",
   "mimetype": "text/x-python",
   "name": "python",
   "nbconvert_exporter": "python",
   "pygments_lexer": "ipython3",
   "version": "3.11.0"
  }
 },
 "nbformat": 4,
 "nbformat_minor": 2
}
