{
 "cells": [
  {
   "cell_type": "markdown",
   "metadata": {},
   "source": [
    "# Lecture Plan\n",
    " \n",
    "1. Langchain Agents\n",
    "2. Langchain Tools\n",
    "   - built in\n",
    "   - custom\n",
    "   - tool kits\n",
    "3. Memroy\n",
    "   - Chat Message History\n",
    "   - Conversational Buffer Memory\n",
    "   - Conversational Window Memory\n",
    "   - Conversational Summary Memory"
   ]
  },
  {
   "cell_type": "markdown",
   "metadata": {},
   "source": [
    "#### Agents\n",
    "\n",
    "Agents are used to take dynamic actions using a language model.\n",
    "\n",
    "The agent requires:\n",
    "\n",
    "1. A base llm\n",
    "2. tool/tools\n",
    "3. system message (optional)\n",
    "\n",
    "#### Tools\n",
    "\n",
    "\n",
    "- builtin tools\n",
    "- took kits\n",
    "- custom tools"
   ]
  },
  {
   "cell_type": "code",
   "execution_count": null,
   "metadata": {},
   "outputs": [],
   "source": [
    "from langchain.agents import AgentExecutor, initialize_agent, ConversationalAgent\n",
    "from langchain.memory import ConversationBufferMemory\n",
    "from langchain.agents import load_tools\n",
    "\n",
    "\n",
    "agent = ConversationalAgent.from_llm_and_tools(\n",
    "    \n",
    ")"
   ]
  }
 ],
 "metadata": {
  "kernelspec": {
   "display_name": ".venv",
   "language": "python",
   "name": "python3"
  },
  "language_info": {
   "name": "python",
   "version": "3.11.0"
  }
 },
 "nbformat": 4,
 "nbformat_minor": 2
}
